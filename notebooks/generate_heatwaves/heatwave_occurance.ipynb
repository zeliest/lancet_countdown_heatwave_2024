{
 "cells": [
  {
   "cell_type": "markdown",
   "metadata": {},
   "source": [
    "# Calculate heatwave occurrances \n",
    "\n",
    "## Heatwave definition\n",
    "\n",
    "Heatwaves are now defined as:\n",
    "\n",
    "Tmin > 95percentile AND Tmax > 95percentile\n",
    "\n",
    "For more than 2 consecutive days (i.e. total of 3 or more days).\n",
    "\n",
    "This replaces the definition of only Tmin > 99percentile for more than 3 consecutive days (total of 4 or more days).\n",
    "\n",
    "This is what is requested from the Lancet. To be honest it's not clear whether this produces a substantially 'better' indicator since all heatwave indicators are arbitrary in absence of covariate data (i.e. impact data). Furthermore we know that the health impacts are mediated by many other things, so in any case we are truely interested just in the trends i.e. demonstrating that there is a) more heatwaves and b) more exposure to heatwaves - this can be followed by local studies but (as always) the point is to present a general risk factor trend.\n"
   ]
  },
  {
   "cell_type": "code",
   "execution_count": 2,
   "metadata": {},
   "outputs": [],
   "source": [
    "from pathlib import Path\n",
    "\n",
    "import numpy as np\n",
    "import pandas as pd\n",
    "import xarray as xr\n",
    "import matplotlib.pyplot as plt\n",
    "import cartopy.crs as ccrs\n",
    "\n",
    "from scipy import stats\n",
    "\n",
    "from tqdm.notebook import tqdm, tnrange\n",
    "from dask.diagnostics import ProgressBar\n",
    "from joblib import Parallel, delayed\n",
    "import os\n",
    "import sys\n",
    "\n",
    "project_path = os.path.abspath(os.path.join('..', '..'))\n",
    "if project_path not in sys.path:\n",
    "    sys.path.insert(0, project_path)\n",
    "    \n",
    "from source.config import DATA_SRC, WEATHER_SRC\n",
    "from source import heatwave_indices\n",
    "\n",
    "xr.set_options(keep_attrs=True)\n",
    "\n",
    "# Figure settings\n",
    "plt.rcParams['figure.dpi'] = 100\n",
    "plt.rcParams['savefig.dpi'] = 300\n",
    "plt.rcParams['figure.figsize'] = (5,2.5)\n",
    "plt.rcParams['figure.titlesize'] = 'medium'\n",
    "plt.rcParams['axes.titlesize'] = 'medium'\n",
    "plt.rcParams['savefig.bbox'] = 'tight'"
   ]
  },
  {
   "cell_type": "code",
   "execution_count": 3,
   "metadata": {},
   "outputs": [],
   "source": [
    "MAP_PROJECTION = ccrs.EckertIII()"
   ]
  },
  {
   "cell_type": "markdown",
   "metadata": {},
   "source": [
    "### Setup Paths\n",
    "\n",
    "> NOTE: considered just adding the newest year each time instead of re-calculating the whole thing. HOWEVER in reality, the input data is still changing year to year, so far have needed to re-calculate anyway (e.g. change in resolution, change from ERAI to ERA5, in the future probably use ERA5-Land, etc). Although it seems like a cool idea to have a reproducible method where each year you just add one thing, in practice its better to have one 'frozen' output corresponding to each publication, so that it's easy to go back later to find data corresponding to specific results. Additionally, generating one file per year means you have a folder full of files that are harder to share, and the outputs are in the end pretty small (<50MB in Float32)}."
   ]
  },
  {
   "cell_type": "markdown",
   "metadata": {},
   "source": [
    "# TODO adopt ERA5 Land one day, very large data could be a challenge, might need to cut globe into smaller parts to skip the oceans"
   ]
  },
  {
   "cell_type": "code",
   "execution_count": 4,
   "metadata": {},
   "outputs": [],
   "source": [
    "MAX_YEAR = 2023\n",
    "\n",
    "REFERENCE_YEAR_START = 1986\n",
    "REFERENCE_YEAR_END = 2005\n",
    "\n",
    "\n",
    "TEMPERATURES_FOLDER = WEATHER_SRC / 'era5_0.25deg' / 'daily_temperature_summary'\n",
    "CLIMATOLOGY_QUANTILES_FOLDER = WEATHER_SRC / 'era5_0.25deg' / 'quantiles'\n",
    "\n",
    "\n",
    "RESULTS_FOLDER = DATA_SRC / 'lancet'/ 'heatwaves'\n",
    "RESULTS_FOLDER.mkdir(exist_ok=True)\n",
    "\n",
    "INTERMEDIATE_RESULTS_FOLDER = DATA_SRC / 'lancet'/ 'heatwaves'/ f'results_{MAX_YEAR+1}'\n",
    "INTERMEDIATE_RESULTS_FOLDER.mkdir(exist_ok=True)\n"
   ]
  },
  {
   "cell_type": "code",
   "execution_count": 5,
   "metadata": {},
   "outputs": [],
   "source": [
    "assert INTERMEDIATE_RESULTS_FOLDER.is_dir()\n",
    "assert RESULTS_FOLDER.is_dir()"
   ]
  },
  {
   "cell_type": "code",
   "execution_count": 11,
   "metadata": {},
   "outputs": [],
   "source": [
    "# quantiles_files = list(CLIMATOLOGY_QUANTILES.rglob('*.nc'))"
   ]
  },
  {
   "cell_type": "code",
   "execution_count": 10,
   "metadata": {},
   "outputs": [],
   "source": [
    "temperature_files = [(year, TEMPERATURES_FOLDER / f'{year}_temperature_summary.nc') for year in range(2022, MAX_YEAR+1)]"
   ]
  },
  {
   "cell_type": "markdown",
   "metadata": {},
   "source": [
    "## Load ERA5 reference temperature quantiles\n",
    "\n",
    "Load both the tmin and tmax quatiles and place in a list"
   ]
  },
  {
   "cell_type": "code",
   "execution_count": 7,
   "metadata": {},
   "outputs": [],
   "source": [
    "QUANTILES = [0.95]\n",
    "QUANTILE = 0.95\n",
    "t_var = 'tmin'\n",
    "CLIMATOLOGY_QUANTILES = (CLIMATOLOGY_QUANTILES_FOLDER / \n",
    "                         f'daily_{t_var}_quantiles_{\"_\".join([str(int(100*q)) for q in QUANTILES])}_1986-2005.nc')\n",
    "t_min_quantiles = xr.open_dataset(CLIMATOLOGY_QUANTILES)#\n",
    "t_min_threshold = t_min_quantiles.sel(quantile=QUANTILE, drop=True, tolerance=0.001, method='nearest')\n",
    "\n",
    "t_var = 'tmax'\n",
    "CLIMATOLOGY_QUANTILES = (CLIMATOLOGY_QUANTILES_FOLDER / \n",
    "                         f'daily_{t_var}_quantiles_{\"_\".join([str(int(100*q)) for q in QUANTILES])}_1986-2005.nc')\n",
    "t_max_quantiles = xr.open_dataset(CLIMATOLOGY_QUANTILES)#\n",
    "t_max_threshold = t_max_quantiles.sel(quantile=QUANTILE, drop=True, tolerance=0.001, method='nearest')\n",
    "\n",
    "\n",
    "t_var = 'tmean'\n",
    "CLIMATOLOGY_QUANTILES = (CLIMATOLOGY_QUANTILES_FOLDER / \n",
    "                         f'daily_{t_var}_quantiles_{\"_\".join([str(int(100*q)) for q in QUANTILES])}_1986-2005.nc')\n",
    "\n",
    "t_thresholds = [t_min_threshold.to_array().squeeze(), t_max_threshold.to_array().squeeze()]"
   ]
  },
  {
   "cell_type": "code",
   "execution_count": 8,
   "metadata": {},
   "outputs": [],
   "source": [
    "cos_lat = np.cos(np.radians(t_min_threshold.latitude))"
   ]
  },
  {
   "cell_type": "markdown",
   "metadata": {},
   "source": [
    "# Define calculation functions for counting heatwave occurances\n",
    "\n",
    "Apply heatwave index function to selected vars using selected threshold days"
   ]
  },
  {
   "cell_type": "code",
   "execution_count": 11,
   "metadata": {},
   "outputs": [],
   "source": [
    "def ds_for_year(year):\n",
    "    ds = xr.open_dataset(TEMPERATURES_FOLDER / f'{year}_temperature_summary.nc')\n",
    "    ds = ds.transpose('time','latitude','longitude')\n",
    "    return ds\n",
    "    \n",
    "\n",
    "def apply_func_for_file(func, year, t_thresholds, t_var_names, days_threshold=2):\n",
    "    ds = ds_for_year(year)\n",
    "    \n",
    "    datasets_year = [ds[name] for name in t_var_names]\n",
    "    result = func(datasets_year, t_thresholds, days_threshold)\n",
    "    \n",
    "    # Add a year dimension matching the input file\n",
    "    result = result.expand_dims(dim={'year': [year]})\n",
    "    return year, result\n",
    "\n",
    "def apply_func_and_save(func, year, output_folder, t_thresholds,  t_var_names=['tmin', 'tmax'], \n",
    "                        days_threshold=2, overwrite=False,\n",
    "                        filename_pattern='indicator_{year}.nc'\n",
    "                       ):\n",
    "    output_file = output_folder / filename_pattern.format(year=year)\n",
    "    if output_file.exists() is False and overwrite is False:\n",
    "        year, result = apply_func_for_file(func, year, t_thresholds, t_var_names=t_var_names, days_threshold=days_threshold)\n",
    "        result.to_netcdf(output_file)\n",
    "        return f'Created {output_file}'\n",
    "    else:\n",
    "        return f'Skipped {output_file}, already exists'\n",
    "    \n"
   ]
  },
  {
   "cell_type": "markdown",
   "metadata": {},
   "source": [
    "# Calculate heatwave occurances\n"
   ]
  },
  {
   "cell_type": "markdown",
   "metadata": {},
   "source": [
    "## Multi-threshold versions\n"
   ]
  },
  {
   "cell_type": "markdown",
   "metadata": {
    "tags": []
   },
   "source": [
    "### Heatwave number of days"
   ]
  },
  {
   "cell_type": "code",
   "execution_count": 13,
   "metadata": {},
   "outputs": [
    {
     "name": "stderr",
     "output_type": "stream",
     "text": [
      "[Parallel(n_jobs=6)]: Using backend LokyBackend with 6 concurrent workers.\n",
      "[Parallel(n_jobs=6)]: Done   2 out of   2 | elapsed:   30.8s remaining:    0.0s\n",
      "[Parallel(n_jobs=6)]: Done   2 out of   2 | elapsed:   30.8s finished\n"
     ]
    }
   ],
   "source": [
    "out_folder = INTERMEDIATE_RESULTS_FOLDER / 'heatwave_days_era5'\n",
    "\n",
    "out_folder.mkdir(exist_ok=True)\n",
    "\n",
    "res = Parallel(n_jobs=6, verbose=3)(\n",
    "    delayed(apply_func_and_save)(heatwave_indices.heatwaves_days_multi_threshold, year, out_folder, t_thresholds, ['t_min', 't_max'])\n",
    "    for year, file in  temperature_files\n",
    ")\n",
    "\n"
   ]
  },
  {
   "cell_type": "markdown",
   "metadata": {
    "tags": []
   },
   "source": [
    "### Heatwave Counts"
   ]
  },
  {
   "cell_type": "code",
   "execution_count": 21,
   "metadata": {},
   "outputs": [
    {
     "name": "stderr",
     "output_type": "stream",
     "text": [
      "[Parallel(n_jobs=6)]: Using backend LokyBackend with 6 concurrent workers.\n",
      "[Parallel(n_jobs=6)]: Done  29 tasks      | elapsed:  3.1min\n",
      "[Parallel(n_jobs=6)]: Done  44 out of  44 | elapsed:  4.3min finished\n"
     ]
    }
   ],
   "source": [
    "out_folder = INTERMEDIATE_RESULTS_FOLDER / 'heatwave_counts_era5'\n",
    "\n",
    "out_folder.mkdir(exist_ok=True)\n",
    "\n",
    "res = Parallel(n_jobs=6, verbose=2)(\n",
    "    delayed(apply_func_and_save)(heatwave_indices.heatwaves_counts_multi_threshold, year, out_folder, t_thresholds, ['t_min', 't_max'])\n",
    "    for year, file in  temperature_files\n",
    ")\n"
   ]
  }
 ],
 "metadata": {
  "hide_input": false,
  "kernelspec": {
   "display_name": "Python 3 (ipykernel)",
   "language": "python",
   "name": "python3"
  },
  "language_info": {
   "codemirror_mode": {
    "name": "ipython",
    "version": 3
   },
   "file_extension": ".py",
   "mimetype": "text/x-python",
   "name": "python",
   "nbconvert_exporter": "python",
   "pygments_lexer": "ipython3",
   "version": "3.11.6"
  },
  "notify_time": "30"
 },
 "nbformat": 4,
 "nbformat_minor": 4
}
