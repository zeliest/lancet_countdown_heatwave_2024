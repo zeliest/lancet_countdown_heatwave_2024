{
 "cells": [
  {
   "cell_type": "markdown",
   "metadata": {},
   "source": [
    "# Heatwave exposures by country, WHO region, HDI index class etc"
   ]
  },
  {
   "cell_type": "code",
   "execution_count": 1,
   "metadata": {},
   "outputs": [],
   "source": [
    "from pathlib import Path\n",
    "import numpy as np\n",
    "import pandas as pd\n",
    "\n",
    "import xarray as xr\n",
    "import matplotlib.pyplot as plt\n",
    "\n",
    "from cartopy import crs as ccrs\n",
    "from scipy import stats\n",
    "from tqdm.notebook import tqdm\n",
    "import os\n",
    "import sys\n",
    "\n",
    "project_path = os.path.abspath(os.path.join('..', '..', '..'))\n",
    "if project_path not in sys.path:\n",
    "    sys.path.insert(0, project_path)\n",
    "\n",
    "from source.config import DATA_SRC, POP_DATA_SRC, WEATHER_SRC"
   ]
  },
  {
   "cell_type": "code",
   "execution_count": 2,
   "metadata": {},
   "outputs": [],
   "source": [
    "# Figure settings\n",
    "plt.rcParams['figure.dpi'] = 100\n",
    "plt.rcParams['savefig.dpi'] = 300\n",
    "plt.rcParams['figure.figsize'] = (5,2.5)\n",
    "plt.rcParams['figure.titlesize'] = 'medium'\n",
    "plt.rcParams['axes.titlesize'] = 'medium'"
   ]
  },
  {
   "cell_type": "code",
   "execution_count": 3,
   "metadata": {},
   "outputs": [],
   "source": [
    "MAX_YEAR = 2023\n",
    "MIN_YEAR = 1980\n",
    "REFERENCE_YEAR_START = 1986\n",
    "REFERENCE_YEAR_END = 2005\n",
    "\n",
    "RESULTS_FOLDER =  DATA_SRC / 'lancet'/ 'heatwaves'/ f'results_{MAX_YEAR + 1}/gpw_exposure'\n",
    "\n",
    "INTERMEDIATE_RESULTS_FOLDER = DATA_SRC / 'lancet'/ 'heatwaves'/ f'results_{MAX_YEAR + 1}/gpw_exposure'\n",
    "\n",
    "\n",
    "GPW_FILE = DATA_SRC/ 'lancet/population/UN WPP-Adjusted Population Count v4.11 2000-2020 15min era compat.nc'\n",
    "\n",
    "# Using the hybrid version\n",
    "# DEMOGRAPHICS_TOTALS_FILE = POP_DATA_SRC / 'demographics_2000_2020_15_min_era_compat.nc'\n",
    "DEMOGRAPHICS_TOTALS_FILE = POP_DATA_SRC / 'demographics_hybrid_1950_2020_15_min_era_compat.nc'"
   ]
  },
  {
   "cell_type": "code",
   "execution_count": null,
   "metadata": {},
   "outputs": [],
   "source": []
  },
  {
   "cell_type": "code",
   "execution_count": 4,
   "metadata": {},
   "outputs": [],
   "source": [
    "INFANTS_TOTALS_FILE = POP_DATA_SRC / 'infants_1950_2020_hybrid_15_min_era_compat.nc'"
   ]
  },
  {
   "cell_type": "code",
   "execution_count": 5,
   "metadata": {},
   "outputs": [],
   "source": [
    "GPW_FILE = DATA_SRC/ 'lancet/population/UN WPP-Adjusted Population Count v4.11 2000-2020 15min era compat.nc'\n",
    "\n",
    "MAP_PROJECTION = ccrs.EckertIII()"
   ]
  },
  {
   "cell_type": "markdown",
   "metadata": {},
   "source": [
    "## GPW data"
   ]
  },
  {
   "cell_type": "code",
   "execution_count": 6,
   "metadata": {},
   "outputs": [],
   "source": [
    "gpw_dat = xr.open_dataset(GPW_FILE)"
   ]
  },
  {
   "cell_type": "markdown",
   "metadata": {},
   "source": [
    "## Load population and demographic data"
   ]
  },
  {
   "cell_type": "code",
   "execution_count": 7,
   "metadata": {},
   "outputs": [],
   "source": [
    "demographics_totals = xr.open_dataarray(DEMOGRAPHICS_TOTALS_FILE)\n",
    "population_over_65 = demographics_totals.sel(age_band_lower_bound=65).load()"
   ]
  },
  {
   "cell_type": "code",
   "execution_count": 8,
   "metadata": {},
   "outputs": [],
   "source": [
    "extrapolated_years = np.arange(2020+1, MAX_YEAR+1)"
   ]
  },
  {
   "cell_type": "code",
   "execution_count": 9,
   "metadata": {},
   "outputs": [],
   "source": [
    "population_over_65 = (\n",
    "    xr.concat([demographics_totals, \n",
    "               demographics_totals.interp(year=extrapolated_years, kwargs=dict(fill_value=\"extrapolate\")).compute()\n",
    "              ], 'year').sel(age_band_lower_bound=65).load())"
   ]
  },
  {
   "cell_type": "code",
   "execution_count": 10,
   "metadata": {},
   "outputs": [],
   "source": [
    "population_infants = xr.open_dataarray(INFANTS_TOTALS_FILE)"
   ]
  },
  {
   "cell_type": "code",
   "execution_count": 11,
   "metadata": {},
   "outputs": [],
   "source": [
    "population_infants = (\n",
    "    xr.concat([population_infants, \n",
    "               population_infants.interp(year=extrapolated_years, kwargs=dict(fill_value=\"extrapolate\")).compute()\n",
    "              ], 'year').load())"
   ]
  },
  {
   "cell_type": "code",
   "execution_count": 12,
   "metadata": {},
   "outputs": [],
   "source": [
    "population = xr.concat([population_infants, population_over_65], dim='age_band_lower_bound')\n",
    "population.name = 'population'\n",
    "# chunk for parallel\n",
    "population = population.chunk(dict(age_band_lower_bound=1, year=20))"
   ]
  },
  {
   "cell_type": "markdown",
   "metadata": {},
   "source": [
    "## Load country data"
   ]
  },
  {
   "cell_type": "code",
   "execution_count": 13,
   "metadata": {},
   "outputs": [],
   "source": [
    "COUNTRY_ID_LOOKUP = DATA_SRC/ 'lancet/population/gpwv4/gpw_v4_national_identifier_lookup.txt'\n",
    "\n",
    "COUNTRIES_RASTER = gpw_dat['National Identifier Grid, v4.11 (2010): National Identifier Grid'].load()\n",
    "\n",
    "COUNTRIES_LOOKUP = pd.read_csv(COUNTRY_ID_LOOKUP,sep='\\t')"
   ]
  },
  {
   "cell_type": "code",
   "execution_count": 14,
   "metadata": {},
   "outputs": [
    {
     "data": {
      "text/html": [
       "<div><svg style=\"position: absolute; width: 0; height: 0; overflow: hidden\">\n",
       "<defs>\n",
       "<symbol id=\"icon-database\" viewBox=\"0 0 32 32\">\n",
       "<path d=\"M16 0c-8.837 0-16 2.239-16 5v4c0 2.761 7.163 5 16 5s16-2.239 16-5v-4c0-2.761-7.163-5-16-5z\"></path>\n",
       "<path d=\"M16 17c-8.837 0-16-2.239-16-5v6c0 2.761 7.163 5 16 5s16-2.239 16-5v-6c0 2.761-7.163 5-16 5z\"></path>\n",
       "<path d=\"M16 26c-8.837 0-16-2.239-16-5v6c0 2.761 7.163 5 16 5s16-2.239 16-5v-6c0 2.761-7.163 5-16 5z\"></path>\n",
       "</symbol>\n",
       "<symbol id=\"icon-file-text2\" viewBox=\"0 0 32 32\">\n",
       "<path d=\"M28.681 7.159c-0.694-0.947-1.662-2.053-2.724-3.116s-2.169-2.030-3.116-2.724c-1.612-1.182-2.393-1.319-2.841-1.319h-15.5c-1.378 0-2.5 1.121-2.5 2.5v27c0 1.378 1.122 2.5 2.5 2.5h23c1.378 0 2.5-1.122 2.5-2.5v-19.5c0-0.448-0.137-1.23-1.319-2.841zM24.543 5.457c0.959 0.959 1.712 1.825 2.268 2.543h-4.811v-4.811c0.718 0.556 1.584 1.309 2.543 2.268zM28 29.5c0 0.271-0.229 0.5-0.5 0.5h-23c-0.271 0-0.5-0.229-0.5-0.5v-27c0-0.271 0.229-0.5 0.5-0.5 0 0 15.499-0 15.5 0v7c0 0.552 0.448 1 1 1h7v19.5z\"></path>\n",
       "<path d=\"M23 26h-14c-0.552 0-1-0.448-1-1s0.448-1 1-1h14c0.552 0 1 0.448 1 1s-0.448 1-1 1z\"></path>\n",
       "<path d=\"M23 22h-14c-0.552 0-1-0.448-1-1s0.448-1 1-1h14c0.552 0 1 0.448 1 1s-0.448 1-1 1z\"></path>\n",
       "<path d=\"M23 18h-14c-0.552 0-1-0.448-1-1s0.448-1 1-1h14c0.552 0 1 0.448 1 1s-0.448 1-1 1z\"></path>\n",
       "</symbol>\n",
       "</defs>\n",
       "</svg>\n",
       "<style>/* CSS stylesheet for displaying xarray objects in jupyterlab.\n",
       " *\n",
       " */\n",
       "\n",
       ":root {\n",
       "  --xr-font-color0: var(--jp-content-font-color0, rgba(0, 0, 0, 1));\n",
       "  --xr-font-color2: var(--jp-content-font-color2, rgba(0, 0, 0, 0.54));\n",
       "  --xr-font-color3: var(--jp-content-font-color3, rgba(0, 0, 0, 0.38));\n",
       "  --xr-border-color: var(--jp-border-color2, #e0e0e0);\n",
       "  --xr-disabled-color: var(--jp-layout-color3, #bdbdbd);\n",
       "  --xr-background-color: var(--jp-layout-color0, white);\n",
       "  --xr-background-color-row-even: var(--jp-layout-color1, white);\n",
       "  --xr-background-color-row-odd: var(--jp-layout-color2, #eeeeee);\n",
       "}\n",
       "\n",
       "html[theme=dark],\n",
       "body.vscode-dark {\n",
       "  --xr-font-color0: rgba(255, 255, 255, 1);\n",
       "  --xr-font-color2: rgba(255, 255, 255, 0.54);\n",
       "  --xr-font-color3: rgba(255, 255, 255, 0.38);\n",
       "  --xr-border-color: #1F1F1F;\n",
       "  --xr-disabled-color: #515151;\n",
       "  --xr-background-color: #111111;\n",
       "  --xr-background-color-row-even: #111111;\n",
       "  --xr-background-color-row-odd: #313131;\n",
       "}\n",
       "\n",
       ".xr-wrap {\n",
       "  display: block !important;\n",
       "  min-width: 300px;\n",
       "  max-width: 700px;\n",
       "}\n",
       "\n",
       ".xr-text-repr-fallback {\n",
       "  /* fallback to plain text repr when CSS is not injected (untrusted notebook) */\n",
       "  display: none;\n",
       "}\n",
       "\n",
       ".xr-header {\n",
       "  padding-top: 6px;\n",
       "  padding-bottom: 6px;\n",
       "  margin-bottom: 4px;\n",
       "  border-bottom: solid 1px var(--xr-border-color);\n",
       "}\n",
       "\n",
       ".xr-header > div,\n",
       ".xr-header > ul {\n",
       "  display: inline;\n",
       "  margin-top: 0;\n",
       "  margin-bottom: 0;\n",
       "}\n",
       "\n",
       ".xr-obj-type,\n",
       ".xr-array-name {\n",
       "  margin-left: 2px;\n",
       "  margin-right: 10px;\n",
       "}\n",
       "\n",
       ".xr-obj-type {\n",
       "  color: var(--xr-font-color2);\n",
       "}\n",
       "\n",
       ".xr-sections {\n",
       "  padding-left: 0 !important;\n",
       "  display: grid;\n",
       "  grid-template-columns: 150px auto auto 1fr 20px 20px;\n",
       "}\n",
       "\n",
       ".xr-section-item {\n",
       "  display: contents;\n",
       "}\n",
       "\n",
       ".xr-section-item input {\n",
       "  display: none;\n",
       "}\n",
       "\n",
       ".xr-section-item input + label {\n",
       "  color: var(--xr-disabled-color);\n",
       "}\n",
       "\n",
       ".xr-section-item input:enabled + label {\n",
       "  cursor: pointer;\n",
       "  color: var(--xr-font-color2);\n",
       "}\n",
       "\n",
       ".xr-section-item input:enabled + label:hover {\n",
       "  color: var(--xr-font-color0);\n",
       "}\n",
       "\n",
       ".xr-section-summary {\n",
       "  grid-column: 1;\n",
       "  color: var(--xr-font-color2);\n",
       "  font-weight: 500;\n",
       "}\n",
       "\n",
       ".xr-section-summary > span {\n",
       "  display: inline-block;\n",
       "  padding-left: 0.5em;\n",
       "}\n",
       "\n",
       ".xr-section-summary-in:disabled + label {\n",
       "  color: var(--xr-font-color2);\n",
       "}\n",
       "\n",
       ".xr-section-summary-in + label:before {\n",
       "  display: inline-block;\n",
       "  content: '►';\n",
       "  font-size: 11px;\n",
       "  width: 15px;\n",
       "  text-align: center;\n",
       "}\n",
       "\n",
       ".xr-section-summary-in:disabled + label:before {\n",
       "  color: var(--xr-disabled-color);\n",
       "}\n",
       "\n",
       ".xr-section-summary-in:checked + label:before {\n",
       "  content: '▼';\n",
       "}\n",
       "\n",
       ".xr-section-summary-in:checked + label > span {\n",
       "  display: none;\n",
       "}\n",
       "\n",
       ".xr-section-summary,\n",
       ".xr-section-inline-details {\n",
       "  padding-top: 4px;\n",
       "  padding-bottom: 4px;\n",
       "}\n",
       "\n",
       ".xr-section-inline-details {\n",
       "  grid-column: 2 / -1;\n",
       "}\n",
       "\n",
       ".xr-section-details {\n",
       "  display: none;\n",
       "  grid-column: 1 / -1;\n",
       "  margin-bottom: 5px;\n",
       "}\n",
       "\n",
       ".xr-section-summary-in:checked ~ .xr-section-details {\n",
       "  display: contents;\n",
       "}\n",
       "\n",
       ".xr-array-wrap {\n",
       "  grid-column: 1 / -1;\n",
       "  display: grid;\n",
       "  grid-template-columns: 20px auto;\n",
       "}\n",
       "\n",
       ".xr-array-wrap > label {\n",
       "  grid-column: 1;\n",
       "  vertical-align: top;\n",
       "}\n",
       "\n",
       ".xr-preview {\n",
       "  color: var(--xr-font-color3);\n",
       "}\n",
       "\n",
       ".xr-array-preview,\n",
       ".xr-array-data {\n",
       "  padding: 0 5px !important;\n",
       "  grid-column: 2;\n",
       "}\n",
       "\n",
       ".xr-array-data,\n",
       ".xr-array-in:checked ~ .xr-array-preview {\n",
       "  display: none;\n",
       "}\n",
       "\n",
       ".xr-array-in:checked ~ .xr-array-data,\n",
       ".xr-array-preview {\n",
       "  display: inline-block;\n",
       "}\n",
       "\n",
       ".xr-dim-list {\n",
       "  display: inline-block !important;\n",
       "  list-style: none;\n",
       "  padding: 0 !important;\n",
       "  margin: 0;\n",
       "}\n",
       "\n",
       ".xr-dim-list li {\n",
       "  display: inline-block;\n",
       "  padding: 0;\n",
       "  margin: 0;\n",
       "}\n",
       "\n",
       ".xr-dim-list:before {\n",
       "  content: '(';\n",
       "}\n",
       "\n",
       ".xr-dim-list:after {\n",
       "  content: ')';\n",
       "}\n",
       "\n",
       ".xr-dim-list li:not(:last-child):after {\n",
       "  content: ',';\n",
       "  padding-right: 5px;\n",
       "}\n",
       "\n",
       ".xr-has-index {\n",
       "  font-weight: bold;\n",
       "}\n",
       "\n",
       ".xr-var-list,\n",
       ".xr-var-item {\n",
       "  display: contents;\n",
       "}\n",
       "\n",
       ".xr-var-item > div,\n",
       ".xr-var-item label,\n",
       ".xr-var-item > .xr-var-name span {\n",
       "  background-color: var(--xr-background-color-row-even);\n",
       "  margin-bottom: 0;\n",
       "}\n",
       "\n",
       ".xr-var-item > .xr-var-name:hover span {\n",
       "  padding-right: 5px;\n",
       "}\n",
       "\n",
       ".xr-var-list > li:nth-child(odd) > div,\n",
       ".xr-var-list > li:nth-child(odd) > label,\n",
       ".xr-var-list > li:nth-child(odd) > .xr-var-name span {\n",
       "  background-color: var(--xr-background-color-row-odd);\n",
       "}\n",
       "\n",
       ".xr-var-name {\n",
       "  grid-column: 1;\n",
       "}\n",
       "\n",
       ".xr-var-dims {\n",
       "  grid-column: 2;\n",
       "}\n",
       "\n",
       ".xr-var-dtype {\n",
       "  grid-column: 3;\n",
       "  text-align: right;\n",
       "  color: var(--xr-font-color2);\n",
       "}\n",
       "\n",
       ".xr-var-preview {\n",
       "  grid-column: 4;\n",
       "}\n",
       "\n",
       ".xr-var-name,\n",
       ".xr-var-dims,\n",
       ".xr-var-dtype,\n",
       ".xr-preview,\n",
       ".xr-attrs dt {\n",
       "  white-space: nowrap;\n",
       "  overflow: hidden;\n",
       "  text-overflow: ellipsis;\n",
       "  padding-right: 10px;\n",
       "}\n",
       "\n",
       ".xr-var-name:hover,\n",
       ".xr-var-dims:hover,\n",
       ".xr-var-dtype:hover,\n",
       ".xr-attrs dt:hover {\n",
       "  overflow: visible;\n",
       "  width: auto;\n",
       "  z-index: 1;\n",
       "}\n",
       "\n",
       ".xr-var-attrs,\n",
       ".xr-var-data {\n",
       "  display: none;\n",
       "  background-color: var(--xr-background-color) !important;\n",
       "  padding-bottom: 5px !important;\n",
       "}\n",
       "\n",
       ".xr-var-attrs-in:checked ~ .xr-var-attrs,\n",
       ".xr-var-data-in:checked ~ .xr-var-data {\n",
       "  display: block;\n",
       "}\n",
       "\n",
       ".xr-var-data > table {\n",
       "  float: right;\n",
       "}\n",
       "\n",
       ".xr-var-name span,\n",
       ".xr-var-data,\n",
       ".xr-attrs {\n",
       "  padding-left: 25px !important;\n",
       "}\n",
       "\n",
       ".xr-attrs,\n",
       ".xr-var-attrs,\n",
       ".xr-var-data {\n",
       "  grid-column: 1 / -1;\n",
       "}\n",
       "\n",
       "dl.xr-attrs {\n",
       "  padding: 0;\n",
       "  margin: 0;\n",
       "  display: grid;\n",
       "  grid-template-columns: 125px auto;\n",
       "}\n",
       "\n",
       ".xr-attrs dt,\n",
       ".xr-attrs dd {\n",
       "  padding: 0;\n",
       "  margin: 0;\n",
       "  float: left;\n",
       "  padding-right: 10px;\n",
       "  width: auto;\n",
       "}\n",
       "\n",
       ".xr-attrs dt {\n",
       "  font-weight: normal;\n",
       "  grid-column: 1;\n",
       "}\n",
       "\n",
       ".xr-attrs dt:hover span {\n",
       "  display: inline-block;\n",
       "  background: var(--xr-background-color);\n",
       "  padding-right: 10px;\n",
       "}\n",
       "\n",
       ".xr-attrs dd {\n",
       "  grid-column: 2;\n",
       "  white-space: pre-wrap;\n",
       "  word-break: break-all;\n",
       "}\n",
       "\n",
       ".xr-icon-database,\n",
       ".xr-icon-file-text2 {\n",
       "  display: inline-block;\n",
       "  vertical-align: middle;\n",
       "  width: 1em;\n",
       "  height: 1.5em !important;\n",
       "  stroke-width: 0;\n",
       "  stroke: currentColor;\n",
       "  fill: currentColor;\n",
       "}\n",
       "</style><pre class='xr-text-repr-fallback'>&lt;xarray.DataArray &#x27;National Identifier Grid, v4.11 (2010): National Identifier Grid&#x27; (\n",
       "                                                                                      latitude: 720,\n",
       "                                                                                      longitude: 1440)&gt;\n",
       "array([[32767., 32767., 32767., ..., 32767., 32767., 32767.],\n",
       "       [32767., 32767., 32767., ..., 32767., 32767., 32767.],\n",
       "       [32767., 32767., 32767., ..., 32767., 32767., 32767.],\n",
       "       ...,\n",
       "       [32767., 32767., 32767., ..., 32767., 32767., 32767.],\n",
       "       [32767., 32767., 32767., ..., 32767., 32767., 32767.],\n",
       "       [32767., 32767., 32767., ..., 32767., 32767., 32767.]],\n",
       "      dtype=float32)\n",
       "Coordinates:\n",
       "  * longitude  (longitude) float64 0.0 0.25 0.5 0.75 ... 359.0 359.2 359.5 359.8\n",
       "  * latitude   (latitude) float64 90.0 89.75 89.5 89.25 ... -89.25 -89.5 -89.75\n",
       "Attributes:\n",
       "    long_name:  National Identifier Grid, v4.11 (2010): National Identifier Grid</pre><div class='xr-wrap' style='display:none'><div class='xr-header'><div class='xr-obj-type'>xarray.DataArray</div><div class='xr-array-name'>'National Identifier Grid, v4.11 (2010): National Identifier Grid'</div><ul class='xr-dim-list'><li><span class='xr-has-index'>latitude</span>: 720</li><li><span class='xr-has-index'>longitude</span>: 1440</li></ul></div><ul class='xr-sections'><li class='xr-section-item'><div class='xr-array-wrap'><input id='section-6b452379-3d8d-4db6-ba9c-13b032f35f8d' class='xr-array-in' type='checkbox' checked><label for='section-6b452379-3d8d-4db6-ba9c-13b032f35f8d' title='Show/hide data repr'><svg class='icon xr-icon-database'><use xlink:href='#icon-database'></use></svg></label><div class='xr-array-preview xr-preview'><span>3.277e+04 3.277e+04 3.277e+04 ... 3.277e+04 3.277e+04 3.277e+04</span></div><div class='xr-array-data'><pre>array([[32767., 32767., 32767., ..., 32767., 32767., 32767.],\n",
       "       [32767., 32767., 32767., ..., 32767., 32767., 32767.],\n",
       "       [32767., 32767., 32767., ..., 32767., 32767., 32767.],\n",
       "       ...,\n",
       "       [32767., 32767., 32767., ..., 32767., 32767., 32767.],\n",
       "       [32767., 32767., 32767., ..., 32767., 32767., 32767.],\n",
       "       [32767., 32767., 32767., ..., 32767., 32767., 32767.]],\n",
       "      dtype=float32)</pre></div></div></li><li class='xr-section-item'><input id='section-5d26ed31-0839-4024-b40b-07306c8eb370' class='xr-section-summary-in' type='checkbox'  checked><label for='section-5d26ed31-0839-4024-b40b-07306c8eb370' class='xr-section-summary' >Coordinates: <span>(2)</span></label><div class='xr-section-inline-details'></div><div class='xr-section-details'><ul class='xr-var-list'><li class='xr-var-item'><div class='xr-var-name'><span class='xr-has-index'>longitude</span></div><div class='xr-var-dims'>(longitude)</div><div class='xr-var-dtype'>float64</div><div class='xr-var-preview xr-preview'>0.0 0.25 0.5 ... 359.2 359.5 359.8</div><input id='attrs-4187fea7-c861-428a-9d50-6c27c3cf241d' class='xr-var-attrs-in' type='checkbox' disabled><label for='attrs-4187fea7-c861-428a-9d50-6c27c3cf241d' title='Show/Hide attributes'><svg class='icon xr-icon-file-text2'><use xlink:href='#icon-file-text2'></use></svg></label><input id='data-3dd4cba6-9979-4f11-a020-0172ad355850' class='xr-var-data-in' type='checkbox'><label for='data-3dd4cba6-9979-4f11-a020-0172ad355850' title='Show/Hide data repr'><svg class='icon xr-icon-database'><use xlink:href='#icon-database'></use></svg></label><div class='xr-var-attrs'><dl class='xr-attrs'></dl></div><div class='xr-var-data'><pre>array([0.0000e+00, 2.5000e-01, 5.0000e-01, ..., 3.5925e+02, 3.5950e+02,\n",
       "       3.5975e+02])</pre></div></li><li class='xr-var-item'><div class='xr-var-name'><span class='xr-has-index'>latitude</span></div><div class='xr-var-dims'>(latitude)</div><div class='xr-var-dtype'>float64</div><div class='xr-var-preview xr-preview'>90.0 89.75 89.5 ... -89.5 -89.75</div><input id='attrs-99d3a049-a917-4cda-a262-4e2564147df8' class='xr-var-attrs-in' type='checkbox' disabled><label for='attrs-99d3a049-a917-4cda-a262-4e2564147df8' title='Show/Hide attributes'><svg class='icon xr-icon-file-text2'><use xlink:href='#icon-file-text2'></use></svg></label><input id='data-d2b48b11-6326-4add-988d-6310fb72e1cf' class='xr-var-data-in' type='checkbox'><label for='data-d2b48b11-6326-4add-988d-6310fb72e1cf' title='Show/Hide data repr'><svg class='icon xr-icon-database'><use xlink:href='#icon-database'></use></svg></label><div class='xr-var-attrs'><dl class='xr-attrs'></dl></div><div class='xr-var-data'><pre>array([ 90.  ,  89.75,  89.5 , ..., -89.25, -89.5 , -89.75])</pre></div></li></ul></div></li><li class='xr-section-item'><input id='section-50dc6dda-edb5-4593-9460-f87bbc37898a' class='xr-section-summary-in' type='checkbox'  checked><label for='section-50dc6dda-edb5-4593-9460-f87bbc37898a' class='xr-section-summary' >Attributes: <span>(1)</span></label><div class='xr-section-inline-details'></div><div class='xr-section-details'><dl class='xr-attrs'><dt><span>long_name :</span></dt><dd>National Identifier Grid, v4.11 (2010): National Identifier Grid</dd></dl></div></li></ul></div></div>"
      ],
      "text/plain": [
       "<xarray.DataArray 'National Identifier Grid, v4.11 (2010): National Identifier Grid' (\n",
       "                                                                                      latitude: 720,\n",
       "                                                                                      longitude: 1440)>\n",
       "array([[32767., 32767., 32767., ..., 32767., 32767., 32767.],\n",
       "       [32767., 32767., 32767., ..., 32767., 32767., 32767.],\n",
       "       [32767., 32767., 32767., ..., 32767., 32767., 32767.],\n",
       "       ...,\n",
       "       [32767., 32767., 32767., ..., 32767., 32767., 32767.],\n",
       "       [32767., 32767., 32767., ..., 32767., 32767., 32767.],\n",
       "       [32767., 32767., 32767., ..., 32767., 32767., 32767.]],\n",
       "      dtype=float32)\n",
       "Coordinates:\n",
       "  * longitude  (longitude) float64 0.0 0.25 0.5 0.75 ... 359.0 359.2 359.5 359.8\n",
       "  * latitude   (latitude) float64 90.0 89.75 89.5 89.25 ... -89.25 -89.5 -89.75\n",
       "Attributes:\n",
       "    long_name:  National Identifier Grid, v4.11 (2010): National Identifier Grid"
      ]
     },
     "execution_count": 14,
     "metadata": {},
     "output_type": "execute_result"
    }
   ],
   "source": [
    "COUNTRIES_RASTER"
   ]
  },
  {
   "cell_type": "code",
   "execution_count": 15,
   "metadata": {
    "tags": []
   },
   "outputs": [],
   "source": [
    "COUNTRIES_LC_GROUPINGS = pd.read_excel('/nfs/n2o/wcr/szelie/lancet/reports/Country Names and groupings - 2023 Report.xlsx', header=1)"
   ]
  },
  {
   "cell_type": "code",
   "execution_count": 16,
   "metadata": {
    "tags": []
   },
   "outputs": [],
   "source": [
    "COUNTRIES_LOOKUP = COUNTRIES_LOOKUP.join(COUNTRIES_LC_GROUPINGS.set_index('ISO3')[['LC Grouping']], on='ISOCODE' )"
   ]
  },
  {
   "cell_type": "code",
   "execution_count": 17,
   "metadata": {},
   "outputs": [],
   "source": [
    "land_mask = (COUNTRIES_RASTER < 2000)"
   ]
  },
  {
   "cell_type": "markdown",
   "metadata": {},
   "source": [
    "## Load region raster references"
   ]
  },
  {
   "cell_type": "code",
   "execution_count": 18,
   "metadata": {},
   "outputs": [],
   "source": [
    "who_regions = xr.open_dataarray(POP_DATA_SRC / 'who_regions_15min_era_compat.nc')\n",
    "\n",
    "hdi_regions = xr.open_dataarray(POP_DATA_SRC / 'hdi_regions_15min_era_compat.nc')"
   ]
  },
  {
   "cell_type": "markdown",
   "metadata": {},
   "source": [
    "## Load exposure data\n",
    "\n",
    "Using the multi-threshold version of the indicator"
   ]
  },
  {
   "cell_type": "code",
   "execution_count": 19,
   "metadata": {},
   "outputs": [],
   "source": [
    "MIN_YEAR = 1980"
   ]
  },
  {
   "cell_type": "code",
   "execution_count": 20,
   "metadata": {},
   "outputs": [],
   "source": [
    "exposures_over65 = xr.open_dataset(INTERMEDIATE_RESULTS_FOLDER / f'heatwave_exposure_change_over65_multi_threshold_{MIN_YEAR}-{MAX_YEAR}.nc')\n",
    "\n",
    "exposures_infants = xr.open_dataset(\n",
    "    INTERMEDIATE_RESULTS_FOLDER / f'heatwave_exposure_change_infants_multi_threshold_{MIN_YEAR}-{MAX_YEAR}.nc')\n",
    "\n",
    "exposures_change = xr.concat([exposures_infants, exposures_over65], dim=pd.Index([0, 65], name='age_band_lower_bound'))\n",
    "\n",
    "exposures_change = exposures_change.chunk(dict(age_band_lower_bound=1, year=20))\n",
    "\n",
    "exposures_abs = xr.open_dataset(\n",
    "    INTERMEDIATE_RESULTS_FOLDER / f'heatwave_exposure_multi_threshold_{MIN_YEAR}-{MAX_YEAR}.nc',\n",
    "    chunks=dict(age_band_lower_bound=1, year=20)\n",
    ")\n"
   ]
  },
  {
   "cell_type": "markdown",
   "metadata": {
    "tags": []
   },
   "source": [
    "## Trim pop to expusre"
   ]
  },
  {
   "cell_type": "code",
   "execution_count": 21,
   "metadata": {},
   "outputs": [],
   "source": [
    "# population_over_65 = population_over_65.sel(year=exposures_over65.year)"
   ]
  },
  {
   "cell_type": "code",
   "execution_count": 22,
   "metadata": {},
   "outputs": [],
   "source": [
    "# population_infants = population_infants.sel(year=exposures_infants.year)"
   ]
  },
  {
   "cell_type": "code",
   "execution_count": 23,
   "metadata": {},
   "outputs": [],
   "source": [
    "population = population.sel(year=exposures_abs.year)"
   ]
  },
  {
   "cell_type": "markdown",
   "metadata": {
    "tags": []
   },
   "source": [
    "# Calculate Exposure weighted change by country (population normalised)\n",
    "\n",
    "Total exposure divided by country total **vulnerable population**, allows to easily compare between countries."
   ]
  },
  {
   "cell_type": "code",
   "execution_count": 24,
   "metadata": {},
   "outputs": [
    {
     "data": {
      "application/vnd.jupyter.widget-view+json": {
       "model_id": "f1dd19b628ce4d568939bb52f5265e45",
       "version_major": 2,
       "version_minor": 0
      },
      "text/plain": [
       "  0%|          | 0/250 [00:00<?, ?it/s]"
      ]
     },
     "metadata": {},
     "output_type": "display_data"
    },
    {
     "name": "stderr",
     "output_type": "stream",
     "text": [
      "/cluster/apps/nss/gcc-8.2.0/python/3.10.4/x86_64/lib64/python3.10/site-packages/dask/core.py:119: RuntimeWarning: invalid value encountered in true_divide\n",
      "  return func(*(_execute_task(a, cache) for a in args))\n"
     ]
    }
   ],
   "source": [
    "weighted_results = []\n",
    "    \n",
    "for _, row in tqdm(COUNTRIES_LOOKUP.iterrows(), total=len(COUNTRIES_LOOKUP)):\n",
    "    grid_code = row.GRIDCODE\n",
    "    country_mask = COUNTRIES_RASTER == grid_code\n",
    "    country_population = (country_mask * population).sum(dim=['latitude', 'longitude'])\n",
    "    country_exposures = (country_mask * exposures_change).sum(dim=['latitude', 'longitude']) / country_population\n",
    "    country_exposures = country_exposures.expand_dims(dim={'country':[row.ISOCODE]})\n",
    "    weighted_results.append(country_exposures)\n",
    "\n",
    "weighted_results = xr.concat(weighted_results, dim='country')\n",
    "weighted_results.to_netcdf(INTERMEDIATE_RESULTS_FOLDER / f'countries_heatwaves_exposure_weighted_change_1980-{MAX_YEAR}.nc')"
   ]
  },
  {
   "cell_type": "markdown",
   "metadata": {},
   "source": [
    "# Exposure to change by country, total\n",
    "\n",
    "Calculate the sum of HW metric by country for all metrics (makes more sense for some than others)"
   ]
  },
  {
   "cell_type": "code",
   "execution_count": 25,
   "metadata": {},
   "outputs": [
    {
     "data": {
      "application/vnd.jupyter.widget-view+json": {
       "model_id": "418db60413064433ad4ae0edc2d49985",
       "version_major": 2,
       "version_minor": 0
      },
      "text/plain": [
       "  0%|          | 0/250 [00:00<?, ?it/s]"
      ]
     },
     "metadata": {},
     "output_type": "display_data"
    }
   ],
   "source": [
    "results_tot = []\n",
    "\n",
    "for _, row in tqdm(COUNTRIES_LOOKUP.iterrows(), total=len(COUNTRIES_LOOKUP)):\n",
    "    grid_code = row.GRIDCODE\n",
    "    country_mask = COUNTRIES_RASTER == grid_code\n",
    "    country_population = (country_mask * population).sum(dim=['latitude', 'longitude'])\n",
    "    country_exposures = (exposures_change * country_mask).sum(dim=['latitude', 'longitude'])\n",
    "    country_exposures = country_exposures.expand_dims(dim={'country':[row.ISOCODE]})\n",
    "    results_tot.append(country_exposures)\n",
    "    \n",
    "results_tot = xr.concat(results_tot, dim='country')\n",
    "results_tot.to_netcdf(INTERMEDIATE_RESULTS_FOLDER / f'countries_heatwaves_exposure_change_{MIN_YEAR}-{MAX_YEAR}.nc')"
   ]
  },
  {
   "cell_type": "markdown",
   "metadata": {},
   "source": [
    "# Exposures absolute by country"
   ]
  },
  {
   "cell_type": "code",
   "execution_count": 26,
   "metadata": {
    "tags": []
   },
   "outputs": [],
   "source": [
    "exposures_abs = exposures_abs.chunk(dict(age_band_lower_bound=1, year=20))"
   ]
  },
  {
   "cell_type": "code",
   "execution_count": 27,
   "metadata": {
    "tags": []
   },
   "outputs": [
    {
     "data": {
      "application/vnd.jupyter.widget-view+json": {
       "model_id": "15d32557298749118619b68ddcb0da4a",
       "version_major": 2,
       "version_minor": 0
      },
      "text/plain": [
       "  0%|          | 0/250 [00:00<?, ?it/s]"
      ]
     },
     "metadata": {},
     "output_type": "display_data"
    }
   ],
   "source": [
    "pop = []\n",
    "results = []\n",
    "results_weight = []\n",
    "\n",
    "for _, row in tqdm(COUNTRIES_LOOKUP.iterrows(), total=len(COUNTRIES_LOOKUP)):\n",
    "    grid_code = row.GRIDCODE\n",
    "    country_mask = COUNTRIES_RASTER == grid_code\n",
    "\n",
    "    country_population = ((country_mask * population)\n",
    "                          .sum(dim=['latitude', 'longitude'])\n",
    "                          .expand_dims(dim={'country':[row.ISOCODE]})\n",
    "                          .compute())\n",
    "    pop.append(country_population)\n",
    "    \n",
    "    country_exposures = ((exposures_abs * country_mask)\n",
    "                         .sum(dim=['latitude', 'longitude'])\n",
    "                         .expand_dims(dim={'country':[row.ISOCODE]})\n",
    "                         .compute())\n",
    "    results.append(country_exposures.heatwaves_days)\n",
    "    \n",
    "    country_exposure_per_person = country_exposures.heatwaves_days / country_population\n",
    "    results_weight.append(country_exposure_per_person.compute())\n",
    "    \n",
    "                \n",
    "\n",
    "results_pop = xr.concat(pop, dim='country')\n",
    "results_pop = results_pop.to_dataset(name='population')\n",
    "\n",
    "results_abs = xr.concat(results, dim='country')\n",
    "results_abs = results_abs.to_dataset(name='exposures_total')\n",
    "\n",
    "results_weight = xr.concat(results_weight, dim='country')\n",
    "results_weight = results_weight.to_dataset(name='exposures_weighted')\n",
    "\n",
    "exposures_countries = xr.merge([results_pop, results_abs, results_weight])"
   ]
  },
  {
   "cell_type": "code",
   "execution_count": 2,
   "metadata": {
    "tags": []
   },
   "outputs": [
    {
     "ename": "NameError",
     "evalue": "name 'exposures_countries' is not defined",
     "output_type": "error",
     "traceback": [
      "\u001b[0;31m---------------------------------------------------------------------------\u001b[0m",
      "\u001b[0;31mNameError\u001b[0m                                 Traceback (most recent call last)",
      "Input \u001b[0;32mIn [2]\u001b[0m, in \u001b[0;36m<cell line: 1>\u001b[0;34m()\u001b[0m\n\u001b[0;32m----> 1\u001b[0m \u001b[43mexposures_countries\u001b[49m\u001b[38;5;241m.\u001b[39mto_netcdf(\n\u001b[1;32m      2\u001b[0m     INTERMEDIATE_RESULTS_FOLDER \u001b[38;5;241m/\u001b[39m \u001b[38;5;124mf\u001b[39m\u001b[38;5;124m'\u001b[39m\u001b[38;5;124mcountries_heatwaves_exposure_\u001b[39m\u001b[38;5;132;01m{\u001b[39;00mMIN_YEAR\u001b[38;5;132;01m}\u001b[39;00m\u001b[38;5;124m-\u001b[39m\u001b[38;5;132;01m{\u001b[39;00mMAX_YEAR\u001b[38;5;132;01m}\u001b[39;00m\u001b[38;5;124m.nc\u001b[39m\u001b[38;5;124m'\u001b[39m\n\u001b[1;32m      3\u001b[0m )\n",
      "\u001b[0;31mNameError\u001b[0m: name 'exposures_countries' is not defined"
     ]
    }
   ],
   "source": [
    "exposures_countries.to_netcdf(\n",
    "    INTERMEDIATE_RESULTS_FOLDER / f'countries_heatwaves_exposure_{MIN_YEAR}-{MAX_YEAR}.nc'\n",
    ")"
   ]
  },
  {
   "cell_type": "markdown",
   "metadata": {},
   "source": [
    "# Exposures by WHO region"
   ]
  },
  {
   "cell_type": "code",
   "execution_count": null,
   "metadata": {
    "tags": []
   },
   "outputs": [],
   "source": [
    "pop = []\n",
    "results = []\n",
    "results_weight = []    \n",
    "for i, region_name in tqdm(enumerate(who_regions.who_region), total=len(who_regions.who_region)):\n",
    "    mask = who_regions == i\n",
    "    \n",
    "    masked_population = ((mask * population)\n",
    "                          .sum(dim=['latitude', 'longitude'])\n",
    "                          .expand_dims(dim={'who_region':[region_name]})\n",
    "                          .compute())\n",
    "    pop.append(masked_population)\n",
    "    \n",
    "    masked_exposures = ((exposures_abs * mask)\n",
    "                        .sum(dim=['latitude', 'longitude'])\n",
    "                        .expand_dims(dim={'who_region':[region_name]})\n",
    "                        .compute()\n",
    "                       )\n",
    "    results.append(masked_exposures.heatwaves_days)\n",
    "    \n",
    "    masked_exposure_per_person = masked_exposures.heatwaves_days / masked_population\n",
    "    results_weight.append(masked_exposure_per_person.compute())\n",
    "\n",
    "    \n",
    "results_pop = xr.concat(pop, dim='who_region')\n",
    "results_pop = results_pop.to_dataset(name='population')\n",
    "\n",
    "results_abs = xr.concat(results, dim='who_region')\n",
    "results_abs = results_abs.to_dataset(name='exposures_total')\n",
    "\n",
    "results_weight = xr.concat(results_weight, dim='who_region')\n",
    "results_weight = results_weight.to_dataset(name='exposures_weighted')\n",
    "\n",
    "exposures_who = xr.merge([results_pop, results_abs, results_weight])"
   ]
  },
  {
   "cell_type": "code",
   "execution_count": null,
   "metadata": {
    "tags": []
   },
   "outputs": [],
   "source": [
    "exposures_who.to_netcdf(INTERMEDIATE_RESULTS_FOLDER / f'who_regions_heatwaves_exposure_{MIN_YEAR}-{MAX_YEAR}.nc')"
   ]
  },
  {
   "cell_type": "code",
   "execution_count": null,
   "metadata": {},
   "outputs": [],
   "source": [
    "results = []\n",
    "    \n",
    "for i, region_name in tqdm(enumerate(who_regions.who_region), total=len(who_regions.who_region)):\n",
    "    mask = who_regions == i\n",
    "\n",
    "    masked_exposures = (exposures_change * mask).sum(dim=['latitude', 'longitude'])\n",
    "    masked_exposures = masked_exposures.expand_dims(dim={'who_region':[region_name]})\n",
    "    results.append(masked_exposures)\n",
    "\n",
    "results = xr.concat(results, dim='who_region')\n",
    "results.to_netcdf(INTERMEDIATE_RESULTS_FOLDER / f'who_regions_heatwaves_exposure_change_{MIN_YEAR}-{MAX_YEAR}.nc')"
   ]
  },
  {
   "cell_type": "markdown",
   "metadata": {},
   "source": [
    "# Exposures by HDI"
   ]
  },
  {
   "cell_type": "code",
   "execution_count": null,
   "metadata": {
    "tags": []
   },
   "outputs": [],
   "source": [
    "pop = []\n",
    "results = []\n",
    "results_weight = []    \n",
    "for i, region_name in tqdm(enumerate(hdi_regions.level_of_human_development), total=len(hdi_regions.level_of_human_development)):\n",
    "    mask = who_regions == i\n",
    "    \n",
    "    masked_population = ((mask * population)\n",
    "                          .sum(dim=['latitude', 'longitude'])\n",
    "                          .expand_dims(dim={'level_of_human_development':[region_name]})\n",
    "                          .compute())\n",
    "    pop.append(masked_population)\n",
    "    \n",
    "    masked_exposures = ((exposures_abs * mask)\n",
    "                        .sum(dim=['latitude', 'longitude'])\n",
    "                        .expand_dims(dim={'level_of_human_development':[region_name]})\n",
    "                        .compute()\n",
    "                       )\n",
    "    results.append(masked_exposures.heatwaves_days)\n",
    "    \n",
    "    masked_exposure_per_person = masked_exposures.heatwaves_days / masked_population\n",
    "    results_weight.append(masked_exposure_per_person.compute())\n",
    "\n",
    "    \n",
    "results_pop = xr.concat(pop, dim='level_of_human_development')\n",
    "results_pop = results_pop.to_dataset(name='population')\n",
    "\n",
    "results_abs = xr.concat(results, dim='level_of_human_development')\n",
    "results_abs = results_abs.to_dataset(name='exposures_total')\n",
    "\n",
    "results_weight = xr.concat(results_weight, dim='level_of_human_development')\n",
    "results_weight = results_weight.to_dataset(name='exposures_weighted')\n",
    "\n",
    "exposures_hdi = xr.merge([results_pop, results_abs, results_weight])"
   ]
  },
  {
   "cell_type": "code",
   "execution_count": null,
   "metadata": {
    "tags": []
   },
   "outputs": [],
   "source": [
    "exposures_hdi.to_netcdf(INTERMEDIATE_RESULTS_FOLDER / f'hdi_regions_heatwaves_exposure_{MIN_YEAR}-{MAX_YEAR}.nc')"
   ]
  },
  {
   "cell_type": "code",
   "execution_count": null,
   "metadata": {},
   "outputs": [],
   "source": [
    "results = []\n",
    "    \n",
    "for i, region_name in tqdm(enumerate(hdi_regions.level_of_human_development), total=len(hdi_regions.level_of_human_development)):\n",
    "    mask = hdi_regions == i\n",
    "\n",
    "    masked_exposures = (exposures_change * mask).sum(dim=['latitude', 'longitude'])\n",
    "    masked_exposures = masked_exposures.expand_dims(dim={'level_of_human_development':[region_name]})\n",
    "    results.append(masked_exposures)\n",
    "\n",
    "results = xr.concat(results, dim='level_of_human_development')\n",
    "results.to_netcdf(INTERMEDIATE_RESULTS_FOLDER / f'hdi_regions_heatwaves_exposure_change_{MIN_YEAR}-{MAX_YEAR}.nc')"
   ]
  },
  {
   "cell_type": "markdown",
   "metadata": {},
   "source": [
    "# Exposure to change weighted by LC Grouping\n"
   ]
  },
  {
   "cell_type": "code",
   "execution_count": null,
   "metadata": {},
   "outputs": [],
   "source": [
    "pop_results = []\n",
    "abs_results = []\n",
    "weighted_results = []\n",
    "\n",
    "lc_groups = COUNTRIES_LOOKUP.groupby('LC Grouping')\n",
    "for lc_grp, countries in tqdm(lc_groups, total=len(lc_groups)):\n",
    "    grp_population = xr.zeros_like(population.sel(year=exposures_change.year).sum(dim=['latitude', 'longitude']))\n",
    "    grp_exposures = xr.zeros_like(exposures_change.heatwaves_days.sum(dim=['latitude', 'longitude']))\n",
    "\n",
    "    for _, row in tqdm(countries.iterrows(), total=len(countries)):\n",
    "        grid_code = row.GRIDCODE\n",
    "        country_mask = COUNTRIES_RASTER == grid_code\n",
    "        \n",
    "        country_population = (country_mask * population.sel(year=exposures_change.year)).sum(dim=['latitude', 'longitude'])\n",
    "        grp_population += country_population\n",
    "        \n",
    "        country_exposures_ts = (country_mask * exposures_change).sum(dim=['latitude', 'longitude']).heatwaves_days\n",
    "        grp_exposures += country_exposures_ts\n",
    "        \n",
    "    \n",
    "    grp_population = (grp_population\n",
    "                      .expand_dims(dict(lc_group=[lc_grp]))\n",
    "                      .compute())\n",
    "    grp_exposures = (grp_exposures\n",
    "                     .expand_dims(dict(lc_group=[lc_grp]))\n",
    "                     .compute())\n",
    "    pop_results.append(grp_population)\n",
    "    abs_results.append(grp_exposures)\n",
    "    \n",
    "    grp_exposures_norm = grp_exposures / grp_population\n",
    "    \n",
    "    weighted_results.append(grp_exposures_norm)\n",
    "    \n",
    "pop_results = xr.concat(pop_results, dim='lc_group')\n",
    "pop_results = pop_results.to_dataset(name='population')\n",
    "\n",
    "abs_results = xr.concat(abs_results, dim='lc_group')\n",
    "abs_results = abs_results.to_dataset(name='exposures_total')\n",
    "\n",
    "weighted_results = xr.concat(weighted_results, dim='lc_group')\n",
    "weighted_results = weighted_results.to_dataset(name='exposures_weighted')"
   ]
  },
  {
   "cell_type": "code",
   "execution_count": null,
   "metadata": {
    "tags": []
   },
   "outputs": [],
   "source": [
    "exposures_lc_groups = xr.merge([pop_results, abs_results, weighted_results])\n",
    "exposures_lc_groups.to_netcdf(INTERMEDIATE_RESULTS_FOLDER / 'exposures_change_by_lc_group.nc')"
   ]
  },
  {
   "cell_type": "code",
   "execution_count": null,
   "metadata": {},
   "outputs": [],
   "source": []
  },
  {
   "cell_type": "code",
   "execution_count": null,
   "metadata": {
    "tags": []
   },
   "outputs": [],
   "source": [
    "(abs_results\n",
    " .to_dataframe()\n",
    " .reset_index()\n",
    " .rename(columns=dict(lc_group='LC Grouping'))\n",
    " .to_csv(RESULTS_FOLDER / 'heatwave_totals_change_by_lc_group.csv', index=False)\n",
    ")"
   ]
  },
  {
   "cell_type": "code",
   "execution_count": null,
   "metadata": {
    "tags": []
   },
   "outputs": [],
   "source": [
    "(weighted_results\n",
    " .to_dataframe()\n",
    " .reset_index()\n",
    " .rename(columns=dict(lc_group='LC Grouping'))\n",
    " .to_csv(RESULTS_FOLDER / 'heatwave_weighted_change_by_lc_group.csv', index=False)\n",
    ")"
   ]
  },
  {
   "cell_type": "markdown",
   "metadata": {},
   "source": [
    "## Exposure absolute value weighted by LC Grouping"
   ]
  },
  {
   "cell_type": "code",
   "execution_count": null,
   "metadata": {},
   "outputs": [],
   "source": [
    "pop_results = []\n",
    "abs_results = []\n",
    "weighted_results = []\n",
    "\n",
    "lc_groups = COUNTRIES_LOOKUP.groupby('LC Grouping')\n",
    "for lc_grp, countries in tqdm(lc_groups, total=len(lc_groups)):\n",
    "    grp_population = xr.zeros_like(population.sel(year=exposures_abs.year).sum(dim=['latitude', 'longitude']))\n",
    "    grp_exposures = xr.zeros_like(exposures_abs.heatwaves_days.sum(dim=['latitude', 'longitude']))\n",
    "\n",
    "    # grp_exposures = pd.Series(np.zeros_like(summer_anom.year), index=summer_anom.year)\n",
    "    for _, row in tqdm(countries.iterrows(), total=len(countries)):\n",
    "        grid_code = row.GRIDCODE\n",
    "        country_mask = COUNTRIES_RASTER == grid_code\n",
    "        \n",
    "        country_population = (country_mask * population.sel(year=exposures_abs.year)).sum(dim=['latitude', 'longitude'])\n",
    "        grp_population += country_population\n",
    "        \n",
    "        # NOTE since we already calculated exposures, don't do it a second time!\n",
    "        country_exposures_ts = (country_mask * exposures_abs).sum(dim=['latitude', 'longitude']).heatwaves_days\n",
    "        grp_exposures += country_exposures_ts\n",
    "        \n",
    "    \n",
    "    grp_population = (grp_population\n",
    "                      .expand_dims(dict(lc_group=[lc_grp]))\n",
    "                      .compute())\n",
    "    grp_exposures = (grp_exposures\n",
    "                     .expand_dims(dict(lc_group=[lc_grp]))\n",
    "                     .compute())\n",
    "    pop_results.append(grp_population)\n",
    "    abs_results.append(grp_exposures)\n",
    "\n",
    "    grp_exposures_norm = (grp_exposures / grp_population).compute()\n",
    "    weighted_results.append(grp_exposures_norm)\n",
    "    # weighted_results = pd.concat(weighted_results, axis=1)\n",
    "    \n",
    "\n",
    "pop_results = xr.concat(pop_results, dim='lc_group')\n",
    "pop_results = pop_results.to_dataset(name='population')\n",
    "\n",
    "abs_results = xr.concat(abs_results, dim='lc_group')\n",
    "abs_results = abs_results.to_dataset(name='exposures_total')\n",
    "\n",
    "weighted_results = xr.concat(weighted_results, dim='lc_group')\n",
    "weighted_results = weighted_results.to_dataset(name='exposures_weighted')\n",
    "\n",
    "exposures_abs_lc_groups = xr.merge([pop_results, abs_results, weighted_results])\n"
   ]
  },
  {
   "cell_type": "code",
   "execution_count": null,
   "metadata": {
    "tags": []
   },
   "outputs": [],
   "source": [
    "exposures_abs_lc_groups = xr.merge([pop_results, abs_results, weighted_results])\n"
   ]
  },
  {
   "cell_type": "code",
   "execution_count": null,
   "metadata": {
    "tags": []
   },
   "outputs": [],
   "source": [
    "exposures_abs_lc_groups.to_netcdf(INTERMEDIATE_RESULTS_FOLDER / 'exposures_abs_by_lc_group.nc')"
   ]
  },
  {
   "cell_type": "code",
   "execution_count": null,
   "metadata": {},
   "outputs": [],
   "source": [
    "(exposures_abs_lc_groups\n",
    " .exposures_total\n",
    " .sel(year=2022, age_band_lower_bound=65)\n",
    " .to_dataframe()\n",
    ").exposures_total.plot.bar()"
   ]
  },
  {
   "cell_type": "code",
   "execution_count": null,
   "metadata": {},
   "outputs": [],
   "source": [
    "(exposures_abs_lc_groups\n",
    " .exposures_total\n",
    " .sel(year=2023, age_band_lower_bound=65)\n",
    " .to_dataframe()\n",
    ").exposures_total.plot.bar()"
   ]
  },
  {
   "cell_type": "code",
   "execution_count": null,
   "metadata": {
    "tags": []
   },
   "outputs": [],
   "source": [
    "(exposures_abs_lc_groups\n",
    " .population\n",
    " .sel(year=2022, age_band_lower_bound=65)\n",
    " .to_dataframe()\n",
    ").population.plot.bar()"
   ]
  },
  {
   "cell_type": "code",
   "execution_count": null,
   "metadata": {
    "tags": []
   },
   "outputs": [],
   "source": [
    "(exposures_abs_lc_groups\n",
    " .exposures_weighted\n",
    " .sel(year=2022, age_band_lower_bound=65)\n",
    " .to_dataframe()\n",
    ").exposures_weighted.plot.bar()"
   ]
  },
  {
   "cell_type": "code",
   "execution_count": null,
   "metadata": {},
   "outputs": [],
   "source": []
  },
  {
   "cell_type": "code",
   "execution_count": null,
   "metadata": {},
   "outputs": [],
   "source": []
  }
 ],
 "metadata": {
  "kernelspec": {
   "display_name": "climada_venv",
   "language": "python",
   "name": "climada_venv"
  },
  "language_info": {
   "codemirror_mode": {
    "name": "ipython",
    "version": 3
   },
   "file_extension": ".py",
   "mimetype": "text/x-python",
   "name": "python",
   "nbconvert_exporter": "python",
   "pygments_lexer": "ipython3",
   "version": "3.10.4"
  }
 },
 "nbformat": 4,
 "nbformat_minor": 4
}
