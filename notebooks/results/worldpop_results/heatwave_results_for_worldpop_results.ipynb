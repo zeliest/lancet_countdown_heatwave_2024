{
 "cells": [
  {
   "cell_type": "markdown",
   "metadata": {},
   "source": [
    "# Present data for report\n",
    "\n"
   ]
  },
  {
   "cell_type": "code",
   "execution_count": 1,
   "metadata": {},
   "outputs": [],
   "source": [
    "from pathlib import Path\n",
    "import numpy as np\n",
    "import pandas as pd\n",
    "\n",
    "import xarray as xr\n",
    "import matplotlib.pyplot as plt\n",
    "\n",
    "from cartopy import crs as ccrs\n",
    "from scipy import stats\n",
    "from tqdm.notebook import tqdm\n",
    "import os\n",
    "import sys\n",
    "\n",
    "project_path = os.path.abspath(os.path.join('..', '..', '..'))\n",
    "if project_path not in sys.path:\n",
    "    sys.path.insert(0, project_path)\n",
    "\n",
    "from source.config import DATA_SRC, POP_DATA_SRC, WEATHER_SRC\n",
    "\n",
    "PATH_FIGURES = Path(\"/cluster/project/climate/szelie/lancet_countdown/figures\")\n"
   ]
  },
  {
   "cell_type": "code",
   "execution_count": 2,
   "metadata": {},
   "outputs": [],
   "source": [
    "# Figure settings\n",
    "plt.rcParams['figure.dpi'] = 120\n",
    "plt.rcParams['savefig.dpi'] = 600\n",
    "plt.rcParams['figure.figsize'] = (5,2.5)\n",
    "plt.rcParams['figure.titlesize'] = 'medium'\n",
    "plt.rcParams['axes.titlesize'] = 'medium'\n",
    "plt.rcParams['savefig.bbox'] = 'tight'"
   ]
  },
  {
   "cell_type": "code",
   "execution_count": 3,
   "metadata": {},
   "outputs": [],
   "source": [
    "MAX_YEAR = 2023\n",
    "REFERENCE_YEAR_START = 1986\n",
    "REFERENCE_YEAR_END = 2005\n",
    "\n",
    "RESULTS_FOLDER =  DATA_SRC / 'lancet'/ 'heatwaves'/ f'results_{MAX_YEAR + 1}/worldpop_exposure'\n",
    "\n",
    "countries_raster = xr.open_dataset(DATA_SRC / 'lancet' / 'admin_boundaries' / 'admin0_raster_report_2024.nc')\n",
    "\n",
    "\n"
   ]
  },
  {
   "cell_type": "code",
   "execution_count": 4,
   "metadata": {},
   "outputs": [],
   "source": [
    "MAP_PROJECTION = ccrs.EckertIII()"
   ]
  },
  {
   "cell_type": "code",
   "execution_count": 5,
   "metadata": {},
   "outputs": [],
   "source": [
    "MIN_YEAR = 1980"
   ]
  },
  {
   "cell_type": "markdown",
   "metadata": {},
   "source": [
    "## Load basic country data"
   ]
  },
  {
   "cell_type": "code",
   "execution_count": 6,
   "metadata": {
    "tags": []
   },
   "outputs": [],
   "source": [
    "country_lc_grouping = pd.read_excel(DATA_SRC / 'lancet' / 'admin_boundaries' /'Country Names and Groupings - 2024 Report.xlsx', header=1)"
   ]
  },
  {
   "cell_type": "code",
   "execution_count": 7,
   "metadata": {
    "tags": []
   },
   "outputs": [],
   "source": [
    "# COUNTRIES_LOOKUP = COUNTRIES_LOOKUP.join(\n",
    "#     country_lc_grouping.set_index('ISO3')[['LC Grouping']], on='ISOCODE' )"
   ]
  },
  {
   "cell_type": "code",
   "execution_count": 8,
   "metadata": {},
   "outputs": [],
   "source": [
    "import geopandas as gpd\n",
    "countries = gpd.read_file(DATA_SRC / 'lancet' / 'admin_boundaries' / 'Detailed_Boundary_ADM0' / 'GLOBAL_ADM0.shp')"
   ]
  },
  {
   "cell_type": "markdown",
   "metadata": {},
   "source": [
    "## Load population data"
   ]
  },
  {
   "cell_type": "code",
   "execution_count": 9,
   "metadata": {},
   "outputs": [],
   "source": [
    "INFANTS_TOTALS_FILE = POP_DATA_SRC / 'hybrid_2024' / f'worldpop_infants_1950_2023_era5_compatible.nc'\n",
    "ELDERLY_TOTALS_FILE = POP_DATA_SRC / 'hybrid_2024' / f'worldpop_elderly_1950_2023_era5_compatible.nc'\n",
    "\n",
    "population_over_65 = xr.open_dataarray(ELDERLY_TOTALS_FILE)\n",
    "population_infants = xr.open_dataarray(INFANTS_TOTALS_FILE)"
   ]
  },
  {
   "cell_type": "markdown",
   "metadata": {
    "tags": []
   },
   "source": [
    " Extrapolate demographic data to 2022"
   ]
  },
  {
   "cell_type": "code",
   "execution_count": 10,
   "metadata": {
    "tags": []
   },
   "outputs": [],
   "source": [
    "population_over_65['age_band_lower_bound'] = 65\n",
    "population = xr.concat([population_infants, population_over_65], dim='age_band_lower_bound')\n",
    "population.name = 'population'\n",
    "# # chunk for parallel\n",
    "# population = population.chunk(dict(age_band_lower_bound=1, year=20))"
   ]
  },
  {
   "cell_type": "markdown",
   "metadata": {},
   "source": [
    "## Load Heatwave metrics data"
   ]
  },
  {
   "cell_type": "code",
   "execution_count": 11,
   "metadata": {
    "tags": []
   },
   "outputs": [],
   "source": [
    "heatwave_metrics_files = sorted((Path('/nfs/n2o/wcr/szelie/lancet/results/results_2024/heatwave_days_era5')).glob('*.nc'))\n",
    "heatwave_metrics = xr.open_mfdataset(heatwave_metrics_files, combine='by_coords')"
   ]
  },
  {
   "cell_type": "markdown",
   "metadata": {},
   "source": [
    "## Load exposure to change results"
   ]
  },
  {
   "cell_type": "code",
   "execution_count": 12,
   "metadata": {},
   "outputs": [],
   "source": [
    "MAX_YEAR =2023\n",
    "RESULTS_FOLDER =  DATA_SRC / 'lancet'/ 'results'/ f'results_{MAX_YEAR + 1}/worldpop_hw_exposure'\n",
    "\n",
    "\n",
    "exposures_over65 = xr.open_dataset(RESULTS_FOLDER / f'heatwave_exposure_change_over65_multi_threshold_{MIN_YEAR}-{MAX_YEAR}_worldpop.nc')\n",
    "\n",
    "exposures_infants = xr.open_dataset(\n",
    "    RESULTS_FOLDER / f'heatwave_exposure_change_infants_multi_threshold_{MIN_YEAR}-{MAX_YEAR}_worldpop.nc')\n",
    "\n",
    "exposures_over65 = exposures_over65.to_array()\n",
    "exposures_over65['age_band_lower_bound'] = 65\n",
    "exposures_infants = exposures_infants.to_array()\n",
    "exposures_infants['age_band_lower_bound'] = 0\n",
    "exposures_over65 = exposures_over65.squeeze().drop('variable')\n",
    "exposures_infants = exposures_infants.squeeze().drop('variable')\n",
    "\n",
    "exposures_change = xr.concat([exposures_infants, exposures_over65], \n",
    "                             dim=pd.Index([0, 65], name='age_band_lower_bound'))"
   ]
  },
  {
   "cell_type": "code",
   "execution_count": 13,
   "metadata": {},
   "outputs": [],
   "source": [
    "total_exposures = exposures_change.sum(['latitude', 'longitude'])\n",
    "\n",
    "total_exposures_change_over65 = total_exposures.sel(age_band_lower_bound=65, drop=True).to_dataframe('elderly')\n",
    "total_exposures_change_infants = total_exposures.sel(age_band_lower_bound=0, drop=True).to_dataframe('infants')"
   ]
  },
  {
   "cell_type": "markdown",
   "metadata": {},
   "source": [
    "## Load exposure absolute values (not exposure to change)"
   ]
  },
  {
   "cell_type": "code",
   "execution_count": 14,
   "metadata": {
    "tags": []
   },
   "outputs": [],
   "source": [
    "exposures_abs = xr.open_dataset(RESULTS_FOLDER / f'heatwave_exposure_multi_threshold_{MIN_YEAR}-{MAX_YEAR}_worldpop.nc')"
   ]
  },
  {
   "cell_type": "code",
   "execution_count": 15,
   "metadata": {
    "tags": []
   },
   "outputs": [],
   "source": [
    "population_df = population.sum(dim=['latitude', 'longitude']).to_dataframe().reset_index()"
   ]
  },
  {
   "cell_type": "code",
   "execution_count": 16,
   "metadata": {},
   "outputs": [],
   "source": [
    "exposures_abs_df = exposures_abs.sum(dim=['latitude', 'longitude']).to_dataframe().reset_index()"
   ]
  },
  {
   "cell_type": "code",
   "execution_count": 17,
   "metadata": {},
   "outputs": [
    {
     "data": {
      "text/html": [
       "<div>\n",
       "<style scoped>\n",
       "    .dataframe tbody tr th:only-of-type {\n",
       "        vertical-align: middle;\n",
       "    }\n",
       "\n",
       "    .dataframe tbody tr th {\n",
       "        vertical-align: top;\n",
       "    }\n",
       "\n",
       "    .dataframe thead th {\n",
       "        text-align: right;\n",
       "    }\n",
       "</style>\n",
       "<table border=\"1\" class=\"dataframe\">\n",
       "  <thead>\n",
       "    <tr style=\"text-align: right;\">\n",
       "      <th></th>\n",
       "      <th>age_band_lower_bound</th>\n",
       "      <th>year</th>\n",
       "      <th>heatwaves_days</th>\n",
       "    </tr>\n",
       "  </thead>\n",
       "  <tbody>\n",
       "    <tr>\n",
       "      <th>0</th>\n",
       "      <td>0</td>\n",
       "      <td>1980</td>\n",
       "      <td>2.788381e+08</td>\n",
       "    </tr>\n",
       "    <tr>\n",
       "      <th>1</th>\n",
       "      <td>0</td>\n",
       "      <td>1981</td>\n",
       "      <td>2.891575e+08</td>\n",
       "    </tr>\n",
       "    <tr>\n",
       "      <th>2</th>\n",
       "      <td>0</td>\n",
       "      <td>1982</td>\n",
       "      <td>1.944532e+08</td>\n",
       "    </tr>\n",
       "    <tr>\n",
       "      <th>3</th>\n",
       "      <td>0</td>\n",
       "      <td>1983</td>\n",
       "      <td>4.924692e+08</td>\n",
       "    </tr>\n",
       "    <tr>\n",
       "      <th>4</th>\n",
       "      <td>0</td>\n",
       "      <td>1984</td>\n",
       "      <td>3.037111e+08</td>\n",
       "    </tr>\n",
       "    <tr>\n",
       "      <th>...</th>\n",
       "      <td>...</td>\n",
       "      <td>...</td>\n",
       "      <td>...</td>\n",
       "    </tr>\n",
       "    <tr>\n",
       "      <th>83</th>\n",
       "      <td>65</td>\n",
       "      <td>2019</td>\n",
       "      <td>8.035450e+09</td>\n",
       "    </tr>\n",
       "    <tr>\n",
       "      <th>84</th>\n",
       "      <td>65</td>\n",
       "      <td>2020</td>\n",
       "      <td>6.755217e+09</td>\n",
       "    </tr>\n",
       "    <tr>\n",
       "      <th>85</th>\n",
       "      <td>65</td>\n",
       "      <td>2021</td>\n",
       "      <td>6.403054e+09</td>\n",
       "    </tr>\n",
       "    <tr>\n",
       "      <th>86</th>\n",
       "      <td>65</td>\n",
       "      <td>2022</td>\n",
       "      <td>9.985383e+09</td>\n",
       "    </tr>\n",
       "    <tr>\n",
       "      <th>87</th>\n",
       "      <td>65</td>\n",
       "      <td>2023</td>\n",
       "      <td>1.167085e+10</td>\n",
       "    </tr>\n",
       "  </tbody>\n",
       "</table>\n",
       "<p>88 rows × 3 columns</p>\n",
       "</div>"
      ],
      "text/plain": [
       "    age_band_lower_bound  year  heatwaves_days\n",
       "0                      0  1980    2.788381e+08\n",
       "1                      0  1981    2.891575e+08\n",
       "2                      0  1982    1.944532e+08\n",
       "3                      0  1983    4.924692e+08\n",
       "4                      0  1984    3.037111e+08\n",
       "..                   ...   ...             ...\n",
       "83                    65  2019    8.035450e+09\n",
       "84                    65  2020    6.755217e+09\n",
       "85                    65  2021    6.403054e+09\n",
       "86                    65  2022    9.985383e+09\n",
       "87                    65  2023    1.167085e+10\n",
       "\n",
       "[88 rows x 3 columns]"
      ]
     },
     "execution_count": 17,
     "metadata": {},
     "output_type": "execute_result"
    }
   ],
   "source": [
    "exposures_abs_df"
   ]
  },
  {
   "cell_type": "code",
   "execution_count": 18,
   "metadata": {},
   "outputs": [],
   "source": [
    "exposures_abs_df = exposures_abs_df.rename({'heatwaves_days':'total heatwave days'})\n",
    "\n",
    "with pd.ExcelWriter(RESULTS_FOLDER / 'indicator_1_1_2_heatwaves_summary.xlsx') as writer:  \n",
    "    pd.merge(population_df, exposures_abs_df).to_excel(writer, sheet_name='Global', index=False)"
   ]
  },
  {
   "cell_type": "markdown",
   "metadata": {},
   "source": [
    "## Load the country exposure results"
   ]
  },
  {
   "cell_type": "code",
   "execution_count": 19,
   "metadata": {
    "tags": []
   },
   "outputs": [],
   "source": [
    "country_weighted = xr.open_dataset(\n",
    "    RESULTS_FOLDER / f'exposure_by_region_or_grouping/countries_heatwaves_exposure_weighted_change_{MIN_YEAR}-{MAX_YEAR}_worldpop.nc')"
   ]
  },
  {
   "cell_type": "code",
   "execution_count": 20,
   "metadata": {},
   "outputs": [],
   "source": [
    "country_exposure_change = xr.open_dataset(\n",
    "    RESULTS_FOLDER / f'exposure_by_region_or_grouping/countries_heatwaves_exposure_change_{MIN_YEAR}-{MAX_YEAR}_worldpop.nc')"
   ]
  },
  {
   "cell_type": "code",
   "execution_count": 21,
   "metadata": {
    "tags": []
   },
   "outputs": [],
   "source": [
    "country_exposure_abs = xr.open_dataset(\n",
    "    RESULTS_FOLDER / f'exposure_by_region_or_grouping/countries_heatwaves_exposure_{MIN_YEAR}-{MAX_YEAR}_worldpop.nc')"
   ]
  },
  {
   "cell_type": "markdown",
   "metadata": {},
   "source": [
    "## Load aggregated by hdi and WHO region data"
   ]
  },
  {
   "cell_type": "code",
   "execution_count": 22,
   "metadata": {},
   "outputs": [],
   "source": [
    "hdi_exposure = xr.open_dataset(RESULTS_FOLDER / f'exposure_by_region_or_grouping/hdi_regions_heatwaves_exposure_{MIN_YEAR}-{MAX_YEAR}_worldpop.nc')\n",
    "who_exposure = xr.open_dataset(RESULTS_FOLDER / f'exposure_by_region_or_grouping/who_regions_heatwaves_exposure_{MIN_YEAR}-{MAX_YEAR}_worldpop.nc')\n",
    "\n",
    "hdi_exposure_change = xr.open_dataset(RESULTS_FOLDER / f'exposure_by_region_or_grouping/hdi_regions_heatwaves_exposure_change_{MIN_YEAR}-{MAX_YEAR}_worldpop.nc')\n",
    "who_exposure_change = xr.open_dataset(RESULTS_FOLDER / f'exposure_by_region_or_grouping/who_regions_heatwaves_exposure_change_{MIN_YEAR}-{MAX_YEAR}_worldpop.nc')"
   ]
  },
  {
   "cell_type": "code",
   "execution_count": 23,
   "metadata": {},
   "outputs": [
    {
     "data": {
      "text/plain": [
       "PosixPath('/nfs/n2o/wcr/szelie/lancet/results/results_2024/worldpop_hw_exposure/exposure_by_region_or_grouping')"
      ]
     },
     "execution_count": 23,
     "metadata": {},
     "output_type": "execute_result"
    }
   ],
   "source": [
    "RESULTS_FOLDER / f'exposure_by_region_or_grouping'"
   ]
  },
  {
   "cell_type": "markdown",
   "metadata": {},
   "source": [
    "## Load results by LC grouping"
   ]
  },
  {
   "cell_type": "code",
   "execution_count": 24,
   "metadata": {
    "tags": []
   },
   "outputs": [],
   "source": [
    "exposures_change_lc_groups = xr.open_dataset(RESULTS_FOLDER / 'exposure_by_region_or_grouping/exposures_change_by_lc_group_worldpop.nc')\n",
    "exposures_abs_lc_groups = xr.open_dataset(RESULTS_FOLDER / 'exposure_by_region_or_grouping/exposures_abs_by_lc_group_worldpop.nc')\n",
    "\n"
   ]
  },
  {
   "cell_type": "markdown",
   "metadata": {},
   "source": [
    "# Re-export data tables as csv"
   ]
  },
  {
   "cell_type": "code",
   "execution_count": 25,
   "metadata": {
    "tags": []
   },
   "outputs": [],
   "source": [
    "(country_weighted\n",
    ".heatwaves_days\n",
    ".to_dataframe()\n",
    ".to_csv(RESULTS_FOLDER / 'exposure_by_region_or_grouping/heatwave_exposure_wieghted_change_days_by_country_w_hdi_worldpop.csv')\n",
    ")\n",
    "(country_exposure_change\n",
    " .heatwaves_days\n",
    " .to_dataframe()\n",
    " .to_csv(RESULTS_FOLDER / 'exposure_by_region_or_grouping/heatwave_exposure_days_by_country_worldpop.csv')\n",
    ")"
   ]
  },
  {
   "cell_type": "code",
   "execution_count": 26,
   "metadata": {},
   "outputs": [],
   "source": [
    "country_exposure_abs_df = country_exposure_abs.sel(year=slice(1980,None)).to_dataframe().reset_index().rename(columns={\"country\":\"ISO3\"})\n"
   ]
  },
  {
   "cell_type": "code",
   "execution_count": 27,
   "metadata": {
    "tags": []
   },
   "outputs": [],
   "source": [
    "country_exposure_abs_df.merge(country_lc_grouping).dropna(axis='index').to_csv(RESULTS_FOLDER / 'heatwave_exposure_abs_days_by_country.csv')\n"
   ]
  },
  {
   "cell_type": "code",
   "execution_count": 28,
   "metadata": {},
   "outputs": [],
   "source": [
    "country_exposure_abs_df = country_exposure_abs_df.drop(columns='exposures_weighted')\n",
    "country_exposure_abs_df = country_exposure_abs_df.rename(columns={'exposures_total':'total heatwave days'})"
   ]
  },
  {
   "cell_type": "code",
   "execution_count": 29,
   "metadata": {},
   "outputs": [],
   "source": [
    "with pd.ExcelWriter(RESULTS_FOLDER / 'indicator_1_1_2_heatwaves_summary.xlsx', engine='openpyxl', mode='a') as writer:  \n",
    "    \n",
    "    country_exposure_abs_df.merge(country_lc_grouping).to_excel(writer, sheet_name='Country' , index=False)\n",
    "    "
   ]
  },
  {
   "cell_type": "code",
   "execution_count": 30,
   "metadata": {
    "tags": []
   },
   "outputs": [],
   "source": [
    "(who_exposure\n",
    " .to_dataframe()\n",
    " .to_csv(RESULTS_FOLDER / 'exposure_by_region_or_grouping/heatwave_exposure_days_by_who_region_worldpop.csv')\n",
    ")\n",
    "\n",
    "(who_exposure_change\n",
    " .to_dataframe()\n",
    " .to_csv(RESULTS_FOLDER / 'exposure_by_region_or_grouping/heatwave_exposure_days_change_by_who_region_worldpop.csv')\n",
    ")"
   ]
  },
  {
   "cell_type": "code",
   "execution_count": 31,
   "metadata": {},
   "outputs": [],
   "source": [
    "who_exposure_df = who_exposure.to_dataframe().reset_index()\n",
    "who_exposure_df = who_exposure_df.rename(columns = {\"who_region\":\"WHO Region\"})\n",
    "\n",
    "who_exposure_df = who_exposure_df.rename(columns={'exposures_total':'total heatwave days'})\n",
    "who_exposure_df = who_exposure_df.drop(columns='exposures_weighted')\n",
    "\n",
    "with pd.ExcelWriter(RESULTS_FOLDER / 'indicator_1_1_2_heatwaves_summary.xlsx', engine='openpyxl', mode='a') as writer:  \n",
    "    who_exposure_df.to_excel(writer, sheet_name='WHO Region',  index=False)"
   ]
  },
  {
   "cell_type": "code",
   "execution_count": 33,
   "metadata": {},
   "outputs": [],
   "source": [
    "hdi_exposure_df = hdi_exposure.sel(year=slice(1980,2024)).to_dataframe().reset_index()\n",
    "hdi_exposure_df = hdi_exposure_df.rename(columns={'exposures_total':'total heatwave days'})\n",
    "hdi_exposure_df = hdi_exposure_df.drop(columns='exposures_weighted')\n",
    "\n",
    "hdi_exposure_df = hdi_exposure_df.rename(columns = {\"level_of_human_development\":\"HDI Group\"})\n",
    "with pd.ExcelWriter(RESULTS_FOLDER / 'indicator_1_1_2_heatwaves_summary.xlsx', engine='openpyxl', mode='a') as writer:  \n",
    "    hdi_exposure_df.to_excel(writer, sheet_name='HDI Group', index=False)"
   ]
  },
  {
   "cell_type": "code",
   "execution_count": 34,
   "metadata": {
    "tags": []
   },
   "outputs": [],
   "source": [
    "(hdi_exposure\n",
    " .to_dataframe()\n",
    " .to_csv(RESULTS_FOLDER / 'exposure_by_region_or_grouping/heatwave_exposure_days_by_hdi_worldpop.csv')\n",
    ")\n",
    "\n",
    "(hdi_exposure_change\n",
    " .to_dataframe()\n",
    " .to_csv(RESULTS_FOLDER / 'exposure_by_region_or_grouping/heatwave_exposure_days_change_by_hdi_worldpop.csv')\n",
    ")"
   ]
  },
  {
   "cell_type": "code",
   "execution_count": 35,
   "metadata": {},
   "outputs": [],
   "source": [
    "LC_exposures_abs_lc_groups_df = exposures_abs_lc_groups.sel(year=slice(1980,2024)).to_dataframe().reset_index()"
   ]
  },
  {
   "cell_type": "code",
   "execution_count": 36,
   "metadata": {},
   "outputs": [
    {
     "data": {
      "text/html": [
       "<div>\n",
       "<style scoped>\n",
       "    .dataframe tbody tr th:only-of-type {\n",
       "        vertical-align: middle;\n",
       "    }\n",
       "\n",
       "    .dataframe tbody tr th {\n",
       "        vertical-align: top;\n",
       "    }\n",
       "\n",
       "    .dataframe thead th {\n",
       "        text-align: right;\n",
       "    }\n",
       "</style>\n",
       "<table border=\"1\" class=\"dataframe\">\n",
       "  <thead>\n",
       "    <tr style=\"text-align: right;\">\n",
       "      <th></th>\n",
       "      <th>year</th>\n",
       "      <th>lc_group</th>\n",
       "      <th>age_band_lower_bound</th>\n",
       "      <th>population</th>\n",
       "      <th>exposures_total</th>\n",
       "      <th>exposures_weighted</th>\n",
       "    </tr>\n",
       "  </thead>\n",
       "  <tbody>\n",
       "    <tr>\n",
       "      <th>0</th>\n",
       "      <td>1980</td>\n",
       "      <td>SIDS</td>\n",
       "      <td>0</td>\n",
       "      <td>2.201534e+06</td>\n",
       "      <td>2.482086e+05</td>\n",
       "      <td>0.112744</td>\n",
       "    </tr>\n",
       "    <tr>\n",
       "      <th>1</th>\n",
       "      <td>1980</td>\n",
       "      <td>SIDS</td>\n",
       "      <td>65</td>\n",
       "      <td>1.287640e+07</td>\n",
       "      <td>5.441439e+05</td>\n",
       "      <td>0.042259</td>\n",
       "    </tr>\n",
       "    <tr>\n",
       "      <th>2</th>\n",
       "      <td>1980</td>\n",
       "      <td>Asia</td>\n",
       "      <td>0</td>\n",
       "      <td>6.444686e+07</td>\n",
       "      <td>1.989588e+08</td>\n",
       "      <td>3.087176</td>\n",
       "    </tr>\n",
       "    <tr>\n",
       "      <th>3</th>\n",
       "      <td>1980</td>\n",
       "      <td>Asia</td>\n",
       "      <td>65</td>\n",
       "      <td>1.173616e+08</td>\n",
       "      <td>3.434761e+08</td>\n",
       "      <td>2.926649</td>\n",
       "    </tr>\n",
       "    <tr>\n",
       "      <th>4</th>\n",
       "      <td>1980</td>\n",
       "      <td>Africa</td>\n",
       "      <td>0</td>\n",
       "      <td>1.662339e+07</td>\n",
       "      <td>1.600789e+07</td>\n",
       "      <td>0.962974</td>\n",
       "    </tr>\n",
       "    <tr>\n",
       "      <th>...</th>\n",
       "      <td>...</td>\n",
       "      <td>...</td>\n",
       "      <td>...</td>\n",
       "      <td>...</td>\n",
       "      <td>...</td>\n",
       "      <td>...</td>\n",
       "    </tr>\n",
       "    <tr>\n",
       "      <th>611</th>\n",
       "      <td>2023</td>\n",
       "      <td>Northern America</td>\n",
       "      <td>65</td>\n",
       "      <td>6.555742e+07</td>\n",
       "      <td>8.173071e+08</td>\n",
       "      <td>12.467042</td>\n",
       "    </tr>\n",
       "    <tr>\n",
       "      <th>612</th>\n",
       "      <td>2023</td>\n",
       "      <td>Oceania</td>\n",
       "      <td>0</td>\n",
       "      <td>2.915025e+05</td>\n",
       "      <td>5.040989e+05</td>\n",
       "      <td>1.729312</td>\n",
       "    </tr>\n",
       "    <tr>\n",
       "      <th>613</th>\n",
       "      <td>2023</td>\n",
       "      <td>Oceania</td>\n",
       "      <td>65</td>\n",
       "      <td>3.612950e+06</td>\n",
       "      <td>6.259816e+06</td>\n",
       "      <td>1.732605</td>\n",
       "    </tr>\n",
       "    <tr>\n",
       "      <th>614</th>\n",
       "      <td>2023</td>\n",
       "      <td>Europe</td>\n",
       "      <td>0</td>\n",
       "      <td>7.628086e+06</td>\n",
       "      <td>1.052487e+08</td>\n",
       "      <td>13.797523</td>\n",
       "    </tr>\n",
       "    <tr>\n",
       "      <th>615</th>\n",
       "      <td>2023</td>\n",
       "      <td>Europe</td>\n",
       "      <td>65</td>\n",
       "      <td>1.497491e+08</td>\n",
       "      <td>2.121778e+09</td>\n",
       "      <td>14.168885</td>\n",
       "    </tr>\n",
       "  </tbody>\n",
       "</table>\n",
       "<p>616 rows × 6 columns</p>\n",
       "</div>"
      ],
      "text/plain": [
       "     year          lc_group  age_band_lower_bound    population  \\\n",
       "0    1980              SIDS                     0  2.201534e+06   \n",
       "1    1980              SIDS                    65  1.287640e+07   \n",
       "2    1980              Asia                     0  6.444686e+07   \n",
       "3    1980              Asia                    65  1.173616e+08   \n",
       "4    1980            Africa                     0  1.662339e+07   \n",
       "..    ...               ...                   ...           ...   \n",
       "611  2023  Northern America                    65  6.555742e+07   \n",
       "612  2023           Oceania                     0  2.915025e+05   \n",
       "613  2023           Oceania                    65  3.612950e+06   \n",
       "614  2023            Europe                     0  7.628086e+06   \n",
       "615  2023            Europe                    65  1.497491e+08   \n",
       "\n",
       "     exposures_total  exposures_weighted  \n",
       "0       2.482086e+05            0.112744  \n",
       "1       5.441439e+05            0.042259  \n",
       "2       1.989588e+08            3.087176  \n",
       "3       3.434761e+08            2.926649  \n",
       "4       1.600789e+07            0.962974  \n",
       "..               ...                 ...  \n",
       "611     8.173071e+08           12.467042  \n",
       "612     5.040989e+05            1.729312  \n",
       "613     6.259816e+06            1.732605  \n",
       "614     1.052487e+08           13.797523  \n",
       "615     2.121778e+09           14.168885  \n",
       "\n",
       "[616 rows x 6 columns]"
      ]
     },
     "execution_count": 36,
     "metadata": {},
     "output_type": "execute_result"
    }
   ],
   "source": [
    "LC_exposures_abs_lc_groups_df"
   ]
  },
  {
   "cell_type": "code",
   "execution_count": 37,
   "metadata": {},
   "outputs": [],
   "source": [
    "LC_exposures_abs_lc_groups_df = LC_exposures_abs_lc_groups_df.rename(columns = {\"lc_group\":\"Lancet Countdown Region\"})\n",
    "\n",
    "LC_exposures_abs_lc_groups_df = LC_exposures_abs_lc_groups_df.rename(columns={'exposures_total':'total heatwave days'})\n",
    "LC_exposures_abs_lc_groups_df = LC_exposures_abs_lc_groups_df.drop(columns='exposures_weighted')\n",
    "\n",
    "with pd.ExcelWriter(RESULTS_FOLDER / 'indicator_1_1_2_heatwaves_summary.xlsx', engine='openpyxl', mode='a') as writer:  \n",
    "    LC_exposures_abs_lc_groups_df.to_excel(writer, sheet_name='LC Region', index=False)"
   ]
  },
  {
   "cell_type": "code",
   "execution_count": 38,
   "metadata": {
    "tags": []
   },
   "outputs": [],
   "source": [
    "(exposures_abs_lc_groups\n",
    " .to_dataframe()\n",
    " .to_csv(RESULTS_FOLDER / 'exposure_by_region_or_grouping/heatwave_exposure_days_by_lc_group_worldpop.csv')\n",
    ")\n",
    "(exposures_change_lc_groups\n",
    " .to_dataframe()\n",
    " .to_csv(RESULTS_FOLDER / 'exposure_by_region_or_grouping/heatwave_exposure_days_change_by_lc_group_worldpop.csv')\n",
    ")"
   ]
  },
  {
   "cell_type": "markdown",
   "metadata": {},
   "source": [
    "# Plots"
   ]
  },
  {
   "cell_type": "markdown",
   "metadata": {},
   "source": [
    "## Plot days of heatwave experienced (exposure weighted days)\n",
    "\n",
    "This is again different from previous plots because we weight the absolute exposures instead of the changes. The idea is to be able to say something like in the 90s you would typically experience X days of heatwave per year while in the 2010s you experience Y days\n",
    "\n",
    "> Important when showing averages, don't do average of weighted number of days per country since you need to have it always population wieghted, otherwise HW for china counts the same as HW for luxembourg."
   ]
  },
  {
   "cell_type": "code",
   "execution_count": null,
   "metadata": {},
   "outputs": [],
   "source": [
    "# lc_map = countries.dissolve('LC Grouping')"
   ]
  },
  {
   "cell_type": "code",
   "execution_count": null,
   "metadata": {
    "tags": []
   },
   "outputs": [],
   "source": [
    "plot_data = heatwave_metrics\n",
    "# plot_data = plot_data.where(population.sel(age_band_lower_bound=65) > 10)\n",
    "plot_data = plot_data.sel(year=slice(1986,2005)).mean(dim='year')\n",
    "f, ax = plt.subplots(figsize=(6,3), subplot_kw=dict(projection=MAP_PROJECTION))\n",
    "\n",
    "plot_data.heatwaves_days.plot(\n",
    "    vmax=15,\n",
    "    transform=ccrs.PlateCarree(),\n",
    "    ax=ax)\n"
   ]
  },
  {
   "cell_type": "code",
   "execution_count": null,
   "metadata": {
    "tags": []
   },
   "outputs": [],
   "source": [
    "plot_data = heatwave_metrics\n",
    "plot_data = plot_data.sel(year=slice(2013,2023)).mean(dim='year')\n",
    "f, ax = plt.subplots(figsize=(6,3), subplot_kw=dict(projection=MAP_PROJECTION))\n",
    "\n",
    "plot_data.heatwaves_days.plot(\n",
    "    vmax=15,\n",
    "    transform=ccrs.PlateCarree(),\n",
    "    ax=ax)\n"
   ]
  },
  {
   "cell_type": "code",
   "execution_count": null,
   "metadata": {},
   "outputs": [],
   "source": [
    "countries_raster = xr.open_dataset(DATA_SRC / 'lancet' / 'admin_boundaries' / 'admin0_raster_report_2024.nc')"
   ]
  },
  {
   "cell_type": "code",
   "execution_count": null,
   "metadata": {
    "tags": []
   },
   "outputs": [],
   "source": [
    "plot_data = heatwave_metrics.sel(year=2022) - heatwave_metrics.sel(year=slice(1986,2005)).mean(dim='year')\n",
    "plot_data = plot_data.assign_coords(longitude=(((plot_data.longitude + 180) % 360) - 180)).sortby('longitude', ascending=False)\n",
    "land_mask = countries_raster['OBJECTID'] <2000\n",
    "plot_data = land_mask *plot_data\n",
    "# plot_data = plot_data.sel(year=slice(2013,2022)).mean(dim='year')\n",
    "f, ax = plt.subplots(figsize=(6,3), subplot_kw=dict(projection=MAP_PROJECTION))\n",
    "\n",
    "plot_data.heatwaves_days.plot(\n",
    "    transform=ccrs.PlateCarree(),\n",
    "    ax=ax,\n",
    "    vmin=-40, vmax=40,\n",
    "    cmap='RdBu_r',\n",
    ")\n",
    "ax.coastlines()\n",
    "ax.set_title(f'Change in number of heatwave days in {MAX_YEAR} \\n relative to 1986-2005 baseline')\n",
    "ax.figure.savefig(PATH_FIGURES / 'map_hw_change_2022.png')"
   ]
  },
  {
   "cell_type": "code",
   "execution_count": null,
   "metadata": {
    "tags": []
   },
   "outputs": [],
   "source": [
    "import geoplot"
   ]
  },
  {
   "cell_type": "markdown",
   "metadata": {},
   "source": [
    "Heatwave days per person in 2022. Don't show trend b/c too much variance, more just to give first idea."
   ]
  },
  {
   "cell_type": "code",
   "execution_count": null,
   "metadata": {
    "tags": []
   },
   "outputs": [],
   "source": [
    "exposures_abs_ts = exposures_abs.sum(['latitude', 'longitude']) / population.sel(year=slice(1980,2023)).sum(['latitude', 'longitude'])"
   ]
  },
  {
   "cell_type": "code",
   "execution_count": null,
   "metadata": {},
   "outputs": [],
   "source": [
    "exposures_abs_ts"
   ]
  },
  {
   "cell_type": "code",
   "execution_count": null,
   "metadata": {
    "tags": []
   },
   "outputs": [],
   "source": [
    "exposures_abs_ts_df = exposures_abs_ts.to_dataframe().unstack(1)\n",
    "exposures_abs_ts_df = exposures_abs_ts_df.transpose()"
   ]
  },
  {
   "cell_type": "code",
   "execution_count": null,
   "metadata": {
    "tags": []
   },
   "outputs": [],
   "source": [
    "exposures_abs_ts_df.to_csv(RESULTS_FOLDER / 'heatwave_days_experienced.csv')"
   ]
  },
  {
   "cell_type": "code",
   "execution_count": null,
   "metadata": {},
   "outputs": [],
   "source": [
    "exposures_abs_ts_df = exposures_abs_ts_df.reset_index()\n",
    "exposures_abs_ts_df = exposures_abs_ts_df.set_index(\"year\")[[0,65]]"
   ]
  },
  {
   "cell_type": "code",
   "execution_count": null,
   "metadata": {},
   "outputs": [],
   "source": [
    "FIGURES_FOLDER = Path(\"../../../figures\")"
   ]
  },
  {
   "cell_type": "code",
   "execution_count": null,
   "metadata": {
    "tags": []
   },
   "outputs": [],
   "source": [
    "ax = (exposures_abs_ts_df\n",
    " .rename(columns={0:'Infants',65:'Over 65'})\n",
    " .rename_axis(columns=\"Age group\")\n",
    " .plot(ylabel='Days/year', title='Average number of heatwave days experienced'))\n",
    "\n",
    "ax.figure.savefig(FIGURES_FOLDER / 'global_hw_per_person.png')\n",
    "ax.figure.savefig(FIGURES_FOLDER / 'global_hw_per_person.pdf')"
   ]
  },
  {
   "cell_type": "code",
   "execution_count": null,
   "metadata": {},
   "outputs": [],
   "source": [
    "plot_data = exposures_abs.sum(['latitude', 'longitude'])\n",
    "plot_data = plot_data.to_dataframe().unstack(1).transpose()\n",
    "plot_data = plot_data.reset_index()\n",
    "plot_data = plot_data.set_index(\"year\")[[0,65]]"
   ]
  },
  {
   "cell_type": "code",
   "execution_count": null,
   "metadata": {
    "tags": []
   },
   "outputs": [],
   "source": [
    "\n",
    "ax = ((plot_data / 1e9)\n",
    " .rename(columns={0:'Infants',65:'Over 65'})\n",
    " .rename_axis(columns=\"Age group\")\n",
    " .plot(ylabel='billion person-days', title='Total number of heatwave days experienced'))\n",
    "\n",
    "ax.figure.savefig(FIGURES_FOLDER / 'heatwaves_exposure_total.png')\n",
    "ax.figure.savefig(FIGURES_FOLDER / 'heatwaves_exposure_total.pdf')\n",
    "plot_data.to_csv(FIGURES_FOLDER / 'heatwaves_exposure_total.csv')"
   ]
  },
  {
   "cell_type": "markdown",
   "metadata": {},
   "source": [
    "### Compare changes in total exposures with changes in population and heatwave days"
   ]
  },
  {
   "cell_type": "markdown",
   "metadata": {},
   "source": [
    "Simple attribution, given total increase in HW days exposre (person-days) what part is from climate and what part is from population increase?\n",
    "\n",
    "- Don't really do it (according to Xiang isn't that obvious), just report % changes in HW, Persons, and person-days between two reference periods\n",
    "- Choose a 'recent' period, could do ten-years to date so 2013-2022, bit random. Otherwise 2010-2020"
   ]
  },
  {
   "cell_type": "code",
   "execution_count": null,
   "metadata": {
    "tags": []
   },
   "outputs": [],
   "source": [
    "exposures_abs_rolling =  exposures_abs_ts_df.rolling(10).mean().dropna()"
   ]
  },
  {
   "cell_type": "code",
   "execution_count": null,
   "metadata": {
    "tags": []
   },
   "outputs": [],
   "source": [
    "exposures_abs_rolling.unstack().to_csv(RESULTS_FOLDER / 'heatwave_days_experienced_10_year_rolling_mean.csv')"
   ]
  },
  {
   "cell_type": "markdown",
   "metadata": {},
   "source": [
    "# IMPORTANT need to use weighted average for HW 'raw' can't just do the sum accross pixels cus thats bollocks."
   ]
  },
  {
   "cell_type": "code",
   "execution_count": null,
   "metadata": {
    "tags": []
   },
   "outputs": [],
   "source": [
    "cos_lat = np.cos(np.radians(heatwave_metrics.latitude))"
   ]
  },
  {
   "cell_type": "code",
   "execution_count": null,
   "metadata": {
    "tags": []
   },
   "outputs": [],
   "source": [
    "def _summary_weight(data, yrs):\n",
    "    return (data.sel(year=yrs) *cos_lat) .mean(['latitude', 'longitude']).mean(dim='year').compute()\n",
    "\n",
    "hw_ref = _summary_weight(heatwave_metrics.heatwaves_days , slice(1986,2005))\n",
    "hw_dec = _summary_weight(heatwave_metrics.heatwaves_days, slice(2013,2022))\n",
    "hw_rol = (heatwave_metrics.heatwaves_days*cos_lat).mean(['latitude', 'longitude']).rolling(year=10).mean().compute()\n"
   ]
  },
  {
   "cell_type": "code",
   "execution_count": null,
   "metadata": {
    "tags": []
   },
   "outputs": [],
   "source": [
    "hw_rol.name = 'heatwave_days'"
   ]
  },
  {
   "cell_type": "code",
   "execution_count": null,
   "metadata": {
    "tags": []
   },
   "outputs": [],
   "source": [
    "(100*(hw_dec - hw_ref) / hw_ref).item()"
   ]
  },
  {
   "cell_type": "code",
   "execution_count": null,
   "metadata": {
    "tags": []
   },
   "outputs": [],
   "source": [
    "def _summary(data, yrs):\n",
    "    return data.sel(year=yrs).sum(['latitude', 'longitude']).mean(dim='year').compute()\n",
    "\n",
    "# hw_ref = _summary(heatwave_metrics.heatwaves_days, slice(1986,2005))\n",
    "# hw_dec = _summary(heatwave_metrics.heatwaves_days, slice(2013,2022))\n",
    "# hw_rol = heatwave_metrics.heatwaves_days.sum(['latitude', 'longitude']).rolling(year=10).mean().compute()\n",
    "\n",
    "po_ref = _summary(population, slice(1986,2005))\n",
    "po_dec = _summary(population, slice(2013,2022))\n",
    "po_rol = population.sum(['latitude', 'longitude']).rolling(year=10).mean().compute()\n",
    "\n",
    "ex_ref = _summary(exposures_abs.heatwaves_days, slice(1986,2005))\n",
    "ex_dec = _summary(exposures_abs.heatwaves_days, slice(2013,2022))\n",
    "ex_rol = exposures_abs.heatwaves_days.sum(['latitude', 'longitude']).rolling(year=10).mean().compute()\n",
    "ex_rol.name = 'heatwave_person_days'"
   ]
  },
  {
   "cell_type": "code",
   "execution_count": null,
   "metadata": {
    "tags": []
   },
   "outputs": [],
   "source": [
    "ex_rol.to_dataframe().dropna().to_csv(RESULTS_FOLDER / 'heatwave_exposure_days_10_year_rolling_mean.csv')\n",
    "hw_rol.to_dataframe().dropna().to_csv(RESULTS_FOLDER / 'heatwave_days_10_year_rolling_mean.csv')\n",
    "po_rol.to_dataframe().dropna().to_csv(RESULTS_FOLDER / 'population_10_year_rolling_mean.csv')"
   ]
  },
  {
   "cell_type": "code",
   "execution_count": null,
   "metadata": {
    "tags": []
   },
   "outputs": [],
   "source": [
    "hw_ref"
   ]
  },
  {
   "cell_type": "code",
   "execution_count": null,
   "metadata": {
    "tags": []
   },
   "outputs": [],
   "source": [
    "hw_dec"
   ]
  },
  {
   "cell_type": "code",
   "execution_count": null,
   "metadata": {
    "tags": []
   },
   "outputs": [],
   "source": [
    "(hw_dec - hw_ref).item()"
   ]
  },
  {
   "cell_type": "code",
   "execution_count": null,
   "metadata": {
    "tags": []
   },
   "outputs": [],
   "source": [
    "(100*(hw_dec - hw_ref) / hw_ref).item()"
   ]
  },
  {
   "cell_type": "code",
   "execution_count": null,
   "metadata": {
    "tags": []
   },
   "outputs": [],
   "source": [
    "# (100*(hw_dec) / hw_ref).item()"
   ]
  },
  {
   "cell_type": "code",
   "execution_count": null,
   "metadata": {
    "tags": []
   },
   "outputs": [],
   "source": [
    "po_ref.to_dataframe()"
   ]
  },
  {
   "cell_type": "code",
   "execution_count": null,
   "metadata": {
    "tags": []
   },
   "outputs": [],
   "source": [
    "po_dec.to_dataframe()"
   ]
  },
  {
   "cell_type": "code",
   "execution_count": null,
   "metadata": {
    "tags": []
   },
   "outputs": [],
   "source": [
    "100*((po_dec - po_ref) / po_ref).to_dataframe()"
   ]
  },
  {
   "cell_type": "code",
   "execution_count": null,
   "metadata": {
    "tags": []
   },
   "outputs": [],
   "source": [
    "po_rol.to_dataframe().unstack().T"
   ]
  },
  {
   "cell_type": "code",
   "execution_count": null,
   "metadata": {
    "tags": []
   },
   "outputs": [],
   "source": [
    "100*((ex_dec - ex_ref) / ex_ref).to_dataframe()"
   ]
  },
  {
   "cell_type": "markdown",
   "metadata": {},
   "source": [
    "By LC group"
   ]
  },
  {
   "cell_type": "code",
   "execution_count": null,
   "metadata": {
    "tags": []
   },
   "outputs": [],
   "source": [
    "(100*(po_rol - po_ref) / po_ref).to_dataframe().unstack(0).plot()"
   ]
  },
  {
   "cell_type": "code",
   "execution_count": null,
   "metadata": {
    "tags": []
   },
   "outputs": [],
   "source": [
    "ax = (100*(ex_rol - ex_ref) / ex_ref).to_dataframe('heatwave days').unstack(0).plot()\n",
    "ax.axhline(0)"
   ]
  },
  {
   "cell_type": "code",
   "execution_count": null,
   "metadata": {
    "tags": []
   },
   "outputs": [],
   "source": [
    "# Map by LC group is not very interesting\n",
    "# e = (exposures_abs_lc_groups\n",
    "#  .exposures_weighted\n",
    "#  .sel(year=2022, age_band_lower_bound=65)\n",
    "#  .to_dataframe()\n",
    "#  .join(lc_map)\n",
    "#  .set_geometry('geometry')\n",
    "# )\n",
    "\n",
    "# e.plot(column='exposures_weighted', legend=True)"
   ]
  },
  {
   "cell_type": "markdown",
   "metadata": {},
   "source": [
    "By country"
   ]
  },
  {
   "cell_type": "code",
   "execution_count": null,
   "metadata": {},
   "outputs": [],
   "source": []
  },
  {
   "cell_type": "code",
   "execution_count": null,
   "metadata": {
    "tags": []
   },
   "outputs": [],
   "source": [
    "countries = countries.rename(columns={\"ISO_3_CODE\":\"country\"})\n",
    "\n",
    "plot_df = country_exposure_abs.exposures_weighted.sel(age_band_lower_bound=65, drop=True).sel(year=slice(1986,2005)).mean(dim='year').to_dataframe().reset_index()\n",
    "plot_df = plot_df.merge(countries).set_geometry('geometry')\n",
    "g = (plot_df\n",
    "     .plot(column='exposures_weighted', vmin=0, vmax=20,\n",
    "           legend=True\n",
    "          )\n",
    "    )\n",
    "\n",
    "\n",
    "countries = countries.rename({\"ISO_3_CODE\":\"countries\"})\n",
    "\n",
    "plot_df = country_exposure_abs.exposures_weighted.sel(age_band_lower_bound=65, drop=True).sel(year=slice(2013,2022)).mean(dim='year').to_dataframe().reset_index()\n",
    "plot_df = plot_df.merge(countries).set_geometry('geometry')\n",
    "\n",
    "g = (plot_df\n",
    "     .plot(column='exposures_weighted', vmin=0, vmax=20,\n",
    "           legend=True\n",
    "          )\n",
    "    )\n",
    "\n",
    "\n",
    "# f.colorbar(ax, ax=axs, shrink=0.6, location='bottom')\n"
   ]
  },
  {
   "cell_type": "code",
   "execution_count": null,
   "metadata": {
    "tags": []
   },
   "outputs": [],
   "source": [
    "countries['country']\n"
   ]
  },
  {
   "cell_type": "code",
   "execution_count": null,
   "metadata": {},
   "outputs": [],
   "source": [
    "ref = (country_exposure_abs.exposures_weighted\n",
    "     .sel(age_band_lower_bound=65, drop=True)\n",
    "     .sel(year=slice(1986,2005))\n",
    "     .mean(dim='year')\n",
    "     .to_dataframe()\n",
    "      )\n",
    "yr = (country_exposure_abs.exposures_weighted\n",
    "     .sel(age_band_lower_bound=65, drop=True)\n",
    "     .sel(year=slice(2013,2022))\n",
    "     .mean(dim='year')\n",
    "     .to_dataframe())\n",
    "     \n",
    "    \n",
    "e = ((yr-ref).reset_index()\n",
    "     .merge(countries, on=\"country\")\n",
    "     .set_geometry('geometry')\n",
    "     .plot(column='exposures_weighted',\n",
    "           legend=True, vmin=0, vmax=14,\n",
    "           cmap='plasma'\n",
    "          )\n",
    "    )"
   ]
  },
  {
   "cell_type": "code",
   "execution_count": null,
   "metadata": {
    "tags": []
   },
   "outputs": [],
   "source": [
    "ref = (country_exposure_abs.exposures_weighted\n",
    "     .sel(age_band_lower_bound=65, drop=True)\n",
    "     .sel(year=slice(1986,2005))\n",
    "     .mean(dim='year')\n",
    "     .to_dataframe()\n",
    "      )\n",
    "yr = (country_exposure_abs.exposures_weighted\n",
    "     .sel(age_band_lower_bound=65, drop=True)\n",
    "     .sel(year=slice(2013,2022))\n",
    "     .mean(dim='year')\n",
    "     .to_dataframe())\n",
    "\n",
    "     \n",
    "    \n",
    "e = ((yr-ref).reset_index()\n",
    "     .merge(countries, on=\"country\")\n",
    "     .set_geometry('geometry')\n",
    "     .plot(column='exposures_weighted',\n",
    "           legend=True, vmin=0, vmax=14,\n",
    "           cmap='plasma'\n",
    "          )\n",
    "    )"
   ]
  },
  {
   "cell_type": "code",
   "execution_count": null,
   "metadata": {
    "tags": []
   },
   "outputs": [],
   "source": [
    "ref = (exposures_abs_lc_groups.exposures_weighted\n",
    "     # .sel(age_band_lower_bound=65, drop=True)\n",
    "     .sel(year=slice(1986,2005))\n",
    "     .mean(dim='year')\n",
    "     .to_dataframe()\n",
    "      )\n",
    "\n",
    "yr = (exposures_abs_lc_groups.exposures_weighted\n",
    "     # .sel(age_band_lower_bound=65, drop=True)\n",
    "     .sel(year=slice(2013,2022))\n",
    "     .mean(dim='year')\n",
    "     .to_dataframe())"
   ]
  },
  {
   "cell_type": "code",
   "execution_count": null,
   "metadata": {
    "tags": []
   },
   "outputs": [],
   "source": [
    "ax = (exposures_abs_lc_groups.exposures_weighted\n",
    "     .sel(year=2022)\n",
    "     .to_dataframe()\n",
    "      .exposures_weighted.unstack(1).rename_axis(index='', columns='Heatwave days')\n",
    "      .rename(index={'South and Central America': 'South and \\nCentral America'})\n",
    "      .plot\n",
    "      .bar(ylabel='days/year',\n",
    "           title='Heatwave days per vulnerable person\\n 10 year mean 2013-2022'\n",
    "          )\n",
    "      .legend(bbox_to_anchor=(1.04, 0.5), \n",
    "              loc=\"center left\", \n",
    "              borderaxespad=0, title='Age group')      \n",
    "     )\n",
    "ax.figure.savefig(PATH_FIGURES / 'heatwave_days_lc_group_2022.png')\n",
    "ax.figure.savefig(PATH_FIGURES / 'heatwave_days_lc_group_2022.pdf')"
   ]
  },
  {
   "cell_type": "code",
   "execution_count": null,
   "metadata": {
    "tags": []
   },
   "outputs": [],
   "source": [
    "ax = (yr\n",
    "      .exposures_weighted.unstack(1).rename_axis(index='', columns='Heatwave days')\n",
    "      .rename(index={'South and Central America': 'South and \\nCentral America'})\n",
    "      .plot\n",
    "      .bar(ylabel='days/year',\n",
    "           title='Heatwave days per vulnerable person\\n 10 year mean 2013-2022'\n",
    "          )\n",
    "      .legend(bbox_to_anchor=(1.04, 0.5), \n",
    "              loc=\"center left\", \n",
    "              borderaxespad=0, title='Age group')      \n",
    "     )\n",
    "ax.figure.savefig(PATH_FIGURES / 'heatwave_days_lc_group_2013-2022.png')\n",
    "ax.figure.savefig(PATH_FIGURES / 'heatwave_days_lc_group_2013-2022.pdf')"
   ]
  },
  {
   "cell_type": "code",
   "execution_count": null,
   "metadata": {
    "tags": []
   },
   "outputs": [],
   "source": [
    "e = (yr-ref).exposures_weighted.unstack(1).rename_axis(index='', columns='Heatwave days')"
   ]
  },
  {
   "cell_type": "code",
   "execution_count": null,
   "metadata": {
    "tags": []
   },
   "outputs": [],
   "source": [
    "e"
   ]
  },
  {
   "cell_type": "code",
   "execution_count": null,
   "metadata": {
    "tags": []
   },
   "outputs": [],
   "source": [
    "ax = (e\n",
    "      .rename(index={'South and Central America': 'South and \\nCentral America'})\n",
    "      .plot\n",
    "      .bar(ylabel='days/year',\n",
    "           title='Mean change in heatwave days per vulnerable person by region\\n from 1986-2005 to 2013-2022 '\n",
    "          )\n",
    "      .legend(bbox_to_anchor=(1.04, 0.5), \n",
    "              loc=\"center left\", \n",
    "              borderaxespad=0, title='Age group')\n",
    "     )\n",
    "ax.figure.savefig(PATH_FIGURES / 'heatwave_days_change_to_baseline_lc_group_2013-2022.png')\n",
    "ax.figure.savefig(PATH_FIGURES / 'heatwave_days_change_to_baseline_lc_group_2013-2022.pdf')"
   ]
  },
  {
   "cell_type": "code",
   "execution_count": null,
   "metadata": {
    "tags": []
   },
   "outputs": [],
   "source": [
    "p = (100*(yr-ref) / ref).exposures_weighted.unstack(1).rename_axis(index='', columns='Heatwave days')"
   ]
  },
  {
   "cell_type": "code",
   "execution_count": null,
   "metadata": {
    "tags": []
   },
   "outputs": [],
   "source": [
    "p.columns = ['Infants', '65+']"
   ]
  },
  {
   "cell_type": "code",
   "execution_count": null,
   "metadata": {
    "tags": []
   },
   "outputs": [],
   "source": [
    "p"
   ]
  },
  {
   "cell_type": "code",
   "execution_count": null,
   "metadata": {
    "tags": []
   },
   "outputs": [],
   "source": [
    "ax = (p\n",
    "      .rename(index={'South and Central America': 'South and \\nCentral America'})\n",
    "      .plot\n",
    "      .bar(ylabel='%',\n",
    "           title='Increase in mean heatwave days per by region\\n in 2013-2022 relative to baseline'\n",
    "          )\n",
    "      .legend(bbox_to_anchor=(1.04, 0.5), \n",
    "              loc=\"center left\", \n",
    "              borderaxespad=0, title='Age group')\n",
    "     )\n",
    "ax.figure.savefig(PATH_FIGURES / 'heatwave_days_pct_to_baseline_lc_group_2013-2022.png')\n",
    "ax.figure.savefig(PATH_FIGURES / 'heatwave_days_pct_to_baseline_lc_group_2013-2022.pdf')"
   ]
  },
  {
   "cell_type": "code",
   "execution_count": null,
   "metadata": {},
   "outputs": [],
   "source": []
  },
  {
   "cell_type": "markdown",
   "metadata": {},
   "source": [
    "## Plot exposures to change\n",
    "\n",
    "**NOTE** Some of this is already saved out automatically in the data gen notebook\n",
    "\n",
    "> Plot exposures combining the 1980-2000 values calculated using histsoc with the 2000-2020 values. Highlight that the data sources are different"
   ]
  },
  {
   "cell_type": "code",
   "execution_count": null,
   "metadata": {},
   "outputs": [],
   "source": [
    "exposures_over65"
   ]
  },
  {
   "cell_type": "code",
   "execution_count": null,
   "metadata": {},
   "outputs": [],
   "source": [
    "import seaborn as sns\n",
    "with sns.axes_style(\"whitegrid\"):\n",
    "    var = 'heatwaves_days'\n",
    "\n",
    "    f, ax = plt.subplots()\n",
    "\n",
    "    (exposures_over65.sum(dim=['latitude','longitude']) / 1e9).loc[2000:].plot(ax=ax, label='WorldPop')\n",
    "    (exposures_over65.sum(dim=['latitude','longitude']) / 1e9).loc[:2000].plot(label='ISIMIP', ax=ax)\n",
    "    ax.legend()\n",
    "    ax.set_ylabel('Billion person-days')\n",
    "    f.savefig(PATH_FIGURES / 'heatwave person-days hybrid 1980-2020.png')\n",
    "    f.savefig(PATH_FIGURES / 'heatwave person-days hybrid 1980-2020.pdf')\n",
    "    \n",
    "    "
   ]
  },
  {
   "cell_type": "code",
   "execution_count": null,
   "metadata": {},
   "outputs": [],
   "source": [
    "plot_data"
   ]
  },
  {
   "cell_type": "code",
   "execution_count": null,
   "metadata": {},
   "outputs": [],
   "source": [
    "plot_data  = (exposures_over65.sum(dim=['latitude','longitude']) / 1e9).rolling(year=10).mean()\n",
    "with sns.axes_style(\"whitegrid\"):\n",
    "    var = 'heatwaves_days'\n",
    "\n",
    "    f, ax = plt.subplots()\n",
    "\n",
    "    plot_data.plot(ax=ax, label='10-year rolling mean')\n",
    "#     (total_exposures_over65[var] / 1e9).loc[:1999].rolling(10).mean().plot(style=':', label='ISIMIP', ax=ax)\n",
    "    ax.legend()\n",
    "    ax.set_ylabel('Billion person-days')\n",
    "#     f.savefig(RESULTS_FOLDER / 'heatwave person-days hybrid 1980-2020.png')\n",
    "#     f.savefig(RESULTS_FOLDER / 'heatwave person-days hybrid 1980-2020.pdf')\n",
    "    \n",
    "    "
   ]
  },
  {
   "cell_type": "code",
   "execution_count": null,
   "metadata": {},
   "outputs": [],
   "source": [
    "plot_data"
   ]
  },
  {
   "cell_type": "code",
   "execution_count": null,
   "metadata": {},
   "outputs": [],
   "source": [
    "plot_data =  exposures_change.sum(['latitude', 'longitude']).to_dataframe('').unstack('age_band_lower_bound')\n",
    "plot_data.columns = ['infants', 'over 65']\n",
    "plot_data = plot_data[[ 'over 65', 'infants']]\n",
    "\n",
    "f , ax = plt.subplots(figsize=(6,2.7))\n",
    "ax = plot_data.plot.bar(stacked=True, width=0.89, ax=ax)\n",
    "ax.set_ylabel('Billion person-days')\n",
    "ax.set_title('Exposures of vulnerable populations to \\nchange in heatwave occurance')\n",
    "ax.legend(title='Age')\n",
    "\n",
    "# NOTE: wasn't an easy way to set the different hatches so have to set manually the indexes\n",
    "for p in ax.patches[:20]:\n",
    "    p.set_hatch('...')\n",
    "    p.set_edgecolor('C0')\n",
    "    p.set_facecolor('w')\n",
    "\n",
    "for p in ax.patches[44:65]:\n",
    "    p.set_hatch('xxxx')\n",
    "    p.set_edgecolor('C1')\n",
    "    p.set_facecolor('w')\n",
    "\n",
    "plt.savefig(PATH_FIGURES / f'heatwave person-days hybrid w newborn 1980-{MAX_YEAR}.png')\n",
    "plt.savefig(PATH_FIGURES / f'heatwave person-days hybrid w newborn 1980-{MAX_YEAR}.pdf')"
   ]
  },
  {
   "cell_type": "code",
   "execution_count": null,
   "metadata": {},
   "outputs": [],
   "source": [
    "ax.patches"
   ]
  },
  {
   "cell_type": "markdown",
   "metadata": {},
   "source": [
    "## Absolute exposures"
   ]
  },
  {
   "cell_type": "code",
   "execution_count": null,
   "metadata": {
    "tags": []
   },
   "outputs": [],
   "source": [
    "plot_data =  exposures_abs.sum(['latitude', 'longitude']).to_dataframe().unstack('age_band_lower_bound')\n",
    "# sns.barplot(data=plot_data, x='year', y='heatwaves_days', )\n",
    "\n",
    "plot_data.columns = ['infants', 'over 65']\n",
    "plot_data = plot_data[[ 'over 65', 'infants']]\n",
    "\n",
    "f , ax = plt.subplots(figsize=(6,2.7))\n",
    "\n",
    "ax = plot_data.plot.bar(stacked=True, width=0.89, ax=ax)\n",
    "ax.set_ylabel('Billion person-days')\n",
    "ax.set_title('Exposures of vulnerable populations to heatwaves')\n",
    "ax.legend(title='Age ')\n",
    "\n",
    "# NOTE: wasn't an easy way to set the different hatches so have to set manually the indexes\n",
    "# for p in ax.patches[:20]:\n",
    "#     p.set_hatch('...')\n",
    "#     p.set_edgecolor('C0')\n",
    "#     p.set_facecolor('w')\n",
    "\n",
    "# for p in ax.patches[43:63]:\n",
    "#     p.set_hatch('xxxx')\n",
    "#     p.set_edgecolor('C1')\n",
    "#     p.set_facecolor('w')\n",
    "\n",
    "# plt.savefig(RESULTS_FOLDER / f'heatwave person-days hybrid w newborn 1980-{MAX_YEAR}.png')\n",
    "# plt.savefig(RESULTS_FOLDER / f'heatwave person-days hybrid w newborn 1980-{MAX_YEAR}.pdf')"
   ]
  },
  {
   "cell_type": "code",
   "execution_count": null,
   "metadata": {},
   "outputs": [],
   "source": []
  },
  {
   "cell_type": "markdown",
   "metadata": {},
   "source": [
    "## By country"
   ]
  },
  {
   "cell_type": "code",
   "execution_count": null,
   "metadata": {},
   "outputs": [],
   "source": [
    "sns.color_palette(\"Paired\")"
   ]
  },
  {
   "cell_type": "code",
   "execution_count": null,
   "metadata": {},
   "outputs": [],
   "source": [
    "# _namelookup = COUNTRIES_LOOKUP.set_index('ISOCODE').NAME0.to_dict()\n",
    "# _namelookup['Other'] = 'Rest of World'"
   ]
  },
  {
   "cell_type": "code",
   "execution_count": null,
   "metadata": {},
   "outputs": [],
   "source": [
    "c = sns.color_palette(\"Paired\")"
   ]
  },
  {
   "cell_type": "code",
   "execution_count": null,
   "metadata": {},
   "outputs": [],
   "source": [
    "consistent_colors = dict(zip(\n",
    "    ['CHN', 'EGY', 'IDN', 'IND', 'JPN', 'NGA', 'Other', 'USA', 'ITA', 'PHL'],\n",
    "    [c[5], c[6],   c[7], c[3], c[8], c[11], c[0], c[1], c[10], c[9]]\n",
    "))"
   ]
  },
  {
   "cell_type": "code",
   "execution_count": null,
   "metadata": {
    "tags": []
   },
   "outputs": [],
   "source": [
    "country_lc_grouping = pd.read_excel(DATA_SRC / 'lancet' / 'admin_boundaries' /'Country Names and Groupings - 2024 Report.xlsx', header=1)"
   ]
  },
  {
   "cell_type": "code",
   "execution_count": null,
   "metadata": {},
   "outputs": [],
   "source": [
    "list(country_lc_grouping[country_lc_grouping.ISO3 == 'IDN']['Country Name to use'])"
   ]
  },
  {
   "cell_type": "code",
   "execution_count": null,
   "metadata": {
    "tags": []
   },
   "outputs": [],
   "source": [
    "var = 'heatwaves_days'\n",
    "age_band = 65\n",
    "\n",
    "top_codes = (country_exposure_change[var]\n",
    "             .sel(year=slice(2015,2020), age_band_lower_bound=65, drop=True)\n",
    "             .mean(dim='year')\n",
    "             .to_dataframe()\n",
    "             .sort_values(by=var, ascending=False)\n",
    "             .head(5)[var].index.to_list()\n",
    "            )\n",
    "selected_data_list = []\n",
    "\n",
    "# Loop through each country code\n",
    "for country_code in top_codes:\n",
    "    # Select the data for the current country\n",
    "    selected_data = country_exposure_change[var].sel(country=country_code)\n",
    "    \n",
    "    # Append the selected data to the list\n",
    "    selected_data_list.append(selected_data)\n",
    "\n",
    "# You now have a list of xarray DataArrays, one for each country\n",
    "# You can combine these into a single DataArray or Dataset if needed\n",
    "combined_data = xr.concat(selected_data_list, dim='country')\n",
    "\n",
    "\n",
    "# Sort and show the top 5 for a given year\n",
    "# top_codes = (country_exposure[var]\n",
    "#              .sel(year=slice(2015,2020), age_band_lower_bound=age_band, drop=True)\n",
    "#              .mean(dim='year')\n",
    "#              .to_dataframe()\n",
    "#              .sort_values(by=var, ascending=False)\n",
    "#              .head(5)[var].index.to_list()\n",
    "#             )\n",
    "\n",
    "results = (combined_data\n",
    "           .sel(age_band_lower_bound=age_band, drop=True)\n",
    "           .to_dataframe()[var]\n",
    "           .unstack().T)\n",
    "\n",
    "total_exposures_over65 = (country_exposure_change\n",
    "           .sel(age_band_lower_bound=age_band, drop=True)\n",
    "            .sum(dim=\"country\").to_dataframe().reset_index())\n",
    "\n",
    "# Difference between sum of top5 countries and total gives the 'other' category\n",
    "results['Other'] = np.array(total_exposures_over65['heatwaves_days']) - np.array(results.sum(axis=1))\n",
    "# invert column order\n",
    "results = results[results.columns[::-1]]\n",
    "\n",
    "f, ax = plt.subplots(figsize=(6.2, 2.5))\n",
    "(results / 1e9).plot.bar(stacked=True, \n",
    "                         width=0.9, \n",
    "                         ax=ax,\n",
    "                         color=consistent_colors\n",
    "                        )\n",
    "\n",
    "ax.set(\n",
    "    xlabel='Year',\n",
    "    ylabel='Billion person-days',\n",
    "    title='Exposures of over 65s to \\nchange in heatwave occurance',\n",
    ")\n",
    "ax.xaxis.set_tick_params(labelsize='small')\n",
    "ax.yaxis.set_tick_params(labelsize='small')\n",
    "\n",
    "# Manually order the legend\n",
    "handles, labels = ax.get_legend_handles_labels()\n",
    "d = dict(zip(labels, handles))\n",
    "iso_codes = dict(zip(labels, handles)).keys()\n",
    "\n",
    "ordered_handles = [d[l] for l in iso_codes]\n",
    "ordered_labels = [country_lc_grouping['Country Name to use'][country_lc_grouping.ISO3 == i].iloc[0] if i != \"Other\" else \"Other\" for i in iso_codes]\n",
    "\n",
    "\n",
    "ordered_handles = [d[l] for l in iso_codes]\n",
    "ax.legend(ordered_handles, ordered_labels, fontsize='small')\n",
    "\n",
    "f.savefig(PATH_FIGURES / f'hw_exposure_over65_countries_1980-{MAX_YEAR}.png')\n",
    "f.savefig(PATH_FIGURES / f'hw_exposure_over65_countries_1980-{MAX_YEAR}.pdf')\n",
    "\n"
   ]
  },
  {
   "cell_type": "code",
   "execution_count": null,
   "metadata": {},
   "outputs": [],
   "source": []
  },
  {
   "cell_type": "code",
   "execution_count": null,
   "metadata": {},
   "outputs": [],
   "source": [
    "top_codes"
   ]
  },
  {
   "cell_type": "code",
   "execution_count": null,
   "metadata": {
    "tags": []
   },
   "outputs": [],
   "source": [
    "var = 'heatwaves_days'\n",
    "top_codes = (country_exposure_change[var]\n",
    "             .sel(year=slice(2015,2020), age_band_lower_bound=0, drop=True)\n",
    "             .mean(dim='year')\n",
    "             .to_dataframe()\n",
    "             .sort_values(by=var, ascending=False)\n",
    "             .head(5)[var].index.to_list()\n",
    "            )\n",
    "\n",
    "\n",
    "var = 'heatwaves_days'\n",
    "age_band = 0\n",
    "\n",
    "\n",
    "selected_data_list = []\n",
    "\n",
    "# Loop through each country code\n",
    "for country_code in top_codes:\n",
    "    # Select the data for the current country\n",
    "    selected_data = country_exposure_change[var].sel(country=country_code)\n",
    "    \n",
    "    # Append the selected data to the list\n",
    "    selected_data_list.append(selected_data)\n",
    "\n",
    "# You now have a list of xarray DataArrays, one for each country\n",
    "# You can combine these into a single DataArray or Dataset if needed\n",
    "combined_data = xr.concat(selected_data_list, dim='country')\n",
    "\n",
    "\n",
    "# Sort and show the top 5 for a given year\n",
    "# top_codes = (country_exposure[var]\n",
    "#              .sel(year=slice(2015,2020), age_band_lower_bound=age_band, drop=True)\n",
    "#              .mean(dim='year')\n",
    "#              .to_dataframe()\n",
    "#              .sort_values(by=var, ascending=False)\n",
    "#              .head(5)[var].index.to_list()\n",
    "#             )\n",
    "\n",
    "results = (combined_data\n",
    "           .sel(age_band_lower_bound=age_band, drop=True)\n",
    "           .to_dataframe()[var]\n",
    "           .unstack().T)\n",
    "\n",
    "total_exposures_infants = (country_exposure_change\n",
    "           .sel(age_band_lower_bound=age_band, drop=True)\n",
    "            .sum(dim=\"country\").to_dataframe().reset_index())\n",
    "\n",
    "# Difference between sum of top5 countries and total gives the 'other' category\n",
    "results['Other'] = np.array(total_exposures_infants['heatwaves_days']) - np.array(results.sum(axis=1))\n",
    "# invert column order\n",
    "results = results[results.columns[::-1]]\n",
    "\n",
    "f, ax = plt.subplots(figsize=(6.2, 2.5))\n",
    "(results / 1e9).plot.bar(stacked=True, \n",
    "                         width=0.9, \n",
    "                         ax=ax,\n",
    "                         color=consistent_colors\n",
    "                        )\n",
    "\n",
    "ax.set(\n",
    "    xlabel='Year',\n",
    "    ylabel='Billion person-days',\n",
    "    title='Exposures of infants to \\nchange in heatwave occurance',\n",
    ")\n",
    "ax.xaxis.set_tick_params(labelsize='small')\n",
    "ax.yaxis.set_tick_params(labelsize='small')\n",
    "\n",
    "# Manually order the legend\n",
    "handles, labels = ax.get_legend_handles_labels()\n",
    "d = dict(zip(labels, handles))\n",
    "iso_codes = dict(zip(labels, handles)).keys()\n",
    "\n",
    "\n",
    "ordered_handles = [d[l] for l in iso_codes]\n",
    "ordered_labels = [country_lc_grouping['Country Name to use'][country_lc_grouping.ISO3 == i].iloc[0] if i != \"Other\" else \"Other\" for i in iso_codes]\n",
    "\n",
    "ordered_handles = [d[l] for l in iso_codes]\n",
    "ax.legend(ordered_handles, ordered_labels, fontsize='small')\n",
    "\n",
    "f.savefig(PATH_FIGURES / f'hw_exposure_infants_countries_1980-{MAX_YEAR}.png')\n",
    "f.savefig(PATH_FIGURES / f'hw_exposure_infants_countries_1980-{MAX_YEAR}.pdf')\n"
   ]
  },
  {
   "cell_type": "code",
   "execution_count": null,
   "metadata": {},
   "outputs": [],
   "source": [
    "country_exposure_allages = country_exposure_change.sum('age_band_lower_bound')"
   ]
  },
  {
   "cell_type": "code",
   "execution_count": null,
   "metadata": {
    "tags": []
   },
   "outputs": [],
   "source": [
    "# var = 'heatwaves_days'\n",
    "# top_codes = (country_exposure_allages\n",
    "#              .sel(year=slice(2015,2020), drop=True)\n",
    "#              .mean(dim='year')\n",
    "#              .to_dataframe()\n",
    "#              .sort_values(by=var, ascending=False)\n",
    "#              .head(5)[var].index.to_list()\n",
    "#             )\n",
    "\n",
    "\n",
    "# var = 'heatwaves_days'\n",
    "# age_band = 0\n",
    "\n",
    "\n",
    "# selected_data_list = []\n",
    "\n",
    "# # Loop through each country code\n",
    "# for country_code in top_codes:\n",
    "#     # Select the data for the current country\n",
    "#     selected_data = country_exposure_allages[var].sel(country=country_code)\n",
    "    \n",
    "#     # Append the selected data to the list\n",
    "#     selected_data_list.append(selected_data)\n",
    "\n",
    "# # You now have a list of xarray DataArrays, one for each country\n",
    "# # You can combine these into a single DataArray or Dataset if needed\n",
    "# combined_data = xr.concat(selected_data_list, dim='country')\n",
    "\n",
    "\n",
    "# results = (combined_data\n",
    "#            .to_dataframe()[var]\n",
    "#            .unstack().T)\n",
    "\n",
    "\n",
    "\n",
    "# # Difference between sum of top5 countries and total gives the 'other' category\n",
    "# results['Other'] = (np.array(total_exposures_over65[var]) + np.array(total_exposures_infants[var]) ) - np.array(results.sum(axis=1))\n",
    "# # invert column order\n",
    "# results = results[results.columns[::-1]]\n",
    "\n",
    "# # with sns.color_palette(\"Paired\"):\n",
    "# f, ax = plt.subplots(figsize=(6.2, 2.5))\n",
    "# (results / 1e9).plot.bar(stacked=True, \n",
    "#                          width=0.9, \n",
    "#                          ax=ax,\n",
    "#                          color=consistent_colors\n",
    "#                         )\n",
    "\n",
    "# ax.set(\n",
    "#     xlabel='Year',\n",
    "#     ylabel='Billion person-days',\n",
    "#     title='Exposures of over 65s and newborns to \\nchange in heatwave occurance',\n",
    "# )\n",
    "# ax.xaxis.set_tick_params(labelsize='small')\n",
    "# ax.yaxis.set_tick_params(labelsize='small')\n",
    "\n",
    "# # Manually order the legend\n",
    "# handles, labels = ax.get_legend_handles_labels()\n",
    "# d = dict(zip(labels, handles))\n",
    "# iso_codes = dict(zip(labels, handles)).keys()\n",
    "\n",
    "# ordered_handles = [d[l] for l in iso_codes]\n",
    "# ordered_labels = [country_lc_grouping['Country Name to use'][country_lc_grouping.ISO3 == i].iloc[0] if i != \"Other\" else \"Other\" for i in iso_codes]\n",
    "\n",
    "# ax.legend(ordered_handles, ordered_labels, fontsize='small')\n",
    "\n",
    "# f.savefig(PATH_FIGURES / f'hw_exposure_over65_newborn_countries_1980-{MAX_YEAR}.png')\n",
    "# f.savefig(PATH_FIGURES / f'hw_exposure_over65_newborn_countries_1980-{MAX_YEAR}.pdf')\n"
   ]
  },
  {
   "cell_type": "code",
   "execution_count": null,
   "metadata": {
    "tags": []
   },
   "outputs": [],
   "source": [
    "var = 'exposures_total'\n",
    "top_codes = (country_exposure_abs[var]\n",
    "             .sel(year=slice(2015,2020), age_band_lower_bound=65, drop=True)\n",
    "             .mean(dim='year')\n",
    "             .to_dataframe()\n",
    "             .sort_values(by=var, ascending=False)\n",
    "             .head(5)[var].index.to_list()\n",
    "            )"
   ]
  },
  {
   "cell_type": "code",
   "execution_count": null,
   "metadata": {
    "tags": []
   },
   "outputs": [],
   "source": [
    "\n",
    "var = 'heatwaves_days'\n",
    "age_band = 65\n",
    "\n",
    "top_codes = (country_exposure_change[var]\n",
    "             .sel(year=slice(2015,2020), age_band_lower_bound=65, drop=True)\n",
    "             .mean(dim='year')\n",
    "             .to_dataframe()\n",
    "             .sort_values(by=var, ascending=False)\n",
    "             .head(5)[var].index.to_list()\n",
    "            )\n",
    "selected_data_list = []\n",
    "\n",
    "# Loop through each country code\n",
    "for country_code in top_codes:\n",
    "    # Select the data for the current country\n",
    "    selected_data = country_exposure_change[var].sel(country=country_code)\n",
    "    \n",
    "    # Append the selected data to the list\n",
    "    selected_data_list.append(selected_data)\n",
    "\n",
    "\n",
    "\n",
    "var = 'exposures_total'\n",
    "age_band = 65\n",
    "\n",
    "_total_exposures = exposures_abs.sum(['latitude', 'longitude'])\n",
    "_total_exposures = _total_exposures.sel(age_band_lower_bound=age_band, drop=True).to_dataframe().heatwaves_days\n",
    "\n",
    "plot_data = (country_exposure_abs[var].sel(country=country_exposure_abs.country.isin(top_codes))\n",
    "           .sel(age_band_lower_bound=age_band, year=slice(1980,None),\n",
    "                drop=True)\n",
    "           .to_dataframe()[var]\n",
    "           .unstack().T)\n",
    "# Difference between sum of top5 countries and total gives the 'other' category\n",
    "plot_data['Other'] = _total_exposures - plot_data.sum(axis=1)\n",
    "# invert column order\n",
    "plot_data = plot_data[plot_data.columns[::-1]]\n",
    "\n",
    "f, ax = plt.subplots(figsize=(6.2, 2.5))\n",
    "(plot_data / 1e9).plot.bar(stacked=True, \n",
    "                         width=0.9, \n",
    "                         ax=ax,\n",
    "                         color=consistent_colors\n",
    "                        )\n",
    "\n",
    "ax.set(\n",
    "    xlabel='Year',\n",
    "    ylabel='Billion person-days',\n",
    "    title='Exposures of over 65s to heatwaves',\n",
    ")\n",
    "ax.xaxis.set_tick_params(labelsize='small')\n",
    "ax.yaxis.set_tick_params(labelsize='small')\n",
    "\n",
    "# Manually order the legend\n",
    "handles, labels = ax.get_legend_handles_labels()\n",
    "d = dict(zip(labels, handles))\n",
    "iso_codes = dict(zip(labels, handles)).keys()\n",
    "\n",
    "\n",
    "ordered_handles = [d[l] for l in iso_codes]\n",
    "ordered_labels = [country_lc_grouping['Country Name to use'][country_lc_grouping.ISO3 == i].iloc[0] if i != \"Other\" else \"Other\" for i in iso_codes]\n",
    "\n",
    "ordered_handles = [d[l] for l in iso_codes]\n",
    "ax.legend(ordered_handles, ordered_labels, fontsize='small')\n",
    "\n",
    "f.savefig(FIGURES_FOLDER / f'hw_exposure_over65_countries_1980-{MAX_YEAR}.png')\n",
    "f.savefig(FIGURES_FOLDER / f'hw_exposure_over65_countries_1980-{MAX_YEAR}.pdf')\n"
   ]
  },
  {
   "cell_type": "code",
   "execution_count": null,
   "metadata": {},
   "outputs": [],
   "source": [
    "\n",
    "var = 'heatwaves_days'\n",
    "top_codes = (country_exposure_change[var]\n",
    "             .sel(year=slice(2015,2020), age_band_lower_bound=0, drop=True)\n",
    "             .mean(dim='year')\n",
    "             .to_dataframe()\n",
    "             .sort_values(by=var, ascending=False)\n",
    "             .head(5)[var].index.to_list()\n",
    "            )\n",
    "\n",
    "\n",
    "var = 'heatwaves_days'\n",
    "age_band = 0\n",
    "\n",
    "\n",
    "selected_data_list = []\n",
    "\n",
    "# Loop through each country code\n",
    "for country_code in top_codes:\n",
    "    # Select the data for the current country\n",
    "    selected_data = country_exposure_change[var].sel(country=country_code)\n",
    "    \n",
    "    # Append the selected data to the list\n",
    "    selected_data_list.append(selected_data)\n",
    "\n",
    "# You now have a list of xarray DataArrays, one for each country\n",
    "# You can combine these into a single DataArray or Dataset if needed\n",
    "combined_data = xr.concat(selected_data_list, dim='country')\n",
    "\n",
    "var = 'exposures_total'\n",
    "age_band = 0\n",
    "\n",
    "_total_exposures = exposures_abs.sum(['latitude', 'longitude'])\n",
    "_total_exposures = _total_exposures.sel(age_band_lower_bound=age_band, drop=True).to_dataframe().heatwaves_days\n",
    "\n",
    "plot_data = (country_exposure_abs[var].sel(country=country_exposure_abs.country.isin(top_codes))\n",
    "           .sel(age_band_lower_bound=age_band, year=slice(1980,None),\n",
    "                drop=True)\n",
    "           .to_dataframe()[var]\n",
    "           .unstack().T)\n",
    "# Difference between sum of top5 countries and total gives the 'other' category\n",
    "plot_data['Other'] = _total_exposures - plot_data.sum(axis=1)\n",
    "# invert column order\n",
    "plot_data = plot_data[plot_data.columns[::-1]]\n",
    "\n",
    "f, ax = plt.subplots(figsize=(6.2, 2.5))\n",
    "(plot_data / 1e9).plot.bar(stacked=True, \n",
    "                         width=0.9, \n",
    "                         ax=ax,\n",
    "                         color=consistent_colors\n",
    "                        )\n",
    "\n",
    "ax.set(\n",
    "    xlabel='Year',\n",
    "    ylabel='Billion person-days',\n",
    "    title='Exposures of infants to heatwaves',\n",
    ")\n",
    "ax.xaxis.set_tick_params(labelsize='small')\n",
    "ax.yaxis.set_tick_params(labelsize='small')\n",
    "\n",
    "# Manually order the legend\n",
    "handles, labels = ax.get_legend_handles_labels()\n",
    "d = dict(zip(labels, handles))\n",
    "iso_codes = dict(zip(labels, handles)).keys()\n",
    "\n",
    "\n",
    "ordered_handles = [d[l] for l in iso_codes]\n",
    "ordered_labels = [country_lc_grouping['Country Name to use'][country_lc_grouping.ISO3 == i].iloc[0] if i != \"Other\" else \"Other\" for i in iso_codes]\n",
    "\n",
    "ordered_handles = [d[l] for l in iso_codes]\n",
    "ax.legend(ordered_handles, ordered_labels, fontsize='small')\n",
    "\n",
    "f.savefig(FIGURES_FOLDER / f'hw_exposure_infants_countries_1980-{MAX_YEAR}.png')\n",
    "f.savefig(FIGURES_FOLDER / f'hw_exposure_infants_countries_1980-{MAX_YEAR}.pdf')\n"
   ]
  },
  {
   "cell_type": "markdown",
   "metadata": {},
   "source": [
    "## HDI and WHO plots for appendix"
   ]
  },
  {
   "cell_type": "code",
   "execution_count": null,
   "metadata": {},
   "outputs": [],
   "source": [
    "import seaborn as sns"
   ]
  },
  {
   "cell_type": "code",
   "execution_count": null,
   "metadata": {},
   "outputs": [],
   "source": [
    "hdi_exposure"
   ]
  },
  {
   "cell_type": "code",
   "execution_count": null,
   "metadata": {},
   "outputs": [],
   "source": [
    "import seaborn as sns\n",
    "plot_data = (hdi_exposure\n",
    "             .exposures_weighted\n",
    "             .rolling(year=10)\n",
    "             .mean()\n",
    "             .to_dataframe()\n",
    "             .reset_index()\n",
    "             .rename(columns={'age_band_lower_bound': 'Age group',\n",
    "                                      'exposures_weighted': 'Heatwave days',\n",
    "                                      'level_of_human_development':'HDI class'})\n",
    "            )\n",
    "plot_data = plot_data[plot_data['HDI class']!='']\n",
    "# plot_data[plot_data.age_band_lower_bound ==0]\n",
    "ax = sns.relplot(kind='line', data=plot_data,\n",
    "            x='year', y='Heatwave days', col='Age group', hue='HDI class',\n",
    "           facet_kws={'sharey': True})\n",
    "ax.figure.suptitle('10 year rolling mean of population-weighted heatwave days by HDI category', y=1.02)\n",
    "ax.figure.savefig(PATH_FIGURES / 'heatwave_days_by_hdi.png')"
   ]
  },
  {
   "cell_type": "code",
   "execution_count": null,
   "metadata": {
    "tags": []
   },
   "outputs": [],
   "source": [
    "plot_data = (who_exposure\n",
    "             .exposures_weighted\n",
    "             .rolling(year=10)\n",
    "             .mean()\n",
    "             .to_dataframe()\n",
    "             .reset_index()\n",
    "             .rename(columns={'age_band_lower_bound': 'Age group',\n",
    "                              'exposures_weighted': 'Heatwave days',\n",
    "                              'who_region':'WHO region'})\n",
    "            )\n",
    "# plot_data[plot_data.age_band_lower_bound ==0]\n",
    "ax = sns.relplot(kind='line', data=plot_data,\n",
    "            x='year', y='Heatwave days', col='Age group', hue='WHO region',\n",
    "           facet_kws={'sharey': True})\n",
    "ax.figure.suptitle('10 year rolling mean of population-weighted heatwave days by WHO Region', y=1.02)\n",
    "ax.figure.savefig(PATH_FIGURES / 'heatwave_days_by_who.png')"
   ]
  },
  {
   "cell_type": "code",
   "execution_count": null,
   "metadata": {},
   "outputs": [],
   "source": []
  }
 ],
 "metadata": {
  "kernelspec": {
   "display_name": "climada_venv",
   "language": "python",
   "name": "climada_venv"
  },
  "language_info": {
   "codemirror_mode": {
    "name": "ipython",
    "version": 3
   },
   "file_extension": ".py",
   "mimetype": "text/x-python",
   "name": "python",
   "nbconvert_exporter": "python",
   "pygments_lexer": "ipython3",
   "version": "3.10.4"
  }
 },
 "nbformat": 4,
 "nbformat_minor": 4
}
