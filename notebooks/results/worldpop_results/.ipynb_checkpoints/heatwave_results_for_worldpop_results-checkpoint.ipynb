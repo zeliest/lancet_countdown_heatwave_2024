{
 "cells": [
  {
   "cell_type": "markdown",
   "metadata": {},
   "source": [
    "# Present data for report\n",
    "\n"
   ]
  },
  {
   "cell_type": "code",
   "execution_count": 31,
   "metadata": {},
   "outputs": [],
   "source": [
    "from pathlib import Path\n",
    "import numpy as np\n",
    "import pandas as pd\n",
    "import geopandas as gpdx\n",
    "import xarray as xr\n",
    "import matplotlib.pyplot as plt\n",
    "import seaborn as sns\n",
    "\n",
    "from cartopy import crs as ccrs\n",
    "from scipy import stats\n",
    "\n",
    "from config import DATA_SRC, POP_DATA_SRC, WEATHER_SRC"
   ]
  },
  {
   "cell_type": "code",
   "execution_count": 32,
   "metadata": {},
   "outputs": [],
   "source": [
    "# Figure settings\n",
    "plt.rcParams['figure.dpi'] = 120\n",
    "plt.rcParams['savefig.dpi'] = 600\n",
    "plt.rcParams['figure.figsize'] = (5,2.5)\n",
    "plt.rcParams['figure.titlesize'] = 'medium'\n",
    "plt.rcParams['axes.titlesize'] = 'medium'\n",
    "plt.rcParams['savefig.bbox'] = 'tight'"
   ]
  },
  {
   "cell_type": "code",
   "execution_count": 33,
   "metadata": {},
   "outputs": [],
   "source": [
    "MAX_YEAR = 2023\n",
    "REFERENCE_YEAR_START = 1986\n",
    "REFERENCE_YEAR_END = 2005\n",
    "\n",
    "RESULTS_FOLDER =  DATA_SRC / 'lancet'/ 'heatwaves'/ f'results_{MAX_YEAR + 1}/gpw_exposure'\n",
    "\n",
    "\n",
    "INTERMEDIATE_RESULTS_FOLDER =  DATA_SRC / 'lancet'/ 'heatwaves'/ f'results_{MAX_YEAR + 1}/gpw_exposure'\n",
    "\n",
    "SD_FOLDER = Path('~').expanduser() / 'Documents' / 'Lancet'/ 'Data' / 'Standardisation guidelines - LIVE FOR AUTHORS'\n",
    "COUNTRY_SHAPEFILE = Path('/nfs/n2o/wcr/szelie/lancet/reports') / 'Shapefiles' / 'detailed_2013.shp'\n",
    "\n",
    "COUNTRY_ID_LOOKUP = DATA_SRC/ 'lancet/population/gpwv4/gpw_v4_national_identifier_lookup.txt'\n",
    "COUNTRY_RASTER_FILES = DATA_SRC/ 'lancet/population/country_codes_30min_era_compat.nc'\n",
    "\n",
    "DEMOGRAPHICS_TOTALS_FILE = POP_DATA_SRC / 'demographics_hybrid_1950_2020_15_min_era_compat.nc'\n",
    "INFANTS_TOTALS_FILE = POP_DATA_SRC / 'infants_1950_2020_hybrid_15_min_era_compat.nc'"
   ]
  },
  {
   "cell_type": "code",
   "execution_count": 34,
   "metadata": {},
   "outputs": [],
   "source": [
    "MAP_PROJECTION = ccrs.EckertIII()"
   ]
  },
  {
   "cell_type": "code",
   "execution_count": 35,
   "metadata": {},
   "outputs": [],
   "source": [
    "MIN_YEAR = 1980"
   ]
  },
  {
   "cell_type": "code",
   "execution_count": 36,
   "metadata": {},
   "outputs": [],
   "source": [
    "COUNTRIES_LOOKUP = pd.read_csv(COUNTRY_ID_LOOKUP,sep='\\t')"
   ]
  },
  {
   "cell_type": "code",
   "execution_count": 37,
   "metadata": {
    "tags": []
   },
   "outputs": [],
   "source": [
    "GPW_FILE = DATA_SRC/ 'lancet/population/UN WPP-Adjusted Population Count v4.11 2000-2020 15min era compat.nc'\n",
    "\n",
    "gpw_dat = xr.open_dataset(GPW_FILE)\n",
    "COUNTRIES_RASTER = gpw_dat['National Identifier Grid, v4.11 (2010): National Identifier Grid'].load()\n",
    "land_mask = (COUNTRIES_RASTER < 2000)"
   ]
  },
  {
   "cell_type": "markdown",
   "metadata": {},
   "source": [
    "## Load basic country data"
   ]
  },
  {
   "cell_type": "code",
   "execution_count": 38,
   "metadata": {
    "tags": []
   },
   "outputs": [],
   "source": [
    "COUNTRIES_LC_GROUPINGS = pd.read_excel('/nfs/n2o/wcr/szelie/lancet/reports/Country Names and groupings - 2023 Report.xlsx', header=1)"
   ]
  },
  {
   "cell_type": "code",
   "execution_count": 39,
   "metadata": {
    "tags": []
   },
   "outputs": [],
   "source": [
    "COUNTRIES_LOOKUP = COUNTRIES_LOOKUP.join(\n",
    "    COUNTRIES_LC_GROUPINGS.set_index('ISO3')[['LC Grouping']], on='ISOCODE' )"
   ]
  },
  {
   "cell_type": "code",
   "execution_count": 40,
   "metadata": {},
   "outputs": [],
   "source": [
    "import requests\n",
    "import geopandas as gpd\n",
    "\n",
    "# URL of the MapServer layer\n",
    "url = \"https://extranet.who.int/maps/rest/services/GHO/world_2013_detailed_basemap_layer1/MapServer/2/query\"\n",
    "\n",
    "# Parameters for the query\n",
    "params = {\n",
    "    \"where\": \"1=1\",\n",
    "    \"outFields\": \"*\",  # Request all fields\n",
    "    \"outSR\": \"4326\",\n",
    "    \"f\": \"geojson\"\n",
    "}\n",
    "\n",
    "# Send the request\n",
    "response = requests.get(url, params=params)\n",
    "\n",
    "# Check if the request was successful\n",
    "if response.status_code == 200:\n",
    "    # Convert response to GeoDataFrame\n",
    "    data = response.json()\n",
    "    countries = gpd.GeoDataFrame.from_features(data[\"features\"])\n",
    "\n",
    "    # Save the GeoDataFrame as a Shapefile\n",
    "else:\n",
    "    print(\"Failed to retrieve data: HTTP Status\", response.status_code)\n"
   ]
  },
  {
   "cell_type": "code",
   "execution_count": 41,
   "metadata": {},
   "outputs": [],
   "source": [
    "#countries = gpd.read_file(COUNTRY_SHAPEFILE)"
   ]
  },
  {
   "cell_type": "code",
   "execution_count": 42,
   "metadata": {},
   "outputs": [
    {
     "data": {
      "text/plain": [
       "PosixPath('/cluster/home/szelie/Documents/Lancet/Data/Standardisation guidelines - LIVE FOR AUTHORS')"
      ]
     },
     "execution_count": 42,
     "metadata": {},
     "output_type": "execute_result"
    }
   ],
   "source": [
    "SD_FOLDER"
   ]
  },
  {
   "cell_type": "code",
   "execution_count": 43,
   "metadata": {},
   "outputs": [],
   "source": [
    "# #country_classification = pd.read_excel(SD_FOLDER / 'Country names - ISO3 codes - WHO and HDI classifications2021.xlsx', skiprows=1)\n",
    "\n",
    "# countries = countries.set_index('ISO_3_CODE')\n",
    "\n",
    "# countries = countries.join(country_classification.set_index('ISO ALPHA-3 code'))\n",
    "\n",
    "# countries.index.name = 'country'"
   ]
  },
  {
   "cell_type": "code",
   "execution_count": 44,
   "metadata": {
    "tags": []
   },
   "outputs": [],
   "source": [
    "#countries = countries.join(COUNTRIES_LOOKUP.set_index('ISOCODE')['LC Grouping'])"
   ]
  },
  {
   "cell_type": "code",
   "execution_count": 45,
   "metadata": {
    "tags": []
   },
   "outputs": [],
   "source": [
    "#countries.plot(column='LC Grouping')"
   ]
  },
  {
   "cell_type": "code",
   "execution_count": 46,
   "metadata": {},
   "outputs": [],
   "source": [
    "un_pop_totals = pd.read_csv(POP_DATA_SRC / 'UN' / 'WPP2019_TotalPopulationBySex.csv')\n",
    "un_pop_totals = un_pop_totals[un_pop_totals.VarID == 2] # medium variant \n",
    "\n",
    "un_pop_totals = un_pop_totals.set_index('LocID').join(COUNTRIES_LOOKUP.set_index('UNSDCODE')['ISOCODE'])\n",
    "\n",
    "un_pop_totals = un_pop_totals[~pd.isna(un_pop_totals.ISOCODE)]"
   ]
  },
  {
   "cell_type": "code",
   "execution_count": 47,
   "metadata": {},
   "outputs": [],
   "source": [
    "# un_pop_totals_xr = un_pop_totals[['ISOCODE', 'Time', 'PopTotal']].set_index(['ISOCODE', 'Time']).sort_index().to_xarray()\n",
    "\n",
    "# un_pop_totals_xr = un_pop_totals_xr.rename({'Time': 'year', 'ISOCODE': 'country'}).PopTotal"
   ]
  },
  {
   "cell_type": "markdown",
   "metadata": {},
   "source": [
    "## Load population data"
   ]
  },
  {
   "cell_type": "code",
   "execution_count": 48,
   "metadata": {},
   "outputs": [],
   "source": [
    "demographics_totals = xr.open_dataarray(DEMOGRAPHICS_TOTALS_FILE)\n",
    "# population_over_65 = demographics_totals.sel(age_band_lower_bound=65).load()\n",
    "\n",
    "population_infants = xr.open_dataarray(INFANTS_TOTALS_FILE)"
   ]
  },
  {
   "cell_type": "markdown",
   "metadata": {
    "tags": []
   },
   "source": [
    " Extrapolate demographic data to 2022"
   ]
  },
  {
   "cell_type": "code",
   "execution_count": 49,
   "metadata": {},
   "outputs": [
    {
     "data": {
      "text/html": [
       "<div><svg style=\"position: absolute; width: 0; height: 0; overflow: hidden\">\n",
       "<defs>\n",
       "<symbol id=\"icon-database\" viewBox=\"0 0 32 32\">\n",
       "<path d=\"M16 0c-8.837 0-16 2.239-16 5v4c0 2.761 7.163 5 16 5s16-2.239 16-5v-4c0-2.761-7.163-5-16-5z\"></path>\n",
       "<path d=\"M16 17c-8.837 0-16-2.239-16-5v6c0 2.761 7.163 5 16 5s16-2.239 16-5v-6c0 2.761-7.163 5-16 5z\"></path>\n",
       "<path d=\"M16 26c-8.837 0-16-2.239-16-5v6c0 2.761 7.163 5 16 5s16-2.239 16-5v-6c0 2.761-7.163 5-16 5z\"></path>\n",
       "</symbol>\n",
       "<symbol id=\"icon-file-text2\" viewBox=\"0 0 32 32\">\n",
       "<path d=\"M28.681 7.159c-0.694-0.947-1.662-2.053-2.724-3.116s-2.169-2.030-3.116-2.724c-1.612-1.182-2.393-1.319-2.841-1.319h-15.5c-1.378 0-2.5 1.121-2.5 2.5v27c0 1.378 1.122 2.5 2.5 2.5h23c1.378 0 2.5-1.122 2.5-2.5v-19.5c0-0.448-0.137-1.23-1.319-2.841zM24.543 5.457c0.959 0.959 1.712 1.825 2.268 2.543h-4.811v-4.811c0.718 0.556 1.584 1.309 2.543 2.268zM28 29.5c0 0.271-0.229 0.5-0.5 0.5h-23c-0.271 0-0.5-0.229-0.5-0.5v-27c0-0.271 0.229-0.5 0.5-0.5 0 0 15.499-0 15.5 0v7c0 0.552 0.448 1 1 1h7v19.5z\"></path>\n",
       "<path d=\"M23 26h-14c-0.552 0-1-0.448-1-1s0.448-1 1-1h14c0.552 0 1 0.448 1 1s-0.448 1-1 1z\"></path>\n",
       "<path d=\"M23 22h-14c-0.552 0-1-0.448-1-1s0.448-1 1-1h14c0.552 0 1 0.448 1 1s-0.448 1-1 1z\"></path>\n",
       "<path d=\"M23 18h-14c-0.552 0-1-0.448-1-1s0.448-1 1-1h14c0.552 0 1 0.448 1 1s-0.448 1-1 1z\"></path>\n",
       "</symbol>\n",
       "</defs>\n",
       "</svg>\n",
       "<style>/* CSS stylesheet for displaying xarray objects in jupyterlab.\n",
       " *\n",
       " */\n",
       "\n",
       ":root {\n",
       "  --xr-font-color0: var(--jp-content-font-color0, rgba(0, 0, 0, 1));\n",
       "  --xr-font-color2: var(--jp-content-font-color2, rgba(0, 0, 0, 0.54));\n",
       "  --xr-font-color3: var(--jp-content-font-color3, rgba(0, 0, 0, 0.38));\n",
       "  --xr-border-color: var(--jp-border-color2, #e0e0e0);\n",
       "  --xr-disabled-color: var(--jp-layout-color3, #bdbdbd);\n",
       "  --xr-background-color: var(--jp-layout-color0, white);\n",
       "  --xr-background-color-row-even: var(--jp-layout-color1, white);\n",
       "  --xr-background-color-row-odd: var(--jp-layout-color2, #eeeeee);\n",
       "}\n",
       "\n",
       "html[theme=dark],\n",
       "body.vscode-dark {\n",
       "  --xr-font-color0: rgba(255, 255, 255, 1);\n",
       "  --xr-font-color2: rgba(255, 255, 255, 0.54);\n",
       "  --xr-font-color3: rgba(255, 255, 255, 0.38);\n",
       "  --xr-border-color: #1F1F1F;\n",
       "  --xr-disabled-color: #515151;\n",
       "  --xr-background-color: #111111;\n",
       "  --xr-background-color-row-even: #111111;\n",
       "  --xr-background-color-row-odd: #313131;\n",
       "}\n",
       "\n",
       ".xr-wrap {\n",
       "  display: block !important;\n",
       "  min-width: 300px;\n",
       "  max-width: 700px;\n",
       "}\n",
       "\n",
       ".xr-text-repr-fallback {\n",
       "  /* fallback to plain text repr when CSS is not injected (untrusted notebook) */\n",
       "  display: none;\n",
       "}\n",
       "\n",
       ".xr-header {\n",
       "  padding-top: 6px;\n",
       "  padding-bottom: 6px;\n",
       "  margin-bottom: 4px;\n",
       "  border-bottom: solid 1px var(--xr-border-color);\n",
       "}\n",
       "\n",
       ".xr-header > div,\n",
       ".xr-header > ul {\n",
       "  display: inline;\n",
       "  margin-top: 0;\n",
       "  margin-bottom: 0;\n",
       "}\n",
       "\n",
       ".xr-obj-type,\n",
       ".xr-array-name {\n",
       "  margin-left: 2px;\n",
       "  margin-right: 10px;\n",
       "}\n",
       "\n",
       ".xr-obj-type {\n",
       "  color: var(--xr-font-color2);\n",
       "}\n",
       "\n",
       ".xr-sections {\n",
       "  padding-left: 0 !important;\n",
       "  display: grid;\n",
       "  grid-template-columns: 150px auto auto 1fr 20px 20px;\n",
       "}\n",
       "\n",
       ".xr-section-item {\n",
       "  display: contents;\n",
       "}\n",
       "\n",
       ".xr-section-item input {\n",
       "  display: none;\n",
       "}\n",
       "\n",
       ".xr-section-item input + label {\n",
       "  color: var(--xr-disabled-color);\n",
       "}\n",
       "\n",
       ".xr-section-item input:enabled + label {\n",
       "  cursor: pointer;\n",
       "  color: var(--xr-font-color2);\n",
       "}\n",
       "\n",
       ".xr-section-item input:enabled + label:hover {\n",
       "  color: var(--xr-font-color0);\n",
       "}\n",
       "\n",
       ".xr-section-summary {\n",
       "  grid-column: 1;\n",
       "  color: var(--xr-font-color2);\n",
       "  font-weight: 500;\n",
       "}\n",
       "\n",
       ".xr-section-summary > span {\n",
       "  display: inline-block;\n",
       "  padding-left: 0.5em;\n",
       "}\n",
       "\n",
       ".xr-section-summary-in:disabled + label {\n",
       "  color: var(--xr-font-color2);\n",
       "}\n",
       "\n",
       ".xr-section-summary-in + label:before {\n",
       "  display: inline-block;\n",
       "  content: '►';\n",
       "  font-size: 11px;\n",
       "  width: 15px;\n",
       "  text-align: center;\n",
       "}\n",
       "\n",
       ".xr-section-summary-in:disabled + label:before {\n",
       "  color: var(--xr-disabled-color);\n",
       "}\n",
       "\n",
       ".xr-section-summary-in:checked + label:before {\n",
       "  content: '▼';\n",
       "}\n",
       "\n",
       ".xr-section-summary-in:checked + label > span {\n",
       "  display: none;\n",
       "}\n",
       "\n",
       ".xr-section-summary,\n",
       ".xr-section-inline-details {\n",
       "  padding-top: 4px;\n",
       "  padding-bottom: 4px;\n",
       "}\n",
       "\n",
       ".xr-section-inline-details {\n",
       "  grid-column: 2 / -1;\n",
       "}\n",
       "\n",
       ".xr-section-details {\n",
       "  display: none;\n",
       "  grid-column: 1 / -1;\n",
       "  margin-bottom: 5px;\n",
       "}\n",
       "\n",
       ".xr-section-summary-in:checked ~ .xr-section-details {\n",
       "  display: contents;\n",
       "}\n",
       "\n",
       ".xr-array-wrap {\n",
       "  grid-column: 1 / -1;\n",
       "  display: grid;\n",
       "  grid-template-columns: 20px auto;\n",
       "}\n",
       "\n",
       ".xr-array-wrap > label {\n",
       "  grid-column: 1;\n",
       "  vertical-align: top;\n",
       "}\n",
       "\n",
       ".xr-preview {\n",
       "  color: var(--xr-font-color3);\n",
       "}\n",
       "\n",
       ".xr-array-preview,\n",
       ".xr-array-data {\n",
       "  padding: 0 5px !important;\n",
       "  grid-column: 2;\n",
       "}\n",
       "\n",
       ".xr-array-data,\n",
       ".xr-array-in:checked ~ .xr-array-preview {\n",
       "  display: none;\n",
       "}\n",
       "\n",
       ".xr-array-in:checked ~ .xr-array-data,\n",
       ".xr-array-preview {\n",
       "  display: inline-block;\n",
       "}\n",
       "\n",
       ".xr-dim-list {\n",
       "  display: inline-block !important;\n",
       "  list-style: none;\n",
       "  padding: 0 !important;\n",
       "  margin: 0;\n",
       "}\n",
       "\n",
       ".xr-dim-list li {\n",
       "  display: inline-block;\n",
       "  padding: 0;\n",
       "  margin: 0;\n",
       "}\n",
       "\n",
       ".xr-dim-list:before {\n",
       "  content: '(';\n",
       "}\n",
       "\n",
       ".xr-dim-list:after {\n",
       "  content: ')';\n",
       "}\n",
       "\n",
       ".xr-dim-list li:not(:last-child):after {\n",
       "  content: ',';\n",
       "  padding-right: 5px;\n",
       "}\n",
       "\n",
       ".xr-has-index {\n",
       "  font-weight: bold;\n",
       "}\n",
       "\n",
       ".xr-var-list,\n",
       ".xr-var-item {\n",
       "  display: contents;\n",
       "}\n",
       "\n",
       ".xr-var-item > div,\n",
       ".xr-var-item label,\n",
       ".xr-var-item > .xr-var-name span {\n",
       "  background-color: var(--xr-background-color-row-even);\n",
       "  margin-bottom: 0;\n",
       "}\n",
       "\n",
       ".xr-var-item > .xr-var-name:hover span {\n",
       "  padding-right: 5px;\n",
       "}\n",
       "\n",
       ".xr-var-list > li:nth-child(odd) > div,\n",
       ".xr-var-list > li:nth-child(odd) > label,\n",
       ".xr-var-list > li:nth-child(odd) > .xr-var-name span {\n",
       "  background-color: var(--xr-background-color-row-odd);\n",
       "}\n",
       "\n",
       ".xr-var-name {\n",
       "  grid-column: 1;\n",
       "}\n",
       "\n",
       ".xr-var-dims {\n",
       "  grid-column: 2;\n",
       "}\n",
       "\n",
       ".xr-var-dtype {\n",
       "  grid-column: 3;\n",
       "  text-align: right;\n",
       "  color: var(--xr-font-color2);\n",
       "}\n",
       "\n",
       ".xr-var-preview {\n",
       "  grid-column: 4;\n",
       "}\n",
       "\n",
       ".xr-var-name,\n",
       ".xr-var-dims,\n",
       ".xr-var-dtype,\n",
       ".xr-preview,\n",
       ".xr-attrs dt {\n",
       "  white-space: nowrap;\n",
       "  overflow: hidden;\n",
       "  text-overflow: ellipsis;\n",
       "  padding-right: 10px;\n",
       "}\n",
       "\n",
       ".xr-var-name:hover,\n",
       ".xr-var-dims:hover,\n",
       ".xr-var-dtype:hover,\n",
       ".xr-attrs dt:hover {\n",
       "  overflow: visible;\n",
       "  width: auto;\n",
       "  z-index: 1;\n",
       "}\n",
       "\n",
       ".xr-var-attrs,\n",
       ".xr-var-data {\n",
       "  display: none;\n",
       "  background-color: var(--xr-background-color) !important;\n",
       "  padding-bottom: 5px !important;\n",
       "}\n",
       "\n",
       ".xr-var-attrs-in:checked ~ .xr-var-attrs,\n",
       ".xr-var-data-in:checked ~ .xr-var-data {\n",
       "  display: block;\n",
       "}\n",
       "\n",
       ".xr-var-data > table {\n",
       "  float: right;\n",
       "}\n",
       "\n",
       ".xr-var-name span,\n",
       ".xr-var-data,\n",
       ".xr-attrs {\n",
       "  padding-left: 25px !important;\n",
       "}\n",
       "\n",
       ".xr-attrs,\n",
       ".xr-var-attrs,\n",
       ".xr-var-data {\n",
       "  grid-column: 1 / -1;\n",
       "}\n",
       "\n",
       "dl.xr-attrs {\n",
       "  padding: 0;\n",
       "  margin: 0;\n",
       "  display: grid;\n",
       "  grid-template-columns: 125px auto;\n",
       "}\n",
       "\n",
       ".xr-attrs dt,\n",
       ".xr-attrs dd {\n",
       "  padding: 0;\n",
       "  margin: 0;\n",
       "  float: left;\n",
       "  padding-right: 10px;\n",
       "  width: auto;\n",
       "}\n",
       "\n",
       ".xr-attrs dt {\n",
       "  font-weight: normal;\n",
       "  grid-column: 1;\n",
       "}\n",
       "\n",
       ".xr-attrs dt:hover span {\n",
       "  display: inline-block;\n",
       "  background: var(--xr-background-color);\n",
       "  padding-right: 10px;\n",
       "}\n",
       "\n",
       ".xr-attrs dd {\n",
       "  grid-column: 2;\n",
       "  white-space: pre-wrap;\n",
       "  word-break: break-all;\n",
       "}\n",
       "\n",
       ".xr-icon-database,\n",
       ".xr-icon-file-text2 {\n",
       "  display: inline-block;\n",
       "  vertical-align: middle;\n",
       "  width: 1em;\n",
       "  height: 1.5em !important;\n",
       "  stroke-width: 0;\n",
       "  stroke: currentColor;\n",
       "  fill: currentColor;\n",
       "}\n",
       "</style><pre class='xr-text-repr-fallback'>&lt;xarray.DataArray &#x27;infants&#x27; (latitude: 720, longitude: 1440, year: 71)&gt;\n",
       "[73612800 values with dtype=float32]\n",
       "Coordinates:\n",
       "  * longitude             (longitude) float64 0.0 0.25 0.5 ... 359.2 359.5 359.8\n",
       "  * latitude              (latitude) float64 90.0 89.75 89.5 ... -89.5 -89.75\n",
       "    age_band_lower_bound  int32 0\n",
       "  * year                  (year) int64 1950 1951 1952 1953 ... 2018 2019 2020</pre><div class='xr-wrap' style='display:none'><div class='xr-header'><div class='xr-obj-type'>xarray.DataArray</div><div class='xr-array-name'>'infants'</div><ul class='xr-dim-list'><li><span class='xr-has-index'>latitude</span>: 720</li><li><span class='xr-has-index'>longitude</span>: 1440</li><li><span class='xr-has-index'>year</span>: 71</li></ul></div><ul class='xr-sections'><li class='xr-section-item'><div class='xr-array-wrap'><input id='section-8f809b63-953f-4207-8b30-c1ec1083b4f6' class='xr-array-in' type='checkbox' checked><label for='section-8f809b63-953f-4207-8b30-c1ec1083b4f6' title='Show/hide data repr'><svg class='icon xr-icon-database'><use xlink:href='#icon-database'></use></svg></label><div class='xr-array-preview xr-preview'><span>...</span></div><div class='xr-array-data'><pre>[73612800 values with dtype=float32]</pre></div></div></li><li class='xr-section-item'><input id='section-29d5d080-314c-4097-96a9-1d1e11280e11' class='xr-section-summary-in' type='checkbox'  checked><label for='section-29d5d080-314c-4097-96a9-1d1e11280e11' class='xr-section-summary' >Coordinates: <span>(4)</span></label><div class='xr-section-inline-details'></div><div class='xr-section-details'><ul class='xr-var-list'><li class='xr-var-item'><div class='xr-var-name'><span class='xr-has-index'>longitude</span></div><div class='xr-var-dims'>(longitude)</div><div class='xr-var-dtype'>float64</div><div class='xr-var-preview xr-preview'>0.0 0.25 0.5 ... 359.2 359.5 359.8</div><input id='attrs-babaac00-6c72-4a4f-b307-19ee2b836d66' class='xr-var-attrs-in' type='checkbox' disabled><label for='attrs-babaac00-6c72-4a4f-b307-19ee2b836d66' title='Show/Hide attributes'><svg class='icon xr-icon-file-text2'><use xlink:href='#icon-file-text2'></use></svg></label><input id='data-d823207f-c65e-41bf-b261-9f6d5299fd7b' class='xr-var-data-in' type='checkbox'><label for='data-d823207f-c65e-41bf-b261-9f6d5299fd7b' title='Show/Hide data repr'><svg class='icon xr-icon-database'><use xlink:href='#icon-database'></use></svg></label><div class='xr-var-attrs'><dl class='xr-attrs'></dl></div><div class='xr-var-data'><pre>array([0.0000e+00, 2.5000e-01, 5.0000e-01, ..., 3.5925e+02, 3.5950e+02,\n",
       "       3.5975e+02])</pre></div></li><li class='xr-var-item'><div class='xr-var-name'><span class='xr-has-index'>latitude</span></div><div class='xr-var-dims'>(latitude)</div><div class='xr-var-dtype'>float64</div><div class='xr-var-preview xr-preview'>90.0 89.75 89.5 ... -89.5 -89.75</div><input id='attrs-5e637392-8e71-4e10-a69c-a4ea3d80d426' class='xr-var-attrs-in' type='checkbox' disabled><label for='attrs-5e637392-8e71-4e10-a69c-a4ea3d80d426' title='Show/Hide attributes'><svg class='icon xr-icon-file-text2'><use xlink:href='#icon-file-text2'></use></svg></label><input id='data-a349d318-fc2b-4825-bb39-462998557eb3' class='xr-var-data-in' type='checkbox'><label for='data-a349d318-fc2b-4825-bb39-462998557eb3' title='Show/Hide data repr'><svg class='icon xr-icon-database'><use xlink:href='#icon-database'></use></svg></label><div class='xr-var-attrs'><dl class='xr-attrs'></dl></div><div class='xr-var-data'><pre>array([ 90.  ,  89.75,  89.5 , ..., -89.25, -89.5 , -89.75])</pre></div></li><li class='xr-var-item'><div class='xr-var-name'><span>age_band_lower_bound</span></div><div class='xr-var-dims'>()</div><div class='xr-var-dtype'>int32</div><div class='xr-var-preview xr-preview'>...</div><input id='attrs-95044a0c-8cfd-4834-83b6-79b584aad201' class='xr-var-attrs-in' type='checkbox' disabled><label for='attrs-95044a0c-8cfd-4834-83b6-79b584aad201' title='Show/Hide attributes'><svg class='icon xr-icon-file-text2'><use xlink:href='#icon-file-text2'></use></svg></label><input id='data-c71ae9f3-57ee-4d08-8ad3-72359eabe286' class='xr-var-data-in' type='checkbox'><label for='data-c71ae9f3-57ee-4d08-8ad3-72359eabe286' title='Show/Hide data repr'><svg class='icon xr-icon-database'><use xlink:href='#icon-database'></use></svg></label><div class='xr-var-attrs'><dl class='xr-attrs'></dl></div><div class='xr-var-data'><pre>array(0, dtype=int32)</pre></div></li><li class='xr-var-item'><div class='xr-var-name'><span class='xr-has-index'>year</span></div><div class='xr-var-dims'>(year)</div><div class='xr-var-dtype'>int64</div><div class='xr-var-preview xr-preview'>1950 1951 1952 ... 2018 2019 2020</div><input id='attrs-7b0d22d7-3e07-44a7-9302-e15f83f22316' class='xr-var-attrs-in' type='checkbox' disabled><label for='attrs-7b0d22d7-3e07-44a7-9302-e15f83f22316' title='Show/Hide attributes'><svg class='icon xr-icon-file-text2'><use xlink:href='#icon-file-text2'></use></svg></label><input id='data-e37e4c97-9060-4719-b09f-b98d2461d99f' class='xr-var-data-in' type='checkbox'><label for='data-e37e4c97-9060-4719-b09f-b98d2461d99f' title='Show/Hide data repr'><svg class='icon xr-icon-database'><use xlink:href='#icon-database'></use></svg></label><div class='xr-var-attrs'><dl class='xr-attrs'></dl></div><div class='xr-var-data'><pre>array([1950, 1951, 1952, 1953, 1954, 1955, 1956, 1957, 1958, 1959, 1960, 1961,\n",
       "       1962, 1963, 1964, 1965, 1966, 1967, 1968, 1969, 1970, 1971, 1972, 1973,\n",
       "       1974, 1975, 1976, 1977, 1978, 1979, 1980, 1981, 1982, 1983, 1984, 1985,\n",
       "       1986, 1987, 1988, 1989, 1990, 1991, 1992, 1993, 1994, 1995, 1996, 1997,\n",
       "       1998, 1999, 2000, 2001, 2002, 2003, 2004, 2005, 2006, 2007, 2008, 2009,\n",
       "       2010, 2011, 2012, 2013, 2014, 2015, 2016, 2017, 2018, 2019, 2020])</pre></div></li></ul></div></li><li class='xr-section-item'><input id='section-78732adc-98f5-42c4-ab06-0413835b4720' class='xr-section-summary-in' type='checkbox' disabled ><label for='section-78732adc-98f5-42c4-ab06-0413835b4720' class='xr-section-summary'  title='Expand/collapse section'>Attributes: <span>(0)</span></label><div class='xr-section-inline-details'></div><div class='xr-section-details'><dl class='xr-attrs'></dl></div></li></ul></div></div>"
      ],
      "text/plain": [
       "<xarray.DataArray 'infants' (latitude: 720, longitude: 1440, year: 71)>\n",
       "[73612800 values with dtype=float32]\n",
       "Coordinates:\n",
       "  * longitude             (longitude) float64 0.0 0.25 0.5 ... 359.2 359.5 359.8\n",
       "  * latitude              (latitude) float64 90.0 89.75 89.5 ... -89.5 -89.75\n",
       "    age_band_lower_bound  int32 ...\n",
       "  * year                  (year) int64 1950 1951 1952 1953 ... 2018 2019 2020"
      ]
     },
     "execution_count": 49,
     "metadata": {},
     "output_type": "execute_result"
    }
   ],
   "source": [
    "population_infants"
   ]
  },
  {
   "cell_type": "code",
   "execution_count": 50,
   "metadata": {},
   "outputs": [],
   "source": [
    "extrapolated_years = np.arange(2020+1, MAX_YEAR+1)"
   ]
  },
  {
   "cell_type": "code",
   "execution_count": null,
   "metadata": {
    "tags": []
   },
   "outputs": [],
   "source": [
    "demographics_totals = xr.concat(\n",
    "    [demographics_totals, \n",
    "     demographics_totals.interp(year=extrapolated_years, kwargs=dict(fill_value=\"extrapolate\"))\n",
    "    ], 'year')"
   ]
  },
  {
   "cell_type": "code",
   "execution_count": null,
   "metadata": {},
   "outputs": [],
   "source": [
    "population_over_65 = demographics_totals.sel(age_band_lower_bound=65).compute()"
   ]
  },
  {
   "cell_type": "code",
   "execution_count": null,
   "metadata": {},
   "outputs": [],
   "source": [
    "population_infants = xr.concat(\n",
    "    [population_infants, \n",
    "     population_infants.interp(year=extrapolated_years, \n",
    "                               kwargs=dict(fill_value=\"extrapolate\"))],\n",
    "    'year').load()\n"
   ]
  },
  {
   "cell_type": "code",
   "execution_count": null,
   "metadata": {
    "tags": []
   },
   "outputs": [],
   "source": [
    "population = xr.concat([population_infants, population_over_65],\n",
    "                       dim=pd.Index([0, 65], name='age_band_lower_bound'))"
   ]
  },
  {
   "cell_type": "markdown",
   "metadata": {},
   "source": [
    "## Load Heatwave metrics data"
   ]
  },
  {
   "cell_type": "code",
   "execution_count": null,
   "metadata": {},
   "outputs": [],
   "source": [
    "INTERMEDIATE_RESULTS_FOLDER / 'heatwave_days_era5'"
   ]
  },
  {
   "cell_type": "code",
   "execution_count": null,
   "metadata": {
    "tags": []
   },
   "outputs": [],
   "source": [
    "heatwave_metrics_files = sorted((Path('/nfs/n2o/wcr/szelie/lancet/heatwaves/results_2024/heatwave_days_era5')).glob('*.nc'))\n",
    "heatwave_metrics = xr.open_mfdataset(heatwave_metrics_files, combine='by_coords')"
   ]
  },
  {
   "cell_type": "markdown",
   "metadata": {},
   "source": [
    "## Load exposure to change results"
   ]
  },
  {
   "cell_type": "code",
   "execution_count": null,
   "metadata": {},
   "outputs": [],
   "source": [
    "exposures_over65 = xr.open_dataset(INTERMEDIATE_RESULTS_FOLDER / f'heatwave_exposure_change_over65_multi_threshold_{MIN_YEAR}-{MAX_YEAR}.nc')\n",
    "\n",
    "exposures_infants = xr.open_dataset(\n",
    "    INTERMEDIATE_RESULTS_FOLDER / f'heatwave_exposure_change_infants_multi_threshold_{MIN_YEAR}-{MAX_YEAR}.nc')\n",
    "\n",
    "exposures_change = xr.concat([exposures_infants, exposures_over65], \n",
    "                             dim=pd.Index([0, 65], name='age_band_lower_bound'))"
   ]
  },
  {
   "cell_type": "code",
   "execution_count": null,
   "metadata": {},
   "outputs": [],
   "source": [
    "total_exposures = exposures_change.sum(['latitude', 'longitude'])\n",
    "\n",
    "total_exposures_change_over65 = total_exposures.sel(age_band_lower_bound=65, drop=True).to_dataframe()\n",
    "total_exposures_change_infants = total_exposures.sel(age_band_lower_bound=0, drop=True).to_dataframe()"
   ]
  },
  {
   "cell_type": "markdown",
   "metadata": {},
   "source": [
    "## Load exposure absolute values (not exposure to change)"
   ]
  },
  {
   "cell_type": "code",
   "execution_count": null,
   "metadata": {
    "tags": []
   },
   "outputs": [],
   "source": [
    "exposures_abs = xr.open_dataset(INTERMEDIATE_RESULTS_FOLDER / f'heatwave_exposure_multi_threshold_{MIN_YEAR}-{MAX_YEAR}.nc')"
   ]
  },
  {
   "cell_type": "markdown",
   "metadata": {},
   "source": [
    "## Load the country exposure results"
   ]
  },
  {
   "cell_type": "code",
   "execution_count": null,
   "metadata": {
    "tags": []
   },
   "outputs": [],
   "source": [
    "country_weighted = xr.open_dataset(\n",
    "    INTERMEDIATE_RESULTS_FOLDER / f'countries_heatwaves_exposure_weighted_change_{MIN_YEAR}-{MAX_YEAR}.nc')"
   ]
  },
  {
   "cell_type": "code",
   "execution_count": null,
   "metadata": {},
   "outputs": [],
   "source": [
    "country_exposure_change = xr.open_dataset(\n",
    "    INTERMEDIATE_RESULTS_FOLDER / f'countries_heatwaves_exposure_change_{MIN_YEAR}-{MAX_YEAR}.nc')"
   ]
  },
  {
   "cell_type": "code",
   "execution_count": null,
   "metadata": {
    "tags": []
   },
   "outputs": [],
   "source": [
    "country_exposure_abs = xr.open_dataset(\n",
    "    INTERMEDIATE_RESULTS_FOLDER / f'countries_heatwaves_exposure_{MIN_YEAR}-{MAX_YEAR}.nc')"
   ]
  },
  {
   "cell_type": "markdown",
   "metadata": {},
   "source": [
    "## Load aggregated by hdi and WHO region data"
   ]
  },
  {
   "cell_type": "code",
   "execution_count": null,
   "metadata": {},
   "outputs": [],
   "source": [
    "hdi_exposure = xr.open_dataset(INTERMEDIATE_RESULTS_FOLDER / f'hdi_regions_heatwaves_exposure_{MIN_YEAR}-{MAX_YEAR}.nc')\n",
    "who_exposure = xr.open_dataset(INTERMEDIATE_RESULTS_FOLDER / f'who_regions_heatwaves_exposure_{MIN_YEAR}-{MAX_YEAR}.nc')\n",
    "\n",
    "hdi_exposure_change = xr.open_dataset(INTERMEDIATE_RESULTS_FOLDER / f'hdi_regions_heatwaves_exposure_change_{MIN_YEAR}-{MAX_YEAR}.nc')\n",
    "who_exposure_change = xr.open_dataset(INTERMEDIATE_RESULTS_FOLDER / f'who_regions_heatwaves_exposure_change_{MIN_YEAR}-{MAX_YEAR}.nc')"
   ]
  },
  {
   "cell_type": "markdown",
   "metadata": {},
   "source": [
    "### Create country table with the WHO and HDI region columns"
   ]
  },
  {
   "cell_type": "code",
   "execution_count": null,
   "metadata": {},
   "outputs": [],
   "source": [
    "# country_exposure_change = xr.merge([\n",
    "#     country_exposure_change,\n",
    "#     countries.loc[~pd.isna(countries.index),\n",
    "#                ['WHO_REGION','WHO Region', 'Level of human development', 'Human Development Index in 2018 (HDI)']]\n",
    "#           .to_xarray()\n",
    "#          ])"
   ]
  },
  {
   "cell_type": "code",
   "execution_count": null,
   "metadata": {},
   "outputs": [],
   "source": [
    "# country_weighted = xr.merge([\n",
    "#     country_weighted,\n",
    "#     countries.loc[~pd.isna(countries.index),\n",
    "#                ['WHO_REGION','WHO Region', 'Level of human development', 'Human Development Index in 2018 (HDI)']]\n",
    "#           .to_xarray()\n",
    "#          ])"
   ]
  },
  {
   "cell_type": "markdown",
   "metadata": {},
   "source": [
    "## Load results by LC grouping"
   ]
  },
  {
   "cell_type": "code",
   "execution_count": null,
   "metadata": {
    "tags": []
   },
   "outputs": [],
   "source": [
    "exposures_change_lc_groups = xr.open_dataset(INTERMEDIATE_RESULTS_FOLDER / 'exposures_change_by_lc_group.nc')\n",
    "exposures_abs_lc_groups = xr.open_dataset(INTERMEDIATE_RESULTS_FOLDER / 'exposures_abs_by_lc_group.nc')\n",
    "\n"
   ]
  },
  {
   "cell_type": "markdown",
   "metadata": {},
   "source": [
    "# Re-export data tables as csv"
   ]
  },
  {
   "cell_type": "code",
   "execution_count": null,
   "metadata": {},
   "outputs": [],
   "source": [
    "(country_weighted\n",
    " .heatwaves_days\n",
    " .to_dataframe()\n",
    " .to_csv(RESULTS_FOLDER / 'heatwave_exposure_wieghted_change_days_by_country_w_hdi.csv')\n",
    ")\n",
    "(country_exposure_change\n",
    " .heatwaves_days\n",
    " .to_dataframe()\n",
    " .to_csv(RESULTS_FOLDER / 'heatwave_exposure_days_by_country.csv')\n",
    ")"
   ]
  },
  {
   "cell_type": "code",
   "execution_count": null,
   "metadata": {
    "tags": []
   },
   "outputs": [],
   "source": [
    "# (country_exposure_abs\n",
    "#  .sel(year=slice(1980,None))\n",
    "#  .to_dataframe()\n",
    "#  .join(countries[['WHO Region', 'Level of human development', 'LC Grouping']]\n",
    "#        .dropna(axis='index')\n",
    "#        .rename_axis(index='country')\n",
    "#       )\n",
    "#   .to_csv(RESULTS_FOLDER / 'heatwave_exposure_abs_days_by_country.csv')\n",
    "# )"
   ]
  },
  {
   "cell_type": "code",
   "execution_count": null,
   "metadata": {
    "tags": []
   },
   "outputs": [],
   "source": [
    "(who_exposure\n",
    " .to_dataframe()\n",
    " .to_csv(RESULTS_FOLDER / 'heatwave_exposure_days_by_who_region.csv')\n",
    ")\n",
    "\n",
    "(who_exposure_change\n",
    " .to_dataframe()\n",
    " .to_csv(RESULTS_FOLDER / 'heatwave_exposure_days_change_by_who_region.csv')\n",
    ")"
   ]
  },
  {
   "cell_type": "code",
   "execution_count": null,
   "metadata": {
    "tags": []
   },
   "outputs": [],
   "source": [
    "(hdi_exposure\n",
    " .to_dataframe()\n",
    " .to_csv(RESULTS_FOLDER / 'heatwave_exposure_days_by_hdi.csv')\n",
    ")\n",
    "\n",
    "(hdi_exposure_change\n",
    " .to_dataframe()\n",
    " .to_csv(RESULTS_FOLDER / 'heatwave_exposure_days_change_by_hdi.csv')\n",
    ")"
   ]
  },
  {
   "cell_type": "code",
   "execution_count": null,
   "metadata": {
    "tags": []
   },
   "outputs": [],
   "source": [
    "(exposures_abs_lc_groups\n",
    " .to_dataframe()\n",
    " .to_csv(RESULTS_FOLDER / 'heatwave_exposure_days_by_lc_group.csv')\n",
    ")\n",
    "(exposures_change_lc_groups\n",
    " .to_dataframe()\n",
    " .to_csv(RESULTS_FOLDER / 'heatwave_exposure_days_change_by_lc_group.csv')\n",
    ")"
   ]
  },
  {
   "cell_type": "markdown",
   "metadata": {},
   "source": [
    "# Plots"
   ]
  },
  {
   "cell_type": "markdown",
   "metadata": {},
   "source": [
    "## Plot days of heatwave experienced (exposure weighted days)\n",
    "\n",
    "This is again different from previous plots because we weight the absolute exposures instead of the changes. The idea is to be able to say something like in the 90s you would typically experience X days of heatwave per year while in the 2010s you experience Y days\n",
    "\n",
    "> Important when showing averages, don't do average of weighted number of days per country since you need to have it always population wieghted, otherwise HW for china counts the same as HW for luxembourg."
   ]
  },
  {
   "cell_type": "code",
   "execution_count": null,
   "metadata": {},
   "outputs": [],
   "source": [
    "# lc_map = countries.dissolve('LC Grouping')"
   ]
  },
  {
   "cell_type": "code",
   "execution_count": null,
   "metadata": {
    "tags": []
   },
   "outputs": [],
   "source": [
    "plot_data = heatwave_metrics\n",
    "# plot_data = plot_data.where(population.sel(age_band_lower_bound=65) > 10)\n",
    "plot_data = plot_data.sel(year=slice(1986,2005)).mean(dim='year')\n",
    "f, ax = plt.subplots(figsize=(6,3), subplot_kw=dict(projection=MAP_PROJECTION))\n",
    "\n",
    "plot_data.heatwaves_days.plot(\n",
    "    vmax=15,\n",
    "    transform=ccrs.PlateCarree(),\n",
    "    ax=ax)\n"
   ]
  },
  {
   "cell_type": "code",
   "execution_count": null,
   "metadata": {
    "tags": []
   },
   "outputs": [],
   "source": [
    "plot_data = heatwave_metrics\n",
    "plot_data = plot_data.sel(year=slice(2013,2023)).mean(dim='year')\n",
    "f, ax = plt.subplots(figsize=(6,3), subplot_kw=dict(projection=MAP_PROJECTION))\n",
    "\n",
    "plot_data.heatwaves_days.plot(\n",
    "    vmax=15,\n",
    "    transform=ccrs.PlateCarree(),\n",
    "    ax=ax)\n"
   ]
  },
  {
   "cell_type": "code",
   "execution_count": null,
   "metadata": {
    "tags": []
   },
   "outputs": [],
   "source": [
    "plot_data = heatwave_metrics.sel(year=2022) - heatwave_metrics.sel(year=slice(1986,2005)).mean(dim='year')\n",
    "plot_data = land_mask *plot_data\n",
    "# plot_data = plot_data.sel(year=slice(2013,2022)).mean(dim='year')\n",
    "f, ax = plt.subplots(figsize=(6,3), subplot_kw=dict(projection=MAP_PROJECTION))\n",
    "\n",
    "plot_data.heatwaves_days.plot(\n",
    "    transform=ccrs.PlateCarree(),\n",
    "    ax=ax,\n",
    "    vmin=-40, vmax=40,\n",
    "    cmap='RdBu_r',\n",
    ")\n",
    "ax.coastlines()\n",
    "ax.set_title(f'Change in number of heatwave days in {MAX_YEAR} \\n relative to 1986-2005 baseline')\n",
    "ax.figure.savefig(RESULTS_FOLDER / 'map_hw_change_2022.png')"
   ]
  },
  {
   "cell_type": "code",
   "execution_count": null,
   "metadata": {
    "tags": []
   },
   "outputs": [],
   "source": [
    "import geoplot"
   ]
  },
  {
   "cell_type": "markdown",
   "metadata": {},
   "source": [
    "Heatwave days per person in 2022. Don't show trend b/c too much variance, more just to give first idea."
   ]
  },
  {
   "cell_type": "code",
   "execution_count": null,
   "metadata": {
    "tags": []
   },
   "outputs": [],
   "source": [
    "exposures_abs.sum(['latitude', 'longitude']).to_dataframe() / 1e9"
   ]
  },
  {
   "cell_type": "code",
   "execution_count": null,
   "metadata": {
    "tags": []
   },
   "outputs": [],
   "source": [
    "exposures_abs_ts = exposures_abs.sum(['latitude', 'longitude']) / population.sel(year=slice(1980,2023)).sum(['latitude', 'longitude'])"
   ]
  },
  {
   "cell_type": "code",
   "execution_count": null,
   "metadata": {
    "tags": []
   },
   "outputs": [],
   "source": [
    "exposures_abs_ts_df = exposures_abs_ts.to_dataframe().unstack(1)\n",
    "exposures_abs_ts_df"
   ]
  },
  {
   "cell_type": "code",
   "execution_count": null,
   "metadata": {
    "tags": []
   },
   "outputs": [],
   "source": [
    "exposures_abs_ts_df.to_csv(RESULTS_FOLDER / 'heatwave_days_experienced.csv')"
   ]
  },
  {
   "cell_type": "code",
   "execution_count": null,
   "metadata": {
    "tags": []
   },
   "outputs": [],
   "source": [
    "exposures_abs_ts_df.loc[REFERENCE_YEAR_START:REFERENCE_YEAR_END].mean()"
   ]
  },
  {
   "cell_type": "code",
   "execution_count": null,
   "metadata": {
    "tags": []
   },
   "outputs": [],
   "source": [
    "(exposures_abs_ts_df.rolling(10).mean().dropna() - exposures_abs_ts_df.loc[REFERENCE_YEAR_START:REFERENCE_YEAR_END].mean()) / exposures_abs_ts_df.loc[REFERENCE_YEAR_START:REFERENCE_YEAR_END].mean()"
   ]
  },
  {
   "cell_type": "code",
   "execution_count": null,
   "metadata": {
    "tags": []
   },
   "outputs": [],
   "source": [
    "ax = (exposures_abs_ts\n",
    " .to_dataframe()\n",
    " .unstack(1)['heatwaves_days']\n",
    " .rename(columns={0:'Infants',65:'Over 65'})\n",
    " .rename_axis(columns=\"Age group\")\n",
    " .plot(ylabel='Days/year', title='Average number of heatwave days experienced'))\n",
    "\n",
    "ax.figure.savefig(RESULTS_FOLDER / 'global_hw_per_person.png')\n",
    "ax.figure.savefig(RESULTS_FOLDER / 'global_hw_per_person.pdf')"
   ]
  },
  {
   "cell_type": "code",
   "execution_count": null,
   "metadata": {
    "tags": []
   },
   "outputs": [],
   "source": [
    "plot_data = exposures_abs.sum(['latitude', 'longitude'])\n",
    "ax = ((plot_data / 1e9)\n",
    " .to_dataframe()\n",
    " .unstack(1)['heatwaves_days']\n",
    " .rename(columns={0:'Infants',65:'Over 65'})\n",
    " .rename_axis(columns=\"Age group\")\n",
    " .plot(ylabel='billion person-days', title='Total number of heatwave days experienced'))\n",
    "\n",
    "ax.figure.savefig(RESULTS_FOLDER / 'heatwaves_exposure_total.png')\n",
    "ax.figure.savefig(RESULTS_FOLDER / 'heatwaves_exposure_total.pdf')\n",
    "plot_data.to_dataframe().to_csv(RESULTS_FOLDER / 'heatwaves_exposure_total.csv')"
   ]
  },
  {
   "cell_type": "markdown",
   "metadata": {},
   "source": [
    "### Compare changes in total exposures with changes in population and heatwave days"
   ]
  },
  {
   "cell_type": "markdown",
   "metadata": {},
   "source": [
    "Simple attribution, given total increase in HW days exposre (person-days) what part is from climate and what part is from population increase?\n",
    "\n",
    "- Don't really do it (according to Xiang isn't that obvious), just report % changes in HW, Persons, and person-days between two reference periods\n",
    "- Choose a 'recent' period, could do ten-years to date so 2013-2022, bit random. Otherwise 2010-2020"
   ]
  },
  {
   "cell_type": "code",
   "execution_count": null,
   "metadata": {
    "tags": []
   },
   "outputs": [],
   "source": [
    "exposures_abs_rolling =  exposures_abs_ts_df.rolling(10).mean().dropna()"
   ]
  },
  {
   "cell_type": "code",
   "execution_count": null,
   "metadata": {
    "tags": []
   },
   "outputs": [],
   "source": [
    "exposures_abs_rolling.unstack().to_csv(RESULTS_FOLDER / 'heatwave_days_experienced_10_year_rolling_mean.csv')"
   ]
  },
  {
   "cell_type": "code",
   "execution_count": null,
   "metadata": {
    "tags": []
   },
   "outputs": [],
   "source": [
    "exposures_abs_rolling"
   ]
  },
  {
   "cell_type": "markdown",
   "metadata": {},
   "source": [
    "# IMPORTANT need to use weighted average for HW 'raw' can't just do the sum accross pixels cus thats bollocks."
   ]
  },
  {
   "cell_type": "code",
   "execution_count": null,
   "metadata": {
    "tags": []
   },
   "outputs": [],
   "source": [
    "cos_lat = np.cos(np.radians(heatwave_metrics.latitude))"
   ]
  },
  {
   "cell_type": "code",
   "execution_count": null,
   "metadata": {
    "tags": []
   },
   "outputs": [],
   "source": [
    "def _summary_weight(data, yrs):\n",
    "    return (data.sel(year=yrs) *cos_lat) .mean(['latitude', 'longitude']).mean(dim='year').compute()\n",
    "\n",
    "hw_ref = _summary_weight(heatwave_metrics.heatwaves_days , slice(1986,2005))\n",
    "hw_dec = _summary_weight(heatwave_metrics.heatwaves_days, slice(2013,2022))\n",
    "hw_rol = (heatwave_metrics.heatwaves_days*cos_lat).mean(['latitude', 'longitude']).rolling(year=10).mean().compute()\n"
   ]
  },
  {
   "cell_type": "code",
   "execution_count": null,
   "metadata": {
    "tags": []
   },
   "outputs": [],
   "source": [
    "hw_rol.name = 'heatwave_days'"
   ]
  },
  {
   "cell_type": "code",
   "execution_count": null,
   "metadata": {
    "tags": []
   },
   "outputs": [],
   "source": [
    "(100*(hw_dec - hw_ref) / hw_ref).item()"
   ]
  },
  {
   "cell_type": "code",
   "execution_count": null,
   "metadata": {
    "tags": []
   },
   "outputs": [],
   "source": [
    "def _summary(data, yrs):\n",
    "    return data.sel(year=yrs).sum(['latitude', 'longitude']).mean(dim='year').compute()\n",
    "\n",
    "# hw_ref = _summary(heatwave_metrics.heatwaves_days, slice(1986,2005))\n",
    "# hw_dec = _summary(heatwave_metrics.heatwaves_days, slice(2013,2022))\n",
    "# hw_rol = heatwave_metrics.heatwaves_days.sum(['latitude', 'longitude']).rolling(year=10).mean().compute()\n",
    "\n",
    "po_ref = _summary(population, slice(1986,2005))\n",
    "po_dec = _summary(population, slice(2013,2022))\n",
    "po_rol = population.sum(['latitude', 'longitude']).rolling(year=10).mean().compute()\n",
    "\n",
    "ex_ref = _summary(exposures_abs.heatwaves_days, slice(1986,2005))\n",
    "ex_dec = _summary(exposures_abs.heatwaves_days, slice(2013,2022))\n",
    "ex_rol = exposures_abs.heatwaves_days.sum(['latitude', 'longitude']).rolling(year=10).mean().compute()\n",
    "ex_rol.name = 'heatwave_person_days'"
   ]
  },
  {
   "cell_type": "code",
   "execution_count": null,
   "metadata": {
    "tags": []
   },
   "outputs": [],
   "source": [
    "ex_rol.to_dataframe().dropna().to_csv(RESULTS_FOLDER / 'heatwave_exposure_days_10_year_rolling_mean.csv')\n",
    "hw_rol.to_dataframe().dropna().to_csv(RESULTS_FOLDER / 'heatwave_days_10_year_rolling_mean.csv')\n",
    "po_rol.to_dataframe().dropna().to_csv(RESULTS_FOLDER / 'population_10_year_rolling_mean.csv')"
   ]
  },
  {
   "cell_type": "code",
   "execution_count": null,
   "metadata": {
    "tags": []
   },
   "outputs": [],
   "source": [
    "hw_ref"
   ]
  },
  {
   "cell_type": "code",
   "execution_count": null,
   "metadata": {
    "tags": []
   },
   "outputs": [],
   "source": [
    "hw_dec"
   ]
  },
  {
   "cell_type": "code",
   "execution_count": null,
   "metadata": {
    "tags": []
   },
   "outputs": [],
   "source": [
    "(hw_dec - hw_ref).item()"
   ]
  },
  {
   "cell_type": "code",
   "execution_count": null,
   "metadata": {
    "tags": []
   },
   "outputs": [],
   "source": [
    "(100*(hw_dec - hw_ref) / hw_ref).item()"
   ]
  },
  {
   "cell_type": "code",
   "execution_count": null,
   "metadata": {
    "tags": []
   },
   "outputs": [],
   "source": [
    "# (100*(hw_dec) / hw_ref).item()"
   ]
  },
  {
   "cell_type": "code",
   "execution_count": null,
   "metadata": {
    "tags": []
   },
   "outputs": [],
   "source": [
    "po_ref.to_dataframe()"
   ]
  },
  {
   "cell_type": "code",
   "execution_count": null,
   "metadata": {
    "tags": []
   },
   "outputs": [],
   "source": [
    "po_dec.to_dataframe()"
   ]
  },
  {
   "cell_type": "code",
   "execution_count": null,
   "metadata": {
    "tags": []
   },
   "outputs": [],
   "source": [
    "100*((po_dec - po_ref) / po_ref).to_dataframe()"
   ]
  },
  {
   "cell_type": "code",
   "execution_count": null,
   "metadata": {
    "tags": []
   },
   "outputs": [],
   "source": [
    "po_rol.to_dataframe().unstack().T"
   ]
  },
  {
   "cell_type": "code",
   "execution_count": null,
   "metadata": {
    "tags": []
   },
   "outputs": [],
   "source": [
    "100*((ex_dec - ex_ref) / ex_ref).to_dataframe()"
   ]
  },
  {
   "cell_type": "markdown",
   "metadata": {},
   "source": [
    "By LC group"
   ]
  },
  {
   "cell_type": "code",
   "execution_count": null,
   "metadata": {
    "tags": []
   },
   "outputs": [],
   "source": [
    "(100*(po_rol - po_ref) / po_ref).to_dataframe().unstack(0).plot()"
   ]
  },
  {
   "cell_type": "code",
   "execution_count": null,
   "metadata": {
    "tags": []
   },
   "outputs": [],
   "source": [
    "ax = (100*(ex_rol - ex_ref) / ex_ref).to_dataframe().unstack(0).plot()\n",
    "ax.axhline(0)"
   ]
  },
  {
   "cell_type": "code",
   "execution_count": null,
   "metadata": {
    "tags": []
   },
   "outputs": [],
   "source": [
    "# Map by LC group is not very interesting\n",
    "# e = (exposures_abs_lc_groups\n",
    "#  .exposures_weighted\n",
    "#  .sel(year=2022, age_band_lower_bound=65)\n",
    "#  .to_dataframe()\n",
    "#  .join(lc_map)\n",
    "#  .set_geometry('geometry')\n",
    "# )\n",
    "\n",
    "# e.plot(column='exposures_weighted', legend=True)"
   ]
  },
  {
   "cell_type": "markdown",
   "metadata": {},
   "source": [
    "By country"
   ]
  },
  {
   "cell_type": "code",
   "execution_count": null,
   "metadata": {
    "tags": []
   },
   "outputs": [],
   "source": [
    "f, axs = plt.subplots(2,1, sharex=True, figsize=(5,4))\n",
    "ax = axs[0]\n",
    "\n",
    "g = (country_exposure_abs.exposures_weighted\n",
    "     .sel(age_band_lower_bound=65, drop=True)\n",
    "     .sel(year=slice(1986,2005))\n",
    "     .mean(dim='year')\n",
    "     .to_dataframe()\n",
    "     .join(countries)\n",
    "     .set_geometry('geometry')\n",
    "     .plot(column='exposures_weighted', vmin=0, vmax=20, ax=ax,\n",
    "           legend=True\n",
    "          )\n",
    "    )\n",
    "\n",
    "ax = axs[1]\n",
    "\n",
    "g = (country_exposure_abs.exposures_weighted\n",
    "     .sel(age_band_lower_bound=65, drop=True)\n",
    "     .sel(year=slice(2013,2022))\n",
    "     .mean(dim='year')\n",
    "     .to_dataframe()\n",
    "     .join(countries)\n",
    "     .set_geometry('geometry')\n",
    "     .plot(column='exposures_weighted', vmin=0, vmax=20, ax=ax,\n",
    "           legend=True,\n",
    "           # cax=cax\n",
    "          # legend_kwds={'label': \"Heatwave days by Country\",\n",
    "                        # 'orientation': \"vertical\"}\n",
    "          )\n",
    "    )\n",
    "\n",
    "# f.colorbar(ax, ax=axs, shrink=0.6, location='bottom')\n"
   ]
  },
  {
   "cell_type": "code",
   "execution_count": null,
   "metadata": {
    "tags": []
   },
   "outputs": [],
   "source": [
    "ref = (country_exposure_abs.exposures_weighted\n",
    "     .sel(age_band_lower_bound=65, drop=True)\n",
    "     .sel(year=slice(1986,2005))\n",
    "     .mean(dim='year')\n",
    "     .to_dataframe()\n",
    "      )\n",
    "yr = (country_exposure_abs.exposures_weighted\n",
    "     .sel(age_band_lower_bound=65, drop=True)\n",
    "     .sel(year=slice(2013,2022))\n",
    "     .mean(dim='year')\n",
    "     .to_dataframe())\n",
    "     \n",
    "    \n",
    "e = ((yr-ref)\n",
    "     .join(countries)\n",
    "     .set_geometry('geometry')\n",
    "     .plot(column='exposures_weighted',\n",
    "           legend=True, vmin=0, vmax=14,\n",
    "           cmap='plasma'\n",
    "          )\n",
    "    )"
   ]
  },
  {
   "cell_type": "code",
   "execution_count": null,
   "metadata": {
    "tags": []
   },
   "outputs": [],
   "source": [
    "ref = (exposures_abs_lc_groups.exposures_weighted\n",
    "     # .sel(age_band_lower_bound=65, drop=True)\n",
    "     .sel(year=slice(1986,2005))\n",
    "     .mean(dim='year')\n",
    "     .to_dataframe()\n",
    "      )\n",
    "\n",
    "yr = (exposures_abs_lc_groups.exposures_weighted\n",
    "     # .sel(age_band_lower_bound=65, drop=True)\n",
    "     .sel(year=slice(2013,2022))\n",
    "     .mean(dim='year')\n",
    "     .to_dataframe())"
   ]
  },
  {
   "cell_type": "code",
   "execution_count": null,
   "metadata": {
    "tags": []
   },
   "outputs": [],
   "source": [
    "ax = (exposures_abs_lc_groups.exposures_weighted\n",
    "     .sel(year=2022)\n",
    "     .to_dataframe()\n",
    "      .exposures_weighted.unstack(1).rename_axis(index='', columns='Heatwave days')\n",
    "      .rename(index={'South and Central America': 'South and \\nCentral America'})\n",
    "      .plot\n",
    "      .bar(ylabel='days/year',\n",
    "           title='Heatwave days per vulnerable person\\n 10 year mean 2013-2022'\n",
    "          )\n",
    "      .legend(bbox_to_anchor=(1.04, 0.5), \n",
    "              loc=\"center left\", \n",
    "              borderaxespad=0, title='Age group')      \n",
    "     )\n",
    "ax.figure.savefig(RESULTS_FOLDER / 'heatwave_days_lc_group_2022.png')\n",
    "ax.figure.savefig(RESULTS_FOLDER / 'heatwave_days_lc_group_2022.pdf')"
   ]
  },
  {
   "cell_type": "code",
   "execution_count": null,
   "metadata": {
    "tags": []
   },
   "outputs": [],
   "source": [
    "ax = (yr\n",
    "      .exposures_weighted.unstack(1).rename_axis(index='', columns='Heatwave days')\n",
    "      .rename(index={'South and Central America': 'South and \\nCentral America'})\n",
    "      .plot\n",
    "      .bar(ylabel='days/year',\n",
    "           title='Heatwave days per vulnerable person\\n 10 year mean 2013-2022'\n",
    "          )\n",
    "      .legend(bbox_to_anchor=(1.04, 0.5), \n",
    "              loc=\"center left\", \n",
    "              borderaxespad=0, title='Age group')      \n",
    "     )\n",
    "ax.figure.savefig(RESULTS_FOLDER / 'heatwave_days_lc_group_2013-2022.png')\n",
    "ax.figure.savefig(RESULTS_FOLDER / 'heatwave_days_lc_group_2013-2022.pdf')"
   ]
  },
  {
   "cell_type": "code",
   "execution_count": null,
   "metadata": {
    "tags": []
   },
   "outputs": [],
   "source": [
    "e = (yr-ref).exposures_weighted.unstack(1).rename_axis(index='', columns='Heatwave days')"
   ]
  },
  {
   "cell_type": "code",
   "execution_count": null,
   "metadata": {
    "tags": []
   },
   "outputs": [],
   "source": [
    "e"
   ]
  },
  {
   "cell_type": "code",
   "execution_count": null,
   "metadata": {
    "tags": []
   },
   "outputs": [],
   "source": [
    "ax = (e\n",
    "      .rename(index={'South and Central America': 'South and \\nCentral America'})\n",
    "      .plot\n",
    "      .bar(ylabel='days/year',\n",
    "           title='Mean change in heatwave days per vulnerable person by region\\n from 1986-2005 to 2013-2022 '\n",
    "          )\n",
    "      .legend(bbox_to_anchor=(1.04, 0.5), \n",
    "              loc=\"center left\", \n",
    "              borderaxespad=0, title='Age group')\n",
    "     )\n",
    "ax.figure.savefig(RESULTS_FOLDER / 'heatwave_days_change_to_baseline_lc_group_2013-2022.png')\n",
    "ax.figure.savefig(RESULTS_FOLDER / 'heatwave_days_change_to_baseline_lc_group_2013-2022.pdf')"
   ]
  },
  {
   "cell_type": "code",
   "execution_count": null,
   "metadata": {
    "tags": []
   },
   "outputs": [],
   "source": [
    "p = (100*(yr-ref) / ref).exposures_weighted.unstack(1).rename_axis(index='', columns='Heatwave days')"
   ]
  },
  {
   "cell_type": "code",
   "execution_count": null,
   "metadata": {
    "tags": []
   },
   "outputs": [],
   "source": [
    "p.columns = ['Infants', '65+']"
   ]
  },
  {
   "cell_type": "code",
   "execution_count": null,
   "metadata": {
    "tags": []
   },
   "outputs": [],
   "source": [
    "p"
   ]
  },
  {
   "cell_type": "code",
   "execution_count": null,
   "metadata": {
    "tags": []
   },
   "outputs": [],
   "source": [
    "ax = (p\n",
    "      .rename(index={'South and Central America': 'South and \\nCentral America'})\n",
    "      .plot\n",
    "      .bar(ylabel='%',\n",
    "           title='Increase in mean heatwave days per by region\\n in 2013-2022 relative to baseline'\n",
    "          )\n",
    "      .legend(bbox_to_anchor=(1.04, 0.5), \n",
    "              loc=\"center left\", \n",
    "              borderaxespad=0, title='Age group')\n",
    "     )\n",
    "ax.figure.savefig(RESULTS_FOLDER / 'heatwave_days_pct_to_baseline_lc_group_2013-2022.png')\n",
    "ax.figure.savefig(RESULTS_FOLDER / 'heatwave_days_pct_to_baseline_lc_group_2013-2022.pdf')"
   ]
  },
  {
   "cell_type": "code",
   "execution_count": null,
   "metadata": {},
   "outputs": [],
   "source": []
  },
  {
   "cell_type": "markdown",
   "metadata": {},
   "source": [
    "## Plot exposures to change\n",
    "\n",
    "**NOTE** Some of this is already saved out automatically in the data gen notebook\n",
    "\n",
    "> Plot exposures combining the 1980-2000 values calculated using histsoc with the 2000-2020 values. Highlight that the data sources are different"
   ]
  },
  {
   "cell_type": "code",
   "execution_count": null,
   "metadata": {},
   "outputs": [],
   "source": [
    "with sns.axes_style(\"whitegrid\"):\n",
    "    var = 'heatwaves_days'\n",
    "\n",
    "    f, ax = plt.subplots()\n",
    "\n",
    "    (total_exposures_over65[var] / 1e9).loc[2000:].plot(ax=ax, label='GPWv4')\n",
    "    (total_exposures_over65[var] / 1e9).loc[:1999].plot(style=':', label='ISIMIP', ax=ax)\n",
    "    ax.legend()\n",
    "    ax.set_ylabel('Billion person-days')\n",
    "    f.savefig(RESULTS_FOLDER / 'heatwave person-days hybrid 1980-2020.png')\n",
    "    f.savefig(RESULTS_FOLDER / 'heatwave person-days hybrid 1980-2020.pdf')\n",
    "    \n",
    "    "
   ]
  },
  {
   "cell_type": "code",
   "execution_count": null,
   "metadata": {},
   "outputs": [],
   "source": [
    "plot_data  = (total_exposures_over65[var] / 1e9).rolling(10).mean()\n",
    "with sns.axes_style(\"whitegrid\"):\n",
    "    var = 'heatwaves_days'\n",
    "\n",
    "    f, ax = plt.subplots()\n",
    "\n",
    "    plot_data.plot(ax=ax, label='10-year rolling mean')\n",
    "#     (total_exposures_over65[var] / 1e9).loc[:1999].rolling(10).mean().plot(style=':', label='ISIMIP', ax=ax)\n",
    "    ax.legend()\n",
    "    ax.set_ylabel('Billion person-days')\n",
    "#     f.savefig(RESULTS_FOLDER / 'heatwave person-days hybrid 1980-2020.png')\n",
    "#     f.savefig(RESULTS_FOLDER / 'heatwave person-days hybrid 1980-2020.pdf')\n",
    "    \n",
    "    "
   ]
  },
  {
   "cell_type": "code",
   "execution_count": null,
   "metadata": {},
   "outputs": [],
   "source": [
    "plot_data =  exposures_change.sum(['latitude', 'longitude']).to_dataframe().unstack('age_band_lower_bound')\n",
    "plot_data.columns = ['infants', 'over 65']\n",
    "plot_data = plot_data[[ 'over 65', 'infants']]\n",
    "\n",
    "f , ax = plt.subplots(figsize=(6,2.7))\n",
    "ax = plot_data.plot.bar(stacked=True, width=0.89, ax=ax)\n",
    "ax.set_ylabel('Billion person-days')\n",
    "ax.set_title('Exposures of vulnerable populations to \\nchange in heatwave occurance')\n",
    "ax.legend(title='Age')\n",
    "\n",
    "# NOTE: wasn't an easy way to set the different hatches so have to set manually the indexes\n",
    "for p in ax.patches[:20]:\n",
    "    p.set_hatch('...')\n",
    "    p.set_edgecolor('C0')\n",
    "    p.set_facecolor('w')\n",
    "\n",
    "for p in ax.patches[43:63]:\n",
    "    p.set_hatch('xxxx')\n",
    "    p.set_edgecolor('C1')\n",
    "    p.set_facecolor('w')\n",
    "\n",
    "plt.savefig(RESULTS_FOLDER / f'heatwave person-days hybrid w newborn 1980-{MAX_YEAR}.png')\n",
    "plt.savefig(RESULTS_FOLDER / f'heatwave person-days hybrid w newborn 1980-{MAX_YEAR}.pdf')"
   ]
  },
  {
   "cell_type": "markdown",
   "metadata": {},
   "source": [
    "## Absolute exposures"
   ]
  },
  {
   "cell_type": "code",
   "execution_count": null,
   "metadata": {
    "tags": []
   },
   "outputs": [],
   "source": [
    "plot_data =  exposures_abs.sum(['latitude', 'longitude']).to_dataframe().unstack('age_band_lower_bound')\n",
    "# sns.barplot(data=plot_data, x='year', y='heatwaves_days', )\n",
    "\n",
    "plot_data.columns = ['infants', 'over 65']\n",
    "plot_data = plot_data[[ 'over 65', 'infants']]\n",
    "\n",
    "f , ax = plt.subplots(figsize=(6,2.7))\n",
    "\n",
    "ax = plot_data.plot.bar(stacked=True, width=0.89, ax=ax)\n",
    "ax.set_ylabel('Billion person-days')\n",
    "ax.set_title('Exposures of vulnerable populations to heatwaves')\n",
    "ax.legend(title='Age ')\n",
    "\n",
    "# NOTE: wasn't an easy way to set the different hatches so have to set manually the indexes\n",
    "for p in ax.patches[:20]:\n",
    "    p.set_hatch('...')\n",
    "    p.set_edgecolor('C0')\n",
    "    p.set_facecolor('w')\n",
    "\n",
    "for p in ax.patches[43:63]:\n",
    "    p.set_hatch('xxxx')\n",
    "    p.set_edgecolor('C1')\n",
    "    p.set_facecolor('w')\n",
    "\n",
    "# plt.savefig(RESULTS_FOLDER / f'heatwave person-days hybrid w newborn 1980-{MAX_YEAR}.png')\n",
    "# plt.savefig(RESULTS_FOLDER / f'heatwave person-days hybrid w newborn 1980-{MAX_YEAR}.pdf')"
   ]
  },
  {
   "cell_type": "code",
   "execution_count": null,
   "metadata": {},
   "outputs": [],
   "source": []
  },
  {
   "cell_type": "markdown",
   "metadata": {},
   "source": [
    "## By country"
   ]
  },
  {
   "cell_type": "code",
   "execution_count": null,
   "metadata": {},
   "outputs": [],
   "source": [
    "sns.color_palette(\"Paired\")"
   ]
  },
  {
   "cell_type": "code",
   "execution_count": null,
   "metadata": {},
   "outputs": [],
   "source": [
    "_namelookup = COUNTRIES_LOOKUP.set_index('ISOCODE').NAME0.to_dict()\n",
    "_namelookup['Other'] = 'Rest of World'"
   ]
  },
  {
   "cell_type": "code",
   "execution_count": null,
   "metadata": {},
   "outputs": [],
   "source": [
    "c = sns.color_palette(\"Paired\")"
   ]
  },
  {
   "cell_type": "code",
   "execution_count": null,
   "metadata": {},
   "outputs": [],
   "source": [
    "consistent_colors = dict(zip(\n",
    "    ['CHN', 'EGY', 'IDN', 'IND', 'JPN', 'NGA', 'Other', 'USA', 'ITA'],\n",
    "    [c[5], c[6],   c[7], c[3], c[8], c[11], c[0], c[1], c[10] ]\n",
    "))"
   ]
  },
  {
   "cell_type": "code",
   "execution_count": null,
   "metadata": {},
   "outputs": [],
   "source": [
    "var = 'heatwaves_days'\n",
    "top_codes = (country_exposure_change[var]\n",
    "             .sel(year=slice(2015,2020), age_band_lower_bound=65, drop=True)\n",
    "             .mean(dim='year')\n",
    "             .to_dataframe()\n",
    "             .sort_values(by=var, ascending=False)\n",
    "             .head(5)[var].index.to_list()\n",
    "            )"
   ]
  },
  {
   "cell_type": "code",
   "execution_count": null,
   "metadata": {
    "tags": []
   },
   "outputs": [],
   "source": [
    "top_codes"
   ]
  },
  {
   "cell_type": "code",
   "execution_count": null,
   "metadata": {
    "tags": []
   },
   "outputs": [],
   "source": [
    "var = 'heatwaves_days'\n",
    "age_band = 65\n",
    "# Sort and show the top 5 for a given year\n",
    "# top_codes = (country_exposure[var]\n",
    "#              .sel(year=slice(2015,2020), age_band_lower_bound=age_band, drop=True)\n",
    "#              .mean(dim='year')\n",
    "#              .to_dataframe()\n",
    "#              .sort_values(by=var, ascending=False)\n",
    "#              .head(5)[var].index.to_list()\n",
    "#             )\n",
    "\n",
    "results = (country_exposure[var]\n",
    "           .sel(country=top_codes, age_band_lower_bound=age_band, drop=True)\n",
    "           .to_dataframe()[var]\n",
    "           .unstack().T)\n",
    "# Difference between sum of top5 countries and total gives the 'other' category\n",
    "results['Other'] = total_exposures_over65[var] - results.sum(axis=1)\n",
    "# invert column order\n",
    "results = results[results.columns[::-1]]\n",
    "\n",
    "f, ax = plt.subplots(figsize=(6.2, 2.5))\n",
    "(results / 1e9).plot.bar(stacked=True, \n",
    "                         width=0.9, \n",
    "                         ax=ax,\n",
    "                         color=consistent_colors\n",
    "                        )\n",
    "\n",
    "ax.set(\n",
    "    xlabel='Year',\n",
    "    ylabel='Billion person-days',\n",
    "    title='Exposures of over 65s to \\nchange in heatwave occurance',\n",
    ")\n",
    "ax.xaxis.set_tick_params(labelsize='small')\n",
    "ax.yaxis.set_tick_params(labelsize='small')\n",
    "\n",
    "# Manually order the legend\n",
    "handles, labels = ax.get_legend_handles_labels()\n",
    "d = dict(zip(labels, handles))\n",
    "iso_codes = ['CHN', 'IND', 'JPN', 'USA', 'IDN', 'Other']\n",
    "\n",
    "\n",
    "ordered_handles = [d[l] for l in iso_codes]\n",
    "ordered_labels = [_namelookup[l] for l in iso_codes]\n",
    "\n",
    "ordered_handles = [d[l] for l in iso_codes]\n",
    "ax.legend(ordered_handles, ordered_labels, fontsize='small')\n",
    "\n",
    "f.savefig(RESULTS_FOLDER / f'hw_exposure_over65_countries_1980-{MAX_YEAR}.png')\n",
    "f.savefig(RESULTS_FOLDER / f'hw_exposure_over65_countries_1980-{MAX_YEAR}.pdf')\n",
    "result\n"
   ]
  },
  {
   "cell_type": "code",
   "execution_count": null,
   "metadata": {
    "tags": []
   },
   "outputs": [],
   "source": [
    "# Sort and show the top 5 for a given year\n",
    "var = 'heatwaves_days'\n",
    "age_band = 0\n",
    "# Sort and show the top 5 for a given year\n",
    "top_codes = (country_exposure[var]\n",
    "             .sel(year=slice(2015,2020), age_band_lower_bound=age_band, drop=True)\n",
    "             .mean(dim='year')\n",
    "             .to_dataframe()\n",
    "             .sort_values(by=var, ascending=False)\n",
    "             .head(5)[var].index.to_list()\n",
    "            )\n",
    "\n",
    "results = (country_exposure[var]\n",
    "           .sel(country=top_codes, age_band_lower_bound=age_band, drop=True)\n",
    "           .to_dataframe()[var]\n",
    "           .unstack().T)\n",
    "\n",
    "# Difference between sum of top5 countries and total gives the 'other' category\n",
    "results['Other'] = total_exposures_infants[var] - results.sum(axis=1)\n",
    "# invert column order\n",
    "results = results[results.columns[::-1]]\n",
    "\n",
    "f, ax = plt.subplots(figsize=(6.2, 2.5))\n",
    "(results / 1e9).plot.bar(stacked=True,\n",
    "                         width=0.9, \n",
    "                         ax=ax,\n",
    "                         color=consistent_colors\n",
    "                        )\n",
    "\n",
    "ax.set(\n",
    "    xlabel='Year',\n",
    "    ylabel='Billion person-days',\n",
    "    title='Exposures of infants to \\nchange in heatwave occurance',\n",
    ")\n",
    "ax.xaxis.set_tick_params(labelsize='small')\n",
    "ax.yaxis.set_tick_params(labelsize='small')\n",
    "\n",
    "# Manually order the legend\n",
    "handles, labels = ax.get_legend_handles_labels()\n",
    "d = dict(zip(labels, handles))\n",
    "iso_codes = ['IND','CHN', 'IDN',  'EGY', 'NGA', 'Other']\n",
    "\n",
    "ordered_handles = [d[l] for l in iso_codes]\n",
    "ordered_labels = [_namelookup[l] for l in iso_codes]\n",
    "\n",
    "ax.legend(ordered_handles, ordered_labels, fontsize='small')\n",
    "\n",
    "f.savefig(RESULTS_FOLDER / f'hw_exposure_infants_countries_1980-{MAX_YEAR}.png')\n",
    "f.savefig(RESULTS_FOLDER / f'hw_exposure_infants_countries_1980-{MAX_YEAR}.pdf')\n"
   ]
  },
  {
   "cell_type": "code",
   "execution_count": null,
   "metadata": {},
   "outputs": [],
   "source": [
    "country_exposure_allages = country_exposure.sum('age_band_lower_bound')"
   ]
  },
  {
   "cell_type": "code",
   "execution_count": null,
   "metadata": {
    "tags": []
   },
   "outputs": [],
   "source": [
    "var = 'heatwaves_days'\n",
    "# Sort and show the top 5 for a given year\n",
    "top_codes = (country_exposure_allages[var]\n",
    "             .sel(year=slice(2015,2020))\n",
    "             .mean(dim='year')\n",
    "             .to_dataframe()\n",
    "             .sort_values(by=var, ascending=False)\n",
    "             .head(5)[var]\n",
    "             .index\n",
    "             .to_list()\n",
    ")\n",
    "results = (country_exposure_allages[var]\n",
    "           .sel(country=top_codes)\n",
    "           .to_dataframe()[var]\n",
    "           .unstack()\n",
    "           .T)\n",
    "# Difference between sum of top5 countries and total gives the 'other' category\n",
    "results['Other'] = (total_exposures_over65[var] + total_exposures_infants[var] ) - results.sum(axis=1)\n",
    "# invert column order\n",
    "results = results[results.columns[::-1]]\n",
    "\n",
    "# with sns.color_palette(\"Paired\"):\n",
    "f, ax = plt.subplots(figsize=(6.2, 2.5))\n",
    "(results / 1e9).plot.bar(stacked=True, \n",
    "                         width=0.9, \n",
    "                         ax=ax,\n",
    "                         color=consistent_colors\n",
    "                        )\n",
    "\n",
    "ax.set(\n",
    "    xlabel='Year',\n",
    "    ylabel='Billion person-days',\n",
    "    title='Exposures of over 65s and newborns to \\nchange in heatwave occurance',\n",
    ")\n",
    "ax.xaxis.set_tick_params(labelsize='small')\n",
    "ax.yaxis.set_tick_params(labelsize='small')\n",
    "\n",
    "# Manually order the legend\n",
    "handles, labels = ax.get_legend_handles_labels()\n",
    "d = dict(zip(labels, handles))\n",
    "iso_codes = ['CHN', 'IND', 'JPN', 'USA', 'IDN', 'Other']\n",
    "\n",
    "ordered_handles = [d[l] for l in iso_codes]\n",
    "ordered_labels = [_namelookup[l] for l in iso_codes]\n",
    "\n",
    "ax.legend(ordered_handles, ordered_labels, fontsize='small')\n",
    "\n",
    "f.savefig(RESULTS_FOLDER / f'hw_exposure_over65_newborn_countries_1980-{MAX_YEAR}.png')\n",
    "f.savefig(RESULTS_FOLDER / f'hw_exposure_over65_newborn_countries_1980-{MAX_YEAR}.pdf')\n"
   ]
  },
  {
   "cell_type": "code",
   "execution_count": null,
   "metadata": {
    "tags": []
   },
   "outputs": [],
   "source": [
    "var = 'exposures_total'\n",
    "top_codes = (country_exposure_abs[var]\n",
    "             .sel(year=slice(2015,2020), age_band_lower_bound=65, drop=True)\n",
    "             .mean(dim='year')\n",
    "             .to_dataframe()\n",
    "             .sort_values(by=var, ascending=False)\n",
    "             .head(5)[var].index.to_list()\n",
    "            )"
   ]
  },
  {
   "cell_type": "code",
   "execution_count": null,
   "metadata": {
    "tags": []
   },
   "outputs": [],
   "source": [
    "var = 'exposures_total'\n",
    "age_band = 65\n",
    "\n",
    "_total_exposures = exposures_abs.sum(['latitude', 'longitude'])\n",
    "_total_exposures = _total_exposures.sel(age_band_lower_bound=age_band, drop=True).to_dataframe().heatwaves_days\n",
    "\n",
    "plot_data = (country_exposure_abs[var].sel(country=country_exposure_abs.country.isin(top_codes))\n",
    "           .sel(age_band_lower_bound=age_band, year=slice(1980,None),\n",
    "                drop=True)\n",
    "           .to_dataframe()[var]\n",
    "           .unstack().T)\n",
    "# Difference between sum of top5 countries and total gives the 'other' category\n",
    "plot_data['Other'] = _total_exposures - plot_data.sum(axis=1)\n",
    "# invert column order\n",
    "plot_data = plot_data[plot_data.columns[::-1]]\n",
    "\n",
    "f, ax = plt.subplots(figsize=(6.2, 2.5))\n",
    "(plot_data / 1e9).plot.bar(stacked=True, \n",
    "                         width=0.9, \n",
    "                         ax=ax,\n",
    "                         color=consistent_colors\n",
    "                        )\n",
    "\n",
    "ax.set(\n",
    "    xlabel='Year',\n",
    "    ylabel='Billion person-days',\n",
    "    title='Exposures of over 65s to heatwaves',\n",
    ")\n",
    "ax.xaxis.set_tick_params(labelsize='small')\n",
    "ax.yaxis.set_tick_params(labelsize='small')\n",
    "\n",
    "# Manually order the legend\n",
    "# handles, labels = ax.get_legend_handles_labels()\n",
    "# d = dict(zip(labels, handles))\n",
    "# iso_codes = ['CHN', 'IND', 'JPN', 'USA', 'IDN', 'Other']\n",
    "\n",
    "\n",
    "# ordered_handles = [d[l] for l in iso_codes]\n",
    "# ordered_labels = [_namelookup[l] for l in iso_codes]\n",
    "\n",
    "# ordered_handles = [d[l] for l in iso_codes]\n",
    "# ax.legend(ordered_handles, ordered_labels, fontsize='small')\n",
    "\n",
    "# f.savefig(RESULTS_FOLDER / f'hw_exposure_over65_countries_1980-{MAX_YEAR}.png')\n",
    "# f.savefig(RESULTS_FOLDER / f'hw_exposure_over65_countries_1980-{MAX_YEAR}.pdf')\n"
   ]
  },
  {
   "cell_type": "markdown",
   "metadata": {},
   "source": [
    "## HDI and WHO plots for appendix"
   ]
  },
  {
   "cell_type": "code",
   "execution_count": null,
   "metadata": {
    "tags": []
   },
   "outputs": [],
   "source": [
    "plot_data = (hdi_exposure\n",
    "             .exposures_weighted\n",
    "             .rolling(year=10)\n",
    "             .mean()\n",
    "             .to_dataframe()\n",
    "             .reset_index()\n",
    "             .rename(columns={'age_band_lower_bound': 'Age group',\n",
    "                                      'exposures_weighted': 'Heatwave days',\n",
    "                                      'level_of_human_development':'HDI class'})\n",
    "            )\n",
    "# plot_data[plot_data.age_band_lower_bound ==0]\n",
    "ax = sns.relplot(kind='line', data=plot_data,\n",
    "            x='year', y='Heatwave days', col='Age group', hue='HDI class',\n",
    "           facet_kws={'sharey': True})\n",
    "ax.figure.suptitle('10 year rolling mean of population-weighted heatwave days by HDI category', y=1.02)\n",
    "ax.figure.savefig(RESULTS_FOLDER / 'heatwave_days_by_hdi.png')"
   ]
  },
  {
   "cell_type": "code",
   "execution_count": null,
   "metadata": {
    "tags": []
   },
   "outputs": [],
   "source": [
    "plot_data = (who_exposure\n",
    "             .exposures_weighted\n",
    "             .rolling(year=10)\n",
    "             .mean()\n",
    "             .to_dataframe()\n",
    "             .reset_index()\n",
    "             .rename(columns={'age_band_lower_bound': 'Age group',\n",
    "                              'exposures_weighted': 'Heatwave days',\n",
    "                              'who_region':'WHO region'})\n",
    "            )\n",
    "# plot_data[plot_data.age_band_lower_bound ==0]\n",
    "ax = sns.relplot(kind='line', data=plot_data,\n",
    "            x='year', y='Heatwave days', col='Age group', hue='WHO region',\n",
    "           facet_kws={'sharey': True})\n",
    "ax.figure.suptitle('10 year rolling mean of population-weighted heatwave days by WHO Region', y=1.02)\n",
    "ax.figure.savefig(RESULTS_FOLDER / 'heatwave_days_by_who.png')"
   ]
  },
  {
   "cell_type": "code",
   "execution_count": null,
   "metadata": {},
   "outputs": [],
   "source": []
  }
 ],
 "metadata": {
  "kernelspec": {
   "display_name": "climada_venv",
   "language": "python",
   "name": "climada_venv"
  },
  "language_info": {
   "codemirror_mode": {
    "name": "ipython",
    "version": 3
   },
   "file_extension": ".py",
   "mimetype": "text/x-python",
   "name": "python",
   "nbconvert_exporter": "python",
   "pygments_lexer": "ipython3",
   "version": "3.10.4"
  }
 },
 "nbformat": 4,
 "nbformat_minor": 4
}
